{
 "cells": [
  {
   "cell_type": "code",
   "execution_count": 24,
   "metadata": {},
   "outputs": [],
   "source": [
    "import requests\n",
    "from bs4 import BeautifulSoup\n",
    "import pandas as pd\n",
    "\n",
    "user_agent = {'User-agent': 'Mozilla/5.0'}\n",
    "\n",
    "game_info_list = []  # List to store extracted game information\n",
    "\n",
    "for page in range(0,4):  # Set the range of pages you want to scrape (start, finish) (exclusive)\n",
    "    main_url = f'https://www.metacritic.com/browse/games/genre/date/turn-based/all?page={page}'\n",
    "    main_response = requests.get(main_url, headers=user_agent)\n",
    "    main_soup = BeautifulSoup(main_response.text, 'html.parser')\n",
    "\n",
    "    game_elements = main_soup.find_all('td', class_='clamp-image-wrap')  # Find all game elements through URL found in the product image \n",
    "    for game_element in game_elements:\n",
    "        game_url = 'https://www.metacritic.com' + game_element.find('a')['href']  # Extract game URL\n",
    "        game_response = requests.get(game_url, headers=user_agent)\n",
    "        game_soup = BeautifulSoup(game_response.text, 'html.parser')\n",
    "\n",
    "        release_date_element = game_soup.find('li', class_='summary_detail release_data')  # Find release date element\n",
    "        release_date = release_date_element.find('span', class_='data').text.strip() if release_date_element else ''  # Extract release date or set empty if not found\n",
    "\n",
    "        title_element = game_soup.find('h1') # Find game title element\n",
    "        title = title_element.text.strip() if title_element is not None else ''  # Extract title of the game or set empty if not found\n",
    "\n",
    "        platform_element = game_soup.find('span', class_='platform')  # Find platform element\n",
    "        platform = platform_element.text.strip() if platform_element else ''  # Extract platform or set empty if not found\n",
    "\n",
    "        rating_value_element = game_soup.find('span', itemprop='ratingValue') # Find the metascore value\n",
    "        rating_value = rating_value_element.text.strip() if rating_value_element else '' #Extract the metascore value or set empty if not found\n",
    "\n",
    "        developer_element = game_soup.find('li', class_='summary_detail developer')  # Find developer studio(s)\n",
    "        developer = developer_element.find('span', class_='data').text.strip() if developer_element else ''  # Extract developer studio(s) OR set empty '' if not found\n",
    "\n",
    "        game_info = {'title': title, 'release_date': release_date, 'platform': platform, 'rating_value': rating_value, 'developer': developer}          # Append the different variables in the underlying columns\n",
    "        game_info_list.append(game_info)\n",
    "\n",
    "game_info_df = pd.DataFrame(game_info_list)  # Convert list of dictionaries to DataFrame\n",
    "\n",
    "# Export DataFrame to CSV\n",
    "game_info_df.to_csv('C:/Users/Trabala/Desktop/Scrape_bs4/tb_game.csv', index=False)\n"
   ]
  }
 ],
 "metadata": {
  "kernelspec": {
   "display_name": "base",
   "language": "python",
   "name": "python3"
  },
  "language_info": {
   "codemirror_mode": {
    "name": "ipython",
    "version": 3
   },
   "file_extension": ".py",
   "mimetype": "text/x-python",
   "name": "python",
   "nbconvert_exporter": "python",
   "pygments_lexer": "ipython3",
   "version": "3.8.16"
  },
  "orig_nbformat": 4
 },
 "nbformat": 4,
 "nbformat_minor": 2
}
