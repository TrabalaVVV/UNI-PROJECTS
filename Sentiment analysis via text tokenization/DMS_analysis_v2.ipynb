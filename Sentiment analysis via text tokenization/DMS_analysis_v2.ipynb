{
 "cells": [
  {
   "cell_type": "code",
   "execution_count": 1,
   "metadata": {},
   "outputs": [],
   "source": [
    "# Importing Libraries\n",
    "import pandas as pd\n",
    "from pandas.errors import ParserError\n",
    "import re\n",
    "\n",
    "import datetime\n",
    "import numpy as np\n",
    "\n",
    "import matplotlib.pyplot as plt \n",
    "import matplotlib.gridspec as gridspec\n",
    "import seaborn as sns\n",
    "\n",
    "import nltk\n",
    "from sklearn.feature_extraction.text import TfidfVectorizer\n",
    "from sklearn.decomposition import NMF\n",
    "from sklearn.decomposition import PCA\n",
    "from sklearn.preprocessing import StandardScaler\n",
    "from sklearn.preprocessing import LabelEncoder\n",
    "\n",
    "import statsmodels.api as sm\n",
    "from scipy import stats\n",
    "from scipy.stats import spearmanr\n",
    "from scipy.stats import kruskal\n",
    "from scipy.stats import pearsonr\n",
    "import scikit_posthocs as sp\n",
    "import pingouin as pg\n",
    "from pymer4.models import Lmer\n",
    "\n",
    "import holidays"
   ]
  },
  {
   "cell_type": "markdown",
   "metadata": {},
   "source": [
    "# **<span style='color:#4267B2'>|</span> Digital Marketing Strategy Project**\n",
    "\n",
    "**by Viktor Varga**\n"
   ]
  },
  {
   "cell_type": "markdown",
   "metadata": {},
   "source": [
    "## 1. **Research question:**\n",
    "\n",
    "**<center>How can theme parks based in the USA optimize their interactions on Facebook fan pages to achieve maximum customer engagement, while simultaneously aligning with the goals of their communication strategy?**</center>\n",
    "\n",
    "### **Sub questions:**\n",
    "\n",
    "1.\t Which features of the text description influence user engagement?\n",
    "2.   What is the effect of different types of content of posts on user engagement?\n",
    "3.   How does the timing and contextual factors surrounding a post influence user engagement?"
   ]
  },
  {
   "cell_type": "code",
   "execution_count": 2,
   "metadata": {},
   "outputs": [],
   "source": [
    "# Importing datasets and handling bad lines - via ChatGPT\n",
    "def handle_bad_lines(e):\n",
    "    print(f\"Skipping line {e.line}: {e.message}\")\n",
    "    return None\n",
    "\n",
    "# Importing datasets with skipping bad lines\n",
    "try:\n",
    "    df = pd.read_csv(r\"df1.csv\", sep=\";\", encoding=\"cp1252\", engine='python', on_bad_lines=handle_bad_lines)\n",
    "except ParserError as e:\n",
    "    print(f\"Error reading df1.csv: {e}\")\n",
    "\n",
    "try:\n",
    "    df_2 = pd.read_csv(r\"df2.csv\", sep=\";\", encoding=\"cp1252\", engine='python', on_bad_lines=handle_bad_lines)\n",
    "except ParserError as e:\n",
    "    print(f\"Error reading df2.csv: {e}\")\n",
    "\n",
    "try:\n",
    "    df_3 = pd.read_csv(r\"df5.csv\", sep=\";\", encoding=\"cp1252\", engine='python', on_bad_lines=handle_bad_lines)\n",
    "except ParserError as e:\n",
    "    print(f\"Error reading df5.csv: {e}\")\n",
    "\n",
    "try:\n",
    "    df_4 = pd.read_csv(r\"df4.csv\", sep=\";\", encoding=\"cp1252\", engine='python', on_bad_lines=handle_bad_lines)\n",
    "except ParserError as e:\n",
    "    print(f\"Error reading df4.csv: {e}\")\n",
    "\n",
    "df_locations = pd.read_excel(r\"Park_location.xlsx\")\n"
   ]
  },
  {
   "cell_type": "code",
   "execution_count": 3,
   "metadata": {},
   "outputs": [],
   "source": [
    "# Merging the datasets\n",
    "df = pd.concat([df,df_2,df_3,df_4], axis=0, ignore_index=True)\n",
    "# Changing the \"profile\" column to string\n",
    "df[\"Profile\"] = df[\"Profile\"].astype(str)"
   ]
  },
  {
   "cell_type": "code",
   "execution_count": 4,
   "metadata": {},
   "outputs": [],
   "source": [
    "# Removing white space to the \"profile\" column are matching\n",
    "df_locations[\"Profile\"] = df_locations[\"Profile\"].astype(str)\n",
    "df_locations[\"Profile\"] = df_locations[\"Profile\"].str.strip()"
   ]
  },
  {
   "cell_type": "code",
   "execution_count": 5,
   "metadata": {},
   "outputs": [],
   "source": [
    "# Lowering case in both columns\n",
    "df[\"Profile\"] = df[\"Profile\"].apply(lambda x: x.lower())\n",
    "df_locations[\"Profile\"] = df_locations[\"Profile\"].apply(lambda x: x.lower())\n",
    "# Merging the two datasets to create the main dataset\n",
    "df_main = pd.merge(df, df_locations, on=\"Profile\",validate='many_to_one')"
   ]
  },
  {
   "cell_type": "code",
   "execution_count": 6,
   "metadata": {},
   "outputs": [
    {
     "data": {
      "text/html": [
       "<div>\n",
       "<style scoped>\n",
       "    .dataframe tbody tr th:only-of-type {\n",
       "        vertical-align: middle;\n",
       "    }\n",
       "\n",
       "    .dataframe tbody tr th {\n",
       "        vertical-align: top;\n",
       "    }\n",
       "\n",
       "    .dataframe thead th {\n",
       "        text-align: right;\n",
       "    }\n",
       "</style>\n",
       "<table border=\"1\" class=\"dataframe\">\n",
       "  <thead>\n",
       "    <tr style=\"text-align: right;\">\n",
       "      <th></th>\n",
       "      <th>Date</th>\n",
       "      <th>Profile</th>\n",
       "      <th>Message</th>\n",
       "      <th>Number of Reactions</th>\n",
       "      <th>Number of Shares</th>\n",
       "      <th>Number of Comments (primary)</th>\n",
       "      <th>Number of Shares.1</th>\n",
       "      <th>Comments per post</th>\n",
       "      <th>Comments on posts by fans</th>\n",
       "      <th>Post interaction</th>\n",
       "      <th>...</th>\n",
       "      <th>Link_x</th>\n",
       "      <th>Unnamed: 14</th>\n",
       "      <th>Location</th>\n",
       "      <th>Followers</th>\n",
       "      <th>Type</th>\n",
       "      <th>Link_y</th>\n",
       "      <th>Likes</th>\n",
       "      <th>Visitors</th>\n",
       "      <th>Rating</th>\n",
       "      <th>Income</th>\n",
       "    </tr>\n",
       "  </thead>\n",
       "  <tbody>\n",
       "    <tr>\n",
       "      <th>0</th>\n",
       "      <td>7/21/22 12:05 AM</td>\n",
       "      <td>cedar point</td>\n",
       "      <td>When you book a stay at Hotel Breakers, the fu...</td>\n",
       "      <td>282.0</td>\n",
       "      <td>NaN</td>\n",
       "      <td>34.0</td>\n",
       "      <td>23.0</td>\n",
       "      <td>41.0</td>\n",
       "      <td>41.0</td>\n",
       "      <td>0.000222</td>\n",
       "      <td>...</td>\n",
       "      <td>https://www.facebook.com/cedarpoint/photos/a.3...</td>\n",
       "      <td>NaN</td>\n",
       "      <td>Ohio,US</td>\n",
       "      <td>1500412</td>\n",
       "      <td>Amusement park</td>\n",
       "      <td>https://www.facebook.com/cedarpoint/</td>\n",
       "      <td>1563439</td>\n",
       "      <td>2208210</td>\n",
       "      <td>NaN</td>\n",
       "      <td>62689</td>\n",
       "    </tr>\n",
       "    <tr>\n",
       "      <th>1</th>\n",
       "      <td>7/18/22 9:00 PM</td>\n",
       "      <td>cedar point</td>\n",
       "      <td>It’s Truce Day at Cedar Point, and you’re invi...</td>\n",
       "      <td>264.0</td>\n",
       "      <td>NaN</td>\n",
       "      <td>31.0</td>\n",
       "      <td>53.0</td>\n",
       "      <td>37.0</td>\n",
       "      <td>37.0</td>\n",
       "      <td>0.000227</td>\n",
       "      <td>...</td>\n",
       "      <td>https://www.facebook.com/10625691462/posts/101...</td>\n",
       "      <td>NaN</td>\n",
       "      <td>Ohio,US</td>\n",
       "      <td>1500412</td>\n",
       "      <td>Amusement park</td>\n",
       "      <td>https://www.facebook.com/cedarpoint/</td>\n",
       "      <td>1563439</td>\n",
       "      <td>2208210</td>\n",
       "      <td>NaN</td>\n",
       "      <td>62689</td>\n",
       "    </tr>\n",
       "  </tbody>\n",
       "</table>\n",
       "<p>2 rows × 23 columns</p>\n",
       "</div>"
      ],
      "text/plain": [
       "               Date      Profile  \\\n",
       "0  7/21/22 12:05 AM  cedar point   \n",
       "1   7/18/22 9:00 PM  cedar point   \n",
       "\n",
       "                                             Message  Number of Reactions  \\\n",
       "0  When you book a stay at Hotel Breakers, the fu...                282.0   \n",
       "1  It’s Truce Day at Cedar Point, and you’re invi...                264.0   \n",
       "\n",
       "   Number of Shares  Number of Comments (primary)  Number of Shares.1  \\\n",
       "0               NaN                          34.0                23.0   \n",
       "1               NaN                          31.0                53.0   \n",
       "\n",
       "   Comments per post  Comments on posts by fans  Post interaction  ...  \\\n",
       "0               41.0                       41.0          0.000222  ...   \n",
       "1               37.0                       37.0          0.000227  ...   \n",
       "\n",
       "                                              Link_x  Unnamed: 14 Location  \\\n",
       "0  https://www.facebook.com/cedarpoint/photos/a.3...          NaN  Ohio,US   \n",
       "1  https://www.facebook.com/10625691462/posts/101...          NaN  Ohio,US   \n",
       "\n",
       "  Followers            Type                                Link_y    Likes  \\\n",
       "0   1500412  Amusement park  https://www.facebook.com/cedarpoint/  1563439   \n",
       "1   1500412  Amusement park  https://www.facebook.com/cedarpoint/  1563439   \n",
       "\n",
       "  Visitors Rating Income  \n",
       "0  2208210    NaN  62689  \n",
       "1  2208210    NaN  62689  \n",
       "\n",
       "[2 rows x 23 columns]"
      ]
     },
     "execution_count": 6,
     "metadata": {},
     "output_type": "execute_result"
    }
   ],
   "source": [
    "# Printing main df\n",
    "df_main.head(2)"
   ]
  },
  {
   "cell_type": "code",
   "execution_count": 7,
   "metadata": {},
   "outputs": [],
   "source": [
    "# Dropping unnecceassary columns\n",
    "df_main = df_main.drop(columns=['Link_y','Link_x', 'Visitors', 'Rating', 'Number of Shares', 'Unnamed: 14'])\n",
    "# Renaming columns\n",
    "df_main.rename(columns={'Number of Reactions': 'Reactions', 'Number of Shares.1': 'Shares', 'Comments per post': 'Comments', 'Comments on posts by fans': 'Comments_by_fans'}, inplace=True)\n",
    "# Dropping NaNs in the \"Profile column\"\n",
    "df_main = df_main.dropna(subset=['Profile'])"
   ]
  },
  {
   "cell_type": "markdown",
   "metadata": {},
   "source": [
    "## **<span style='color:#4267B2'>|</span> 2. Feature engineering:**"
   ]
  },
  {
   "cell_type": "markdown",
   "metadata": {},
   "source": [
    "### **<span style='color:#4267B2'>|</span> 2.1 Day and Time based features:**"
   ]
  },
  {
   "cell_type": "code",
   "execution_count": 8,
   "metadata": {},
   "outputs": [],
   "source": [
    "# Extracting Day of week from \"Date\" column\n",
    "df_main[\"Day\"] = pd.to_datetime(df_main[\"Date\"], format='%m/%d/%y %I:%M %p').dt.day_name()"
   ]
  },
  {
   "cell_type": "code",
   "execution_count": 9,
   "metadata": {},
   "outputs": [],
   "source": [
    "# Extracting Time from \"Date\" column\n",
    "df_main[\"Time\"] = pd.to_datetime(df_main[\"Date\"], format='%m/%d/%y %I:%M %p').dt.time\n",
    "# Grouping into Time categories (0 ; Night, 1 ; Lunch, 2 ; Afternoon, 3 ; Evening)\n",
    "df_main[\"TimeCategory\"] = df_main[\"Time\"].apply(lambda x: \n",
    "    0 if 5 <= x.hour < 12 else    # Morning: 5 am to 12 pm \n",
    "    1 if 12 <= x.hour < 17 else   # Afternoon: 12 pm to 5 pm\n",
    "    2 if 17 <= x.hour < 21 else   # Evening: 5 pm to 9 pm\n",
    "    3                            # Night: 9 pm to 4 am\n",
    ")"
   ]
  },
  {
   "cell_type": "code",
   "execution_count": 10,
   "metadata": {},
   "outputs": [],
   "source": [
    "# Making a text based column of \"TimeCategory\"\n",
    "# Defining a mapping function\n",
    "def map_time_category_to_text(time):\n",
    "    if time == 0:\n",
    "        return \"Morning\"\n",
    "    elif time == 1:\n",
    "        return \"Noon\"\n",
    "    elif time == 2:\n",
    "        return \"Evening\"\n",
    "    elif time == 3:\n",
    "        return \"Night\"\n",
    "# Creating a new column 'TimeCategoryText' using the mapping function\n",
    "df_main['TimeCategoryText'] = df_main['TimeCategory'].apply(map_time_category_to_text)"
   ]
  },
  {
   "cell_type": "code",
   "execution_count": 11,
   "metadata": {},
   "outputs": [
    {
     "data": {
      "text/html": [
       "<div>\n",
       "<style scoped>\n",
       "    .dataframe tbody tr th:only-of-type {\n",
       "        vertical-align: middle;\n",
       "    }\n",
       "\n",
       "    .dataframe tbody tr th {\n",
       "        vertical-align: top;\n",
       "    }\n",
       "\n",
       "    .dataframe thead th {\n",
       "        text-align: right;\n",
       "    }\n",
       "</style>\n",
       "<table border=\"1\" class=\"dataframe\">\n",
       "  <thead>\n",
       "    <tr style=\"text-align: right;\">\n",
       "      <th></th>\n",
       "      <th>Date</th>\n",
       "      <th>Profile</th>\n",
       "      <th>Message</th>\n",
       "      <th>Reactions</th>\n",
       "      <th>Number of Comments (primary)</th>\n",
       "      <th>Shares</th>\n",
       "      <th>Comments</th>\n",
       "      <th>Comments_by_fans</th>\n",
       "      <th>Post interaction</th>\n",
       "      <th>Engagement</th>\n",
       "      <th>...</th>\n",
       "      <th>Post-ID</th>\n",
       "      <th>Location</th>\n",
       "      <th>Followers</th>\n",
       "      <th>Type</th>\n",
       "      <th>Likes</th>\n",
       "      <th>Income</th>\n",
       "      <th>Day</th>\n",
       "      <th>Time</th>\n",
       "      <th>TimeCategory</th>\n",
       "      <th>TimeCategoryText</th>\n",
       "    </tr>\n",
       "  </thead>\n",
       "  <tbody>\n",
       "    <tr>\n",
       "      <th>0</th>\n",
       "      <td>7/21/22 12:05 AM</td>\n",
       "      <td>cedar point</td>\n",
       "      <td>When you book a stay at Hotel Breakers, the fu...</td>\n",
       "      <td>282.0</td>\n",
       "      <td>34.0</td>\n",
       "      <td>23.0</td>\n",
       "      <td>41.0</td>\n",
       "      <td>41.0</td>\n",
       "      <td>0.000222</td>\n",
       "      <td>0.000222</td>\n",
       "      <td>...</td>\n",
       "      <td>10625691462_10158936706621463</td>\n",
       "      <td>Ohio,US</td>\n",
       "      <td>1500412</td>\n",
       "      <td>Amusement park</td>\n",
       "      <td>1563439</td>\n",
       "      <td>62689</td>\n",
       "      <td>Thursday</td>\n",
       "      <td>00:05:00</td>\n",
       "      <td>3</td>\n",
       "      <td>Night</td>\n",
       "    </tr>\n",
       "    <tr>\n",
       "      <th>1</th>\n",
       "      <td>7/18/22 9:00 PM</td>\n",
       "      <td>cedar point</td>\n",
       "      <td>It’s Truce Day at Cedar Point, and you’re invi...</td>\n",
       "      <td>264.0</td>\n",
       "      <td>31.0</td>\n",
       "      <td>53.0</td>\n",
       "      <td>37.0</td>\n",
       "      <td>37.0</td>\n",
       "      <td>0.000227</td>\n",
       "      <td>0.000227</td>\n",
       "      <td>...</td>\n",
       "      <td>10625691462_10158933698001463</td>\n",
       "      <td>Ohio,US</td>\n",
       "      <td>1500412</td>\n",
       "      <td>Amusement park</td>\n",
       "      <td>1563439</td>\n",
       "      <td>62689</td>\n",
       "      <td>Monday</td>\n",
       "      <td>21:00:00</td>\n",
       "      <td>3</td>\n",
       "      <td>Night</td>\n",
       "    </tr>\n",
       "  </tbody>\n",
       "</table>\n",
       "<p>2 rows × 21 columns</p>\n",
       "</div>"
      ],
      "text/plain": [
       "               Date      Profile  \\\n",
       "0  7/21/22 12:05 AM  cedar point   \n",
       "1   7/18/22 9:00 PM  cedar point   \n",
       "\n",
       "                                             Message  Reactions  \\\n",
       "0  When you book a stay at Hotel Breakers, the fu...      282.0   \n",
       "1  It’s Truce Day at Cedar Point, and you’re invi...      264.0   \n",
       "\n",
       "   Number of Comments (primary)  Shares  Comments  Comments_by_fans  \\\n",
       "0                          34.0    23.0      41.0              41.0   \n",
       "1                          31.0    53.0      37.0              37.0   \n",
       "\n",
       "   Post interaction  Engagement  ...                        Post-ID Location  \\\n",
       "0          0.000222    0.000222  ...  10625691462_10158936706621463  Ohio,US   \n",
       "1          0.000227    0.000227  ...  10625691462_10158933698001463  Ohio,US   \n",
       "\n",
       "  Followers            Type    Likes Income       Day      Time TimeCategory  \\\n",
       "0   1500412  Amusement park  1563439  62689  Thursday  00:05:00            3   \n",
       "1   1500412  Amusement park  1563439  62689    Monday  21:00:00            3   \n",
       "\n",
       "   TimeCategoryText  \n",
       "0             Night  \n",
       "1             Night  \n",
       "\n",
       "[2 rows x 21 columns]"
      ]
     },
     "execution_count": 11,
     "metadata": {},
     "output_type": "execute_result"
    }
   ],
   "source": [
    "df_main.head(2)"
   ]
  },
  {
   "cell_type": "code",
   "execution_count": 12,
   "metadata": {},
   "outputs": [],
   "source": [
    "# Reformating the date column\n",
    "df_main[\"Date\"] = pd.to_datetime(df_main[\"Date\"], format='%m/%d/%y %I:%M %p')"
   ]
  },
  {
   "cell_type": "code",
   "execution_count": 13,
   "metadata": {},
   "outputs": [],
   "source": [
    "# Defining whether day of posting was a holiday or not\n",
    "US_holidays = holidays.US()\n",
    "df_main[\"Holiday\"] = df_main[\"Date\"].apply(lambda date: 1 if date in US_holidays or date.weekday() == 6 else 0)"
   ]
  },
  {
   "cell_type": "code",
   "execution_count": 14,
   "metadata": {},
   "outputs": [],
   "source": [
    "# Defining during what seasons have post been posted\n",
    "def get_month_season(date):\n",
    "    month_name = date.strftime('%B') # Get full month name in string form\n",
    "    \n",
    "    if month_name in ['December', 'January', 'February']:\n",
    "        return 'Winter'\n",
    "    elif month_name in ['March', 'April', 'May']:\n",
    "        return 'Spring'\n",
    "    elif month_name in ['June', 'July', 'August']:\n",
    "        return 'Summer'\n",
    "    else:\n",
    "        return 'Fall'\n",
    "    \n",
    "# Applying the function to the 'Date' column and create new 'MonthName' and 'Season' columns\n",
    "df_main['MonthName'] = df_main['Date'].apply(lambda x: x.strftime('%B'))\n",
    "df_main['Season'] = df_main['Date'].apply(lambda x: get_month_season(x))"
   ]
  },
  {
   "cell_type": "code",
   "execution_count": 15,
   "metadata": {},
   "outputs": [
    {
     "data": {
      "text/html": [
       "<div>\n",
       "<style scoped>\n",
       "    .dataframe tbody tr th:only-of-type {\n",
       "        vertical-align: middle;\n",
       "    }\n",
       "\n",
       "    .dataframe tbody tr th {\n",
       "        vertical-align: top;\n",
       "    }\n",
       "\n",
       "    .dataframe thead th {\n",
       "        text-align: right;\n",
       "    }\n",
       "</style>\n",
       "<table border=\"1\" class=\"dataframe\">\n",
       "  <thead>\n",
       "    <tr style=\"text-align: right;\">\n",
       "      <th></th>\n",
       "      <th>Date</th>\n",
       "      <th>Profile</th>\n",
       "      <th>Message</th>\n",
       "      <th>Reactions</th>\n",
       "      <th>Number of Comments (primary)</th>\n",
       "      <th>Shares</th>\n",
       "      <th>Comments</th>\n",
       "      <th>Comments_by_fans</th>\n",
       "      <th>Post interaction</th>\n",
       "      <th>Engagement</th>\n",
       "      <th>...</th>\n",
       "      <th>Type</th>\n",
       "      <th>Likes</th>\n",
       "      <th>Income</th>\n",
       "      <th>Day</th>\n",
       "      <th>Time</th>\n",
       "      <th>TimeCategory</th>\n",
       "      <th>TimeCategoryText</th>\n",
       "      <th>Holiday</th>\n",
       "      <th>MonthName</th>\n",
       "      <th>Season</th>\n",
       "    </tr>\n",
       "  </thead>\n",
       "  <tbody>\n",
       "    <tr>\n",
       "      <th>10488</th>\n",
       "      <td>2021-08-27 15:00:00</td>\n",
       "      <td>playland park</td>\n",
       "      <td>We made it to Friday! Join us tonight for fire...</td>\n",
       "      <td>25.0</td>\n",
       "      <td>2.0</td>\n",
       "      <td>1.0</td>\n",
       "      <td>2.0</td>\n",
       "      <td>2.0</td>\n",
       "      <td>NaN</td>\n",
       "      <td>NaN</td>\n",
       "      <td>...</td>\n",
       "      <td>Theme City</td>\n",
       "      <td>NaN</td>\n",
       "      <td>72920</td>\n",
       "      <td>Friday</td>\n",
       "      <td>15:00:00</td>\n",
       "      <td>1</td>\n",
       "      <td>Noon</td>\n",
       "      <td>0</td>\n",
       "      <td>August</td>\n",
       "      <td>Summer</td>\n",
       "    </tr>\n",
       "    <tr>\n",
       "      <th>10489</th>\n",
       "      <td>2021-08-26 18:00:00</td>\n",
       "      <td>playland park</td>\n",
       "      <td>Two nights of fireworks begin tonight, Thursda...</td>\n",
       "      <td>39.0</td>\n",
       "      <td>3.0</td>\n",
       "      <td>1.0</td>\n",
       "      <td>3.0</td>\n",
       "      <td>3.0</td>\n",
       "      <td>NaN</td>\n",
       "      <td>NaN</td>\n",
       "      <td>...</td>\n",
       "      <td>Theme City</td>\n",
       "      <td>NaN</td>\n",
       "      <td>72920</td>\n",
       "      <td>Thursday</td>\n",
       "      <td>18:00:00</td>\n",
       "      <td>2</td>\n",
       "      <td>Evening</td>\n",
       "      <td>0</td>\n",
       "      <td>August</td>\n",
       "      <td>Summer</td>\n",
       "    </tr>\n",
       "    <tr>\n",
       "      <th>10490</th>\n",
       "      <td>2021-08-25 18:00:00</td>\n",
       "      <td>playland park</td>\n",
       "      <td>Reminder: Special fireworks display tomorrow, ...</td>\n",
       "      <td>10.0</td>\n",
       "      <td>0.0</td>\n",
       "      <td>0.0</td>\n",
       "      <td>0.0</td>\n",
       "      <td>0.0</td>\n",
       "      <td>NaN</td>\n",
       "      <td>NaN</td>\n",
       "      <td>...</td>\n",
       "      <td>Theme City</td>\n",
       "      <td>NaN</td>\n",
       "      <td>72920</td>\n",
       "      <td>Wednesday</td>\n",
       "      <td>18:00:00</td>\n",
       "      <td>2</td>\n",
       "      <td>Evening</td>\n",
       "      <td>0</td>\n",
       "      <td>August</td>\n",
       "      <td>Summer</td>\n",
       "    </tr>\n",
       "    <tr>\n",
       "      <th>10491</th>\n",
       "      <td>2021-08-25 15:00:00</td>\n",
       "      <td>playland park</td>\n",
       "      <td>Put Playland Park on your summer to-do list an...</td>\n",
       "      <td>29.0</td>\n",
       "      <td>0.0</td>\n",
       "      <td>2.0</td>\n",
       "      <td>0.0</td>\n",
       "      <td>0.0</td>\n",
       "      <td>NaN</td>\n",
       "      <td>NaN</td>\n",
       "      <td>...</td>\n",
       "      <td>Theme City</td>\n",
       "      <td>NaN</td>\n",
       "      <td>72920</td>\n",
       "      <td>Wednesday</td>\n",
       "      <td>15:00:00</td>\n",
       "      <td>1</td>\n",
       "      <td>Noon</td>\n",
       "      <td>0</td>\n",
       "      <td>August</td>\n",
       "      <td>Summer</td>\n",
       "    </tr>\n",
       "    <tr>\n",
       "      <th>10492</th>\n",
       "      <td>2021-08-24 18:00:00</td>\n",
       "      <td>playland park</td>\n",
       "      <td>So nice, we're doing it twice! Join us for a s...</td>\n",
       "      <td>14.0</td>\n",
       "      <td>0.0</td>\n",
       "      <td>2.0</td>\n",
       "      <td>0.0</td>\n",
       "      <td>0.0</td>\n",
       "      <td>NaN</td>\n",
       "      <td>NaN</td>\n",
       "      <td>...</td>\n",
       "      <td>Theme City</td>\n",
       "      <td>NaN</td>\n",
       "      <td>72920</td>\n",
       "      <td>Tuesday</td>\n",
       "      <td>18:00:00</td>\n",
       "      <td>2</td>\n",
       "      <td>Evening</td>\n",
       "      <td>0</td>\n",
       "      <td>August</td>\n",
       "      <td>Summer</td>\n",
       "    </tr>\n",
       "    <tr>\n",
       "      <th>10493</th>\n",
       "      <td>2021-08-21 17:45:00</td>\n",
       "      <td>playland park</td>\n",
       "      <td>Due to the latest updates surrounding the weat...</td>\n",
       "      <td>16.0</td>\n",
       "      <td>2.0</td>\n",
       "      <td>2.0</td>\n",
       "      <td>3.0</td>\n",
       "      <td>3.0</td>\n",
       "      <td>NaN</td>\n",
       "      <td>NaN</td>\n",
       "      <td>...</td>\n",
       "      <td>Theme City</td>\n",
       "      <td>NaN</td>\n",
       "      <td>72920</td>\n",
       "      <td>Saturday</td>\n",
       "      <td>17:45:00</td>\n",
       "      <td>2</td>\n",
       "      <td>Evening</td>\n",
       "      <td>0</td>\n",
       "      <td>August</td>\n",
       "      <td>Summer</td>\n",
       "    </tr>\n",
       "    <tr>\n",
       "      <th>10494</th>\n",
       "      <td>2021-08-21 15:00:00</td>\n",
       "      <td>playland park</td>\n",
       "      <td>Everything is better with music, right? The DJ...</td>\n",
       "      <td>17.0</td>\n",
       "      <td>0.0</td>\n",
       "      <td>0.0</td>\n",
       "      <td>0.0</td>\n",
       "      <td>0.0</td>\n",
       "      <td>NaN</td>\n",
       "      <td>NaN</td>\n",
       "      <td>...</td>\n",
       "      <td>Theme City</td>\n",
       "      <td>NaN</td>\n",
       "      <td>72920</td>\n",
       "      <td>Saturday</td>\n",
       "      <td>15:00:00</td>\n",
       "      <td>1</td>\n",
       "      <td>Noon</td>\n",
       "      <td>0</td>\n",
       "      <td>August</td>\n",
       "      <td>Summer</td>\n",
       "    </tr>\n",
       "    <tr>\n",
       "      <th>10495</th>\n",
       "      <td>2021-08-20 15:00:00</td>\n",
       "      <td>playland park</td>\n",
       "      <td>Only a few more Friday night fireworks left th...</td>\n",
       "      <td>25.0</td>\n",
       "      <td>2.0</td>\n",
       "      <td>0.0</td>\n",
       "      <td>4.0</td>\n",
       "      <td>4.0</td>\n",
       "      <td>NaN</td>\n",
       "      <td>NaN</td>\n",
       "      <td>...</td>\n",
       "      <td>Theme City</td>\n",
       "      <td>NaN</td>\n",
       "      <td>72920</td>\n",
       "      <td>Friday</td>\n",
       "      <td>15:00:00</td>\n",
       "      <td>1</td>\n",
       "      <td>Noon</td>\n",
       "      <td>0</td>\n",
       "      <td>August</td>\n",
       "      <td>Summer</td>\n",
       "    </tr>\n",
       "  </tbody>\n",
       "</table>\n",
       "<p>8 rows × 24 columns</p>\n",
       "</div>"
      ],
      "text/plain": [
       "                     Date        Profile  \\\n",
       "10488 2021-08-27 15:00:00  playland park   \n",
       "10489 2021-08-26 18:00:00  playland park   \n",
       "10490 2021-08-25 18:00:00  playland park   \n",
       "10491 2021-08-25 15:00:00  playland park   \n",
       "10492 2021-08-24 18:00:00  playland park   \n",
       "10493 2021-08-21 17:45:00  playland park   \n",
       "10494 2021-08-21 15:00:00  playland park   \n",
       "10495 2021-08-20 15:00:00  playland park   \n",
       "\n",
       "                                                 Message  Reactions  \\\n",
       "10488  We made it to Friday! Join us tonight for fire...       25.0   \n",
       "10489  Two nights of fireworks begin tonight, Thursda...       39.0   \n",
       "10490  Reminder: Special fireworks display tomorrow, ...       10.0   \n",
       "10491  Put Playland Park on your summer to-do list an...       29.0   \n",
       "10492  So nice, we're doing it twice! Join us for a s...       14.0   \n",
       "10493  Due to the latest updates surrounding the weat...       16.0   \n",
       "10494  Everything is better with music, right? The DJ...       17.0   \n",
       "10495  Only a few more Friday night fireworks left th...       25.0   \n",
       "\n",
       "       Number of Comments (primary)  Shares  Comments  Comments_by_fans  \\\n",
       "10488                           2.0     1.0       2.0               2.0   \n",
       "10489                           3.0     1.0       3.0               3.0   \n",
       "10490                           0.0     0.0       0.0               0.0   \n",
       "10491                           0.0     2.0       0.0               0.0   \n",
       "10492                           0.0     2.0       0.0               0.0   \n",
       "10493                           2.0     2.0       3.0               3.0   \n",
       "10494                           0.0     0.0       0.0               0.0   \n",
       "10495                           2.0     0.0       4.0               4.0   \n",
       "\n",
       "       Post interaction  Engagement  ...        Type Likes Income        Day  \\\n",
       "10488               NaN         NaN  ...  Theme City   NaN  72920     Friday   \n",
       "10489               NaN         NaN  ...  Theme City   NaN  72920   Thursday   \n",
       "10490               NaN         NaN  ...  Theme City   NaN  72920  Wednesday   \n",
       "10491               NaN         NaN  ...  Theme City   NaN  72920  Wednesday   \n",
       "10492               NaN         NaN  ...  Theme City   NaN  72920    Tuesday   \n",
       "10493               NaN         NaN  ...  Theme City   NaN  72920   Saturday   \n",
       "10494               NaN         NaN  ...  Theme City   NaN  72920   Saturday   \n",
       "10495               NaN         NaN  ...  Theme City   NaN  72920     Friday   \n",
       "\n",
       "           Time TimeCategory  TimeCategoryText Holiday MonthName  Season  \n",
       "10488  15:00:00            1              Noon       0    August  Summer  \n",
       "10489  18:00:00            2           Evening       0    August  Summer  \n",
       "10490  18:00:00            2           Evening       0    August  Summer  \n",
       "10491  15:00:00            1              Noon       0    August  Summer  \n",
       "10492  18:00:00            2           Evening       0    August  Summer  \n",
       "10493  17:45:00            2           Evening       0    August  Summer  \n",
       "10494  15:00:00            1              Noon       0    August  Summer  \n",
       "10495  15:00:00            1              Noon       0    August  Summer  \n",
       "\n",
       "[8 rows x 24 columns]"
      ]
     },
     "execution_count": 15,
     "metadata": {},
     "output_type": "execute_result"
    }
   ],
   "source": [
    "df_main.tail(8)"
   ]
  },
  {
   "cell_type": "markdown",
   "metadata": {},
   "source": [
    "### <span style='color:#4267B2'>|</span> **2.2 Text based features**"
   ]
  },
  {
   "cell_type": "code",
   "execution_count": 16,
   "metadata": {},
   "outputs": [],
   "source": [
    "# Counting number of #s in post description\n",
    "df_main[\"Hashtags\"] = df_main[\"Message\"].apply(lambda x: x.count(\"#\"))\n",
    "# Measuring length of text in post description\n",
    "df_main[\"Length\"] = (df_main[\"Message\"].apply(lambda x: x.count(\" \")) + 2)\n"
   ]
  },
  {
   "cell_type": "markdown",
   "metadata": {},
   "source": [
    "### **Gunning Fog index**\n"
   ]
  },
  {
   "cell_type": "code",
   "execution_count": 17,
   "metadata": {},
   "outputs": [],
   "source": [
    "# Cleaning text before the formula is applied\n",
    "# Storing the text in a seperate variable\n",
    "raw_text = df_main[\"Message\"]\n",
    "# Defining a function to clean the text\n",
    "def clean_text(text):\n",
    "    # Removing emojis\n",
    "    text = re.sub(r\"[\\U00010000-\\U0010ffff]\", \"\", text)\n",
    "    \n",
    "    # Removing URLs\n",
    "    text = re.sub(r\"http\\S+|www\\S+|https\\S+|bit\\.ly\\S+\", \"\", text, flags=re.MULTILINE)\n",
    "    \n",
    "    # Removing hashtags\n",
    "    text = re.sub(r\"#\\S+\", \"\", text)\n",
    "    \n",
    "    return text\n",
    "\n",
    "# Applying the function to the \"Message\" column\n",
    "df_main[\"Cleaned_Message\"] = raw_text.apply(clean_text)"
   ]
  },
  {
   "cell_type": "code",
   "execution_count": 18,
   "metadata": {},
   "outputs": [],
   "source": [
    "# Tokenizing the text into sentences using nltk module\n",
    "def segment_sentences(text):\n",
    "    sentences = nltk.sent_tokenize(text)\n",
    "    return sentences\n",
    "\n",
    "df_main['Sentences'] = df_main['Cleaned_Message'].apply(segment_sentences)"
   ]
  },
  {
   "cell_type": "code",
   "execution_count": 19,
   "metadata": {},
   "outputs": [
    {
     "data": {
      "text/html": [
       "<div>\n",
       "<style scoped>\n",
       "    .dataframe tbody tr th:only-of-type {\n",
       "        vertical-align: middle;\n",
       "    }\n",
       "\n",
       "    .dataframe tbody tr th {\n",
       "        vertical-align: top;\n",
       "    }\n",
       "\n",
       "    .dataframe thead th {\n",
       "        text-align: right;\n",
       "    }\n",
       "</style>\n",
       "<table border=\"1\" class=\"dataframe\">\n",
       "  <thead>\n",
       "    <tr style=\"text-align: right;\">\n",
       "      <th></th>\n",
       "      <th>Cleaned_Message</th>\n",
       "      <th>Sentences</th>\n",
       "    </tr>\n",
       "  </thead>\n",
       "  <tbody>\n",
       "    <tr>\n",
       "      <th>0</th>\n",
       "      <td>When you book a stay at Hotel Breakers, the fu...</td>\n",
       "      <td>[When you book a stay at Hotel Breakers, the f...</td>\n",
       "    </tr>\n",
       "    <tr>\n",
       "      <th>1</th>\n",
       "      <td>It’s Truce Day at Cedar Point, and you’re invi...</td>\n",
       "      <td>[It’s Truce Day at Cedar Point, and you’re inv...</td>\n",
       "    </tr>\n",
       "    <tr>\n",
       "      <th>2</th>\n",
       "      <td>Curtis the cow is awful hungry at The Barnyard...</td>\n",
       "      <td>[Curtis the cow is awful hungry at The Barnyar...</td>\n",
       "    </tr>\n",
       "    <tr>\n",
       "      <th>3</th>\n",
       "      <td>Which team do you got on Gemini?Comment \"??\" f...</td>\n",
       "      <td>[Which team do you got on Gemini?Comment \"??\",...</td>\n",
       "    </tr>\n",
       "    <tr>\n",
       "      <th>4</th>\n",
       "      <td>?Announcing a new member of our social media t...</td>\n",
       "      <td>[?Announcing a new member of our social media ...</td>\n",
       "    </tr>\n",
       "    <tr>\n",
       "      <th>5</th>\n",
       "      <td>?The category is...ORNAMENTS?It's NEVER too ea...</td>\n",
       "      <td>[?The category is...ORNAMENTS?It's NEVER too e...</td>\n",
       "    </tr>\n",
       "  </tbody>\n",
       "</table>\n",
       "</div>"
      ],
      "text/plain": [
       "                                     Cleaned_Message  \\\n",
       "0  When you book a stay at Hotel Breakers, the fu...   \n",
       "1  It’s Truce Day at Cedar Point, and you’re invi...   \n",
       "2  Curtis the cow is awful hungry at The Barnyard...   \n",
       "3  Which team do you got on Gemini?Comment \"??\" f...   \n",
       "4  ?Announcing a new member of our social media t...   \n",
       "5  ?The category is...ORNAMENTS?It's NEVER too ea...   \n",
       "\n",
       "                                           Sentences  \n",
       "0  [When you book a stay at Hotel Breakers, the f...  \n",
       "1  [It’s Truce Day at Cedar Point, and you’re inv...  \n",
       "2  [Curtis the cow is awful hungry at The Barnyar...  \n",
       "3  [Which team do you got on Gemini?Comment \"??\",...  \n",
       "4  [?Announcing a new member of our social media ...  \n",
       "5  [?The category is...ORNAMENTS?It's NEVER too e...  "
      ]
     },
     "execution_count": 19,
     "metadata": {},
     "output_type": "execute_result"
    }
   ],
   "source": [
    "# Observing how cleaned the text is\n",
    "df_main[['Cleaned_Message','Sentences']].head(6)"
   ]
  },
  {
   "cell_type": "code",
   "execution_count": 20,
   "metadata": {},
   "outputs": [],
   "source": [
    "# Further cleaning the sentences column\n",
    "def clean_sentences(sentences):\n",
    "    cleaned_sentences = []\n",
    "\n",
    "    for sentence in sentences:\n",
    "        # Remove \"?\" at the beginning of sentences\n",
    "        sentence = re.sub(r'^\\?', '', sentence)\n",
    "        \n",
    "        # Remove \"?\" within sentences\n",
    "        sentence = sentence.replace('?', '')\n",
    "        \n",
    "        # Remove extra whitespaces\n",
    "        sentence = ' '.join(sentence.split())\n",
    "\n",
    "        cleaned_sentences.append(sentence)\n",
    "\n",
    "    return cleaned_sentences\n",
    "\n",
    "df_main['Cleaned_Sentences'] = df_main['Sentences'].apply(clean_sentences)"
   ]
  },
  {
   "cell_type": "code",
   "execution_count": 21,
   "metadata": {},
   "outputs": [],
   "source": [
    "# Defining the function that utilizes the Gunning Fog formula\n",
    "def calculate_gunning_fog(sentences):\n",
    "    # Counting the number of words and complex words\n",
    "    num_words = 0\n",
    "    num_complex_words = 0\n",
    "\n",
    "    for sentence in sentences:\n",
    "        words = nltk.word_tokenize(sentence)\n",
    "        num_words += len(words)\n",
    "        for word in words:\n",
    "            if len(word) >= 3 and len(re.findall('[aeiouyAEIOUY]+', word)) >= 3:\n",
    "                num_complex_words += 1\n",
    "\n",
    "    # Calculating the Gunning-Fog score\n",
    "    if num_words == 0:\n",
    "        return 0\n",
    "    else:\n",
    "        return 0.4 * ((num_words / len(sentences)) + (100 * (num_complex_words / num_words)))\n",
    "    \n",
    "# Applying the function on the dataset\n",
    "df_main['Gunning_Fog_Score'] = df_main['Cleaned_Sentences'].apply(calculate_gunning_fog)"
   ]
  },
  {
   "cell_type": "code",
   "execution_count": 22,
   "metadata": {},
   "outputs": [
    {
     "data": {
      "text/html": [
       "<div>\n",
       "<style scoped>\n",
       "    .dataframe tbody tr th:only-of-type {\n",
       "        vertical-align: middle;\n",
       "    }\n",
       "\n",
       "    .dataframe tbody tr th {\n",
       "        vertical-align: top;\n",
       "    }\n",
       "\n",
       "    .dataframe thead th {\n",
       "        text-align: right;\n",
       "    }\n",
       "</style>\n",
       "<table border=\"1\" class=\"dataframe\">\n",
       "  <thead>\n",
       "    <tr style=\"text-align: right;\">\n",
       "      <th></th>\n",
       "      <th>Gunning_Fog_Score</th>\n",
       "      <th>Cleaned_Sentences</th>\n",
       "    </tr>\n",
       "  </thead>\n",
       "  <tbody>\n",
       "    <tr>\n",
       "      <th>0</th>\n",
       "      <td>8.333333</td>\n",
       "      <td>[When you book a stay at Hotel Breakers, the f...</td>\n",
       "    </tr>\n",
       "    <tr>\n",
       "      <th>1</th>\n",
       "      <td>8.978049</td>\n",
       "      <td>[It’s Truce Day at Cedar Point, and you’re inv...</td>\n",
       "    </tr>\n",
       "    <tr>\n",
       "      <th>2</th>\n",
       "      <td>2.600000</td>\n",
       "      <td>[Curtis the cow is awful hungry at The Barnyar...</td>\n",
       "    </tr>\n",
       "    <tr>\n",
       "      <th>3</th>\n",
       "      <td>4.228571</td>\n",
       "      <td>[Which team do you got on GeminiComment \"\", fo...</td>\n",
       "    </tr>\n",
       "    <tr>\n",
       "      <th>4</th>\n",
       "      <td>16.266667</td>\n",
       "      <td>[Announcing a new member of our social media t...</td>\n",
       "    </tr>\n",
       "    <tr>\n",
       "      <th>5</th>\n",
       "      <td>13.295652</td>\n",
       "      <td>[The category is...ORNAMENTSIt's NEVER too ear...</td>\n",
       "    </tr>\n",
       "    <tr>\n",
       "      <th>6</th>\n",
       "      <td>1.600000</td>\n",
       "      <td>[, It's a good week to have a good week at Ced...</td>\n",
       "    </tr>\n",
       "    <tr>\n",
       "      <th>7</th>\n",
       "      <td>7.182439</td>\n",
       "      <td>[Sawmill Creek HIRING EVENT, Tuesday, July 12,...</td>\n",
       "    </tr>\n",
       "    <tr>\n",
       "      <th>8</th>\n",
       "      <td>6.051541</td>\n",
       "      <td>[, \"Hey, hey it's gonna be great!, Come &amp; join...</td>\n",
       "    </tr>\n",
       "    <tr>\n",
       "      <th>9</th>\n",
       "      <td>10.333333</td>\n",
       "      <td>[What was the world's FIRST giga coaster, Mill...</td>\n",
       "    </tr>\n",
       "  </tbody>\n",
       "</table>\n",
       "</div>"
      ],
      "text/plain": [
       "   Gunning_Fog_Score                                  Cleaned_Sentences\n",
       "0           8.333333  [When you book a stay at Hotel Breakers, the f...\n",
       "1           8.978049  [It’s Truce Day at Cedar Point, and you’re inv...\n",
       "2           2.600000  [Curtis the cow is awful hungry at The Barnyar...\n",
       "3           4.228571  [Which team do you got on GeminiComment \"\", fo...\n",
       "4          16.266667  [Announcing a new member of our social media t...\n",
       "5          13.295652  [The category is...ORNAMENTSIt's NEVER too ear...\n",
       "6           1.600000  [, It's a good week to have a good week at Ced...\n",
       "7           7.182439  [Sawmill Creek HIRING EVENT, Tuesday, July 12,...\n",
       "8           6.051541  [, \"Hey, hey it's gonna be great!, Come & join...\n",
       "9          10.333333  [What was the world's FIRST giga coaster, Mill..."
      ]
     },
     "execution_count": 22,
     "metadata": {},
     "output_type": "execute_result"
    }
   ],
   "source": [
    "# Final observation\n",
    "df_main[['Gunning_Fog_Score', 'Cleaned_Sentences']].head(10)"
   ]
  },
  {
   "cell_type": "markdown",
   "metadata": {},
   "source": [
    "### **Topic Modelling**"
   ]
  },
  {
   "cell_type": "code",
   "execution_count": 23,
   "metadata": {},
   "outputs": [
    {
     "name": "stdout",
     "output_type": "stream",
     "text": [
      "<class 'pandas.core.frame.DataFrame'>\n",
      "RangeIndex: 10496 entries, 0 to 10495\n",
      "Data columns (total 30 columns):\n",
      " #   Column                        Non-Null Count  Dtype         \n",
      "---  ------                        --------------  -----         \n",
      " 0   Date                          10496 non-null  datetime64[ns]\n",
      " 1   Profile                       10496 non-null  object        \n",
      " 2   Message                       10496 non-null  object        \n",
      " 3   Reactions                     10496 non-null  float64       \n",
      " 4   Number of Comments (primary)  10496 non-null  float64       \n",
      " 5   Shares                        10496 non-null  float64       \n",
      " 6   Comments                      10496 non-null  float64       \n",
      " 7   Comments_by_fans              10496 non-null  float64       \n",
      " 8   Post interaction              8998 non-null   float64       \n",
      " 9   Engagement                    8998 non-null   float64       \n",
      " 10  Profile-ID                    10496 non-null  float64       \n",
      " 11  Post-ID                       10496 non-null  object        \n",
      " 12  Location                      10496 non-null  object        \n",
      " 13  Followers                     10496 non-null  object        \n",
      " 14  Type                          10496 non-null  object        \n",
      " 15  Likes                         9739 non-null   object        \n",
      " 16  Income                        10496 non-null  int64         \n",
      " 17  Day                           10496 non-null  object        \n",
      " 18  Time                          10496 non-null  object        \n",
      " 19  TimeCategory                  10496 non-null  int64         \n",
      " 20  TimeCategoryText              10496 non-null  object        \n",
      " 21  Holiday                       10496 non-null  int64         \n",
      " 22  MonthName                     10496 non-null  object        \n",
      " 23  Season                        10496 non-null  object        \n",
      " 24  Hashtags                      10496 non-null  int64         \n",
      " 25  Length                        10496 non-null  int64         \n",
      " 26  Cleaned_Message               10496 non-null  object        \n",
      " 27  Sentences                     10496 non-null  object        \n",
      " 28  Cleaned_Sentences             10496 non-null  object        \n",
      " 29  Gunning_Fog_Score             10496 non-null  float64       \n",
      "dtypes: datetime64[ns](1), float64(9), int64(5), object(15)\n",
      "memory usage: 2.4+ MB\n"
     ]
    }
   ],
   "source": [
    "df_main.info()"
   ]
  },
  {
   "cell_type": "code",
   "execution_count": 24,
   "metadata": {},
   "outputs": [
    {
     "name": "stdout",
     "output_type": "stream",
     "text": [
      "Topic 0:\n",
      "weekend, food, festival, ready, seas, seven, concerts, tonight, admission, come, join, sunday, included, available, seating\n",
      "Topic 1:\n",
      "pass, season, 2022, unlimited, free, 2023, visits, buy, gold, year, price, purchase, rest, parking, member\n",
      "Topic 2:\n",
      "thrill, fun, family, finest, arizona, 7575, 997, 602, park, castles, coasters, arizonas, golf, arcade, mini\n",
      "Topic 3:\n",
      "happy, hollow, day, birthday, zoo, year, animals, animal, thanksgiving, team, new, happyhollow, wishing, celebrate, mother\n",
      "Topic 4:\n",
      "tickets, sale, save, passes, ends, don, offer, cards, miss, hurry, purchase, fun, friday, buy, link\n",
      "Topic 5:\n",
      "halloween, boo, trick, fest, gilroy, enjoy, fall, gardens, night, october, fun, fright, spooktacular, event, experience\n",
      "Topic 6:\n",
      "holiday, christmas, lights, new, santa, park, magic, celebration, town, event, merry, nov, season, year, holidays\n",
      "Topic 7:\n",
      "day, open, today, park, summer, visit, water, 10, come, ride, pm, sunday, hours, rides, tomorrow\n"
     ]
    },
    {
     "name": "stderr",
     "output_type": "stream",
     "text": [
      "c:\\Users\\Trabala\\anaconda3\\lib\\site-packages\\sklearn\\decomposition\\_nmf.py:1710: ConvergenceWarning: Maximum number of iterations 200 reached. Increase it to improve convergence.\n",
      "  warnings.warn(\n"
     ]
    }
   ],
   "source": [
    "# Initiaite the TfidfVectorizer with desired settings\n",
    "vectorizer = TfidfVectorizer(max_df=0.95, min_df=2, stop_words=\"english\")\n",
    "\n",
    "# Fitting and transforming the text data\n",
    "tfidf = vectorizer.fit_transform(df_main['Cleaned_Sentences'].apply(lambda x: ' '.join(x)))\n",
    "# Set the NMF model with desired number of topics (k)\n",
    "k = 8\n",
    "nmf_model = NMF(n_components=k, random_state=42)\n",
    "\n",
    "# Fitting the model to the tfidf matrix\n",
    "nmf_model.fit(tfidf)\n",
    "\n",
    "# extract the feature names from the vectorizer\n",
    "feature_names = vectorizer.get_feature_names_out()\n",
    "\n",
    "# print the top 10 words for each topic\n",
    "for topic_idx, topic in enumerate(nmf_model.components_):\n",
    "    print(\"Topic %d:\" % (topic_idx))\n",
    "    print(\", \".join([feature_names[i] for i in topic.argsort()[:-15 - 1:-1]]))"
   ]
  },
  {
   "cell_type": "markdown",
   "metadata": {},
   "source": [
    "### **Based on these keywords, the topics can get categories into the specific content types as follows:**\n",
    "\n",
    "Topic 0 : Information post\n",
    "\n",
    "Topic 1: Renumeration post\n",
    "\n",
    "Topic 2: Entertainment post\n",
    "\n",
    "Topic 3: Entertainment post\n",
    "\n",
    "Topic 4: Renumeration post\n",
    "\n",
    "Topic 5: Entertainment post\n",
    "\n",
    "Topic 6: Entertainment post\n",
    "\n",
    "Topic 7: Information post\n",
    "\n",
    "*Note: based on these keywords we were not able to clearly identify any \"Social\" posts, so we will be ommiting this category in this research*"
   ]
  },
  {
   "cell_type": "code",
   "execution_count": 25,
   "metadata": {},
   "outputs": [
    {
     "data": {
      "text/html": [
       "<div>\n",
       "<style scoped>\n",
       "    .dataframe tbody tr th:only-of-type {\n",
       "        vertical-align: middle;\n",
       "    }\n",
       "\n",
       "    .dataframe tbody tr th {\n",
       "        vertical-align: top;\n",
       "    }\n",
       "\n",
       "    .dataframe thead th {\n",
       "        text-align: right;\n",
       "    }\n",
       "</style>\n",
       "<table border=\"1\" class=\"dataframe\">\n",
       "  <thead>\n",
       "    <tr style=\"text-align: right;\">\n",
       "      <th></th>\n",
       "      <th>Cleaned_Sentences</th>\n",
       "      <th>Gunning_Fog_Score</th>\n",
       "      <th>Dominant_Topic</th>\n",
       "    </tr>\n",
       "  </thead>\n",
       "  <tbody>\n",
       "    <tr>\n",
       "      <th>0</th>\n",
       "      <td>[When you book a stay at Hotel Breakers, the f...</td>\n",
       "      <td>8.333333</td>\n",
       "      <td>1</td>\n",
       "    </tr>\n",
       "    <tr>\n",
       "      <th>1</th>\n",
       "      <td>[It’s Truce Day at Cedar Point, and you’re inv...</td>\n",
       "      <td>8.978049</td>\n",
       "      <td>7</td>\n",
       "    </tr>\n",
       "    <tr>\n",
       "      <th>2</th>\n",
       "      <td>[Curtis the cow is awful hungry at The Barnyar...</td>\n",
       "      <td>2.600000</td>\n",
       "      <td>7</td>\n",
       "    </tr>\n",
       "    <tr>\n",
       "      <th>3</th>\n",
       "      <td>[Which team do you got on GeminiComment \"\", fo...</td>\n",
       "      <td>4.228571</td>\n",
       "      <td>3</td>\n",
       "    </tr>\n",
       "    <tr>\n",
       "      <th>4</th>\n",
       "      <td>[Announcing a new member of our social media t...</td>\n",
       "      <td>16.266667</td>\n",
       "      <td>6</td>\n",
       "    </tr>\n",
       "    <tr>\n",
       "      <th>...</th>\n",
       "      <td>...</td>\n",
       "      <td>...</td>\n",
       "      <td>...</td>\n",
       "    </tr>\n",
       "    <tr>\n",
       "      <th>10491</th>\n",
       "      <td>[Put Playland Park on your summer to-do list a...</td>\n",
       "      <td>6.600000</td>\n",
       "      <td>7</td>\n",
       "    </tr>\n",
       "    <tr>\n",
       "      <th>10492</th>\n",
       "      <td>[So nice, we're doing it twice!, Join us for a...</td>\n",
       "      <td>10.643243</td>\n",
       "      <td>5</td>\n",
       "    </tr>\n",
       "    <tr>\n",
       "      <th>10493</th>\n",
       "      <td>[Due to the latest updates surrounding the wea...</td>\n",
       "      <td>11.314286</td>\n",
       "      <td>7</td>\n",
       "    </tr>\n",
       "    <tr>\n",
       "      <th>10494</th>\n",
       "      <td>[Everything is better with music, right, The D...</td>\n",
       "      <td>6.713978</td>\n",
       "      <td>7</td>\n",
       "    </tr>\n",
       "    <tr>\n",
       "      <th>10495</th>\n",
       "      <td>[Only a few more Friday night fireworks left t...</td>\n",
       "      <td>13.690323</td>\n",
       "      <td>4</td>\n",
       "    </tr>\n",
       "  </tbody>\n",
       "</table>\n",
       "<p>10496 rows × 3 columns</p>\n",
       "</div>"
      ],
      "text/plain": [
       "                                       Cleaned_Sentences  Gunning_Fog_Score  \\\n",
       "0      [When you book a stay at Hotel Breakers, the f...           8.333333   \n",
       "1      [It’s Truce Day at Cedar Point, and you’re inv...           8.978049   \n",
       "2      [Curtis the cow is awful hungry at The Barnyar...           2.600000   \n",
       "3      [Which team do you got on GeminiComment \"\", fo...           4.228571   \n",
       "4      [Announcing a new member of our social media t...          16.266667   \n",
       "...                                                  ...                ...   \n",
       "10491  [Put Playland Park on your summer to-do list a...           6.600000   \n",
       "10492  [So nice, we're doing it twice!, Join us for a...          10.643243   \n",
       "10493  [Due to the latest updates surrounding the wea...          11.314286   \n",
       "10494  [Everything is better with music, right, The D...           6.713978   \n",
       "10495  [Only a few more Friday night fireworks left t...          13.690323   \n",
       "\n",
       "       Dominant_Topic  \n",
       "0                   1  \n",
       "1                   7  \n",
       "2                   7  \n",
       "3                   3  \n",
       "4                   6  \n",
       "...               ...  \n",
       "10491               7  \n",
       "10492               5  \n",
       "10493               7  \n",
       "10494               7  \n",
       "10495               4  \n",
       "\n",
       "[10496 rows x 3 columns]"
      ]
     },
     "execution_count": 25,
     "metadata": {},
     "output_type": "execute_result"
    }
   ],
   "source": [
    "# Transforming Clean_Sentences into TF-IDF matrix\n",
    "tfidf_matrix = vectorizer.transform(df_main['Cleaned_Sentences'].apply(lambda x: ' '.join(x)))\n",
    "\n",
    "# Using NMF model to transform TF-IDF matrix into topic space\n",
    "topic_weights = nmf_model.transform(tfidf_matrix)\n",
    "\n",
    "# Assigning the most dominant topic to each message\n",
    "df_main['Dominant_Topic'] = np.argmax(topic_weights, axis=1)\n",
    "\n",
    "# Displaying the result, including the Gunning Fog Score for context\n",
    "result_df = df_main[['Cleaned_Sentences', 'Gunning_Fog_Score', 'Dominant_Topic']]\n",
    "result_df"
   ]
  },
  {
   "cell_type": "code",
   "execution_count": 26,
   "metadata": {},
   "outputs": [],
   "source": [
    "# Defining a mapping dictionary based on the provided legend\n",
    "topic_mapping = {\n",
    "    0: 'Information post',\n",
    "    1: 'Renumeration post',\n",
    "    2: 'Entertainment post',\n",
    "    3: 'Entertainment post',\n",
    "    4: 'Renumeration post',\n",
    "    5: 'Entertainment post',\n",
    "    6: 'Entertainment post',\n",
    "    7: 'Information post'\n",
    "}\n",
    "\n",
    "# Create a new column 'Topic_Label' by mapping the 'Dominant_Topic' column using the mapping dictionary\n",
    "df_main['Topic_Label'] = df_main['Dominant_Topic'].map(topic_mapping)"
   ]
  },
  {
   "cell_type": "code",
   "execution_count": 27,
   "metadata": {},
   "outputs": [
    {
     "data": {
      "text/plain": [
       "0         Renumeration post\n",
       "1          Information post\n",
       "2          Information post\n",
       "3        Entertainment post\n",
       "4        Entertainment post\n",
       "                ...        \n",
       "10491      Information post\n",
       "10492    Entertainment post\n",
       "10493      Information post\n",
       "10494      Information post\n",
       "10495     Renumeration post\n",
       "Name: Topic_Label, Length: 10496, dtype: object"
      ]
     },
     "execution_count": 27,
     "metadata": {},
     "output_type": "execute_result"
    }
   ],
   "source": [
    "df_main['Topic_Label']"
   ]
  },
  {
   "cell_type": "markdown",
   "metadata": {},
   "source": [
    "### **2.3 Number based features** "
   ]
  },
  {
   "cell_type": "code",
   "execution_count": 28,
   "metadata": {},
   "outputs": [],
   "source": [
    "# Getting the Median income of states categories\n",
    "df_main[\"Median_income\"] = df_main[\"Income\"].apply(lambda x: \"0\" if x < 60000 else \"1\" if 60000 < x < 70000 else \"2\" if 70000 < x < 80000 else \"3\")      "
   ]
  },
  {
   "cell_type": "markdown",
   "metadata": {},
   "source": [
    "## **<span style='color:#4267B2'>|</span> 3. EDA**"
   ]
  },
  {
   "cell_type": "markdown",
   "metadata": {},
   "source": [
    "### Number of unique FB posts per type of park:"
   ]
  },
  {
   "cell_type": "code",
   "execution_count": 29,
   "metadata": {},
   "outputs": [
    {
     "data": {
      "image/png": "[encoded data removed]",
      "text/plain": [
       "<Figure size 1000x600 with 1 Axes>"
      ]
     },
     "metadata": {},
     "output_type": "display_data"
    }
   ],
   "source": [
    "# Creating a countplot\n",
    "plt.figure(figsize=(10, 6))\n",
    "ax = sns.countplot(x=df_main['Type'])\n",
    "\n",
    "# Adding count labels above each bar\n",
    "ax.bar_label(ax.containers[0])\n",
    "\n",
    "# Rotate x-axis labels for better readability\n",
    "ax.tick_params(axis='x', rotation=45)\n",
    "\n",
    "# Add labels\n",
    "plt.title('Number of FB posts per Each Type of park')\n",
    "plt.xlabel('Type of Theme Park')\n",
    "plt.ylabel('Count of posts')\n",
    "\n",
    "# Show the plot\n",
    "plt.show()"
   ]
  },
  {
   "cell_type": "markdown",
   "metadata": {},
   "source": [
    "### Time of day of post by Park Type:"
   ]
  },
  {
   "cell_type": "code",
   "execution_count": 30,
   "metadata": {},
   "outputs": [
    {
     "data": {
      "image/png": "[encoded data removed]",
      "text/plain": [
       "<Figure size 1400x1100 with 1 Axes>"
      ]
     },
     "metadata": {},
     "output_type": "display_data"
    }
   ],
   "source": [
    "# Calculate counts and percentages\n",
    "counts = df_main.groupby(['Type', 'TimeCategoryText']).size().reset_index(name='count')\n",
    "counts['percentage'] = counts['count'] / counts.groupby('Type')['count'].transform('sum') * 100\n",
    "\n",
    "# Setting order of 'TimeCategoryText'\n",
    "time_order = ['Morning', 'Noon', 'Evening', 'Night']\n",
    "\n",
    "# Plot the bar chart\n",
    "plt.figure(figsize=(14, 11))\n",
    "sns.barplot(x='Type', y='percentage', hue='TimeCategoryText', data=counts,\n",
    "            order=counts.groupby('Type')['percentage'].median().sort_values().index,\n",
    "            hue_order=time_order)  # Set the order of 'TimeCategoryText'\n",
    "\n",
    "# Adding percentage labels # Chat GPT\n",
    "ax = plt.gca()\n",
    "for p in ax.patches:\n",
    "    label = '{:.1f}%'.format(p.get_height())\n",
    "    x = p.get_x() + p.get_width() / 2.\n",
    "    y = p.get_height()\n",
    "    ax.annotate(label, (x, y), ha='center', va='center', xytext=(0, 20), textcoords='offset points', rotation=60)\n",
    "\n",
    "# Setting plot label properties\n",
    "plt.title('Percentage of Theme Parks FB Posts During Different Times of Day by Park Type')\n",
    "plt.xlabel('Type of Theme Park')\n",
    "plt.ylabel('Percentage')\n",
    "plt.legend(title='Time of Day')\n",
    "\n",
    "# Adjusting the layout to prevent clipping of labels\n",
    "plt.tight_layout()\n",
    "\n",
    "# Show the plot\n",
    "plt.show()"
   ]
  },
  {
   "cell_type": "markdown",
   "metadata": {},
   "source": [
    "### Seasonality of posts by Park type:"
   ]
  },
  {
   "cell_type": "code",
   "execution_count": 31,
   "metadata": {},
   "outputs": [
    {
     "data": {
      "image/png": "[encoded data removed]",
      "text/plain": [
       "<Figure size 1400x1100 with 1 Axes>"
      ]
     },
     "metadata": {},
     "output_type": "display_data"
    }
   ],
   "source": [
    "# Calculating counts and percentages\n",
    "counts = df_main.groupby(['Type', 'Season']).size().reset_index(name='count')\n",
    "counts['percentage'] = counts['count'] / counts.groupby('Type')['count'].transform('sum') * 100\n",
    "\n",
    "# Order of 'Season'\n",
    "season_order = ['Winter', 'Spring', 'Summer', 'Fall']\n",
    "\n",
    "# Plotting the bar chart\n",
    "plt.figure(figsize=(14, 11))\n",
    "sns.barplot(x='Type', y='percentage', hue='Season', data=counts,\n",
    "            order=counts.groupby('Type')['percentage'].median().sort_values().index,\n",
    "            hue_order=season_order)  # Set the order of 'Season'\n",
    "\n",
    "# Adding percentage labels \n",
    "ax = plt.gca()\n",
    "for p in ax.patches:\n",
    "    label = '{:.1f}%'.format(p.get_height())\n",
    "    x = p.get_x() + p.get_width() / 2.\n",
    "    y = p.get_height()\n",
    "    ax.annotate(label, (x, y), ha='center', va='center', xytext=(0, 20), textcoords='offset points', rotation=60)\n",
    "\n",
    "# Setting plot properties\n",
    "plt.title('Percentage of Theme Parks FB Posts During Different Seasons by Park Type')\n",
    "plt.xlabel('Type of Theme Park')\n",
    "plt.ylabel('Percentage of posts')\n",
    "plt.legend(title='Season')\n",
    "\n",
    "# Adjusting the layout to prevent clipping of labels\n",
    "plt.tight_layout()\n",
    "\n",
    "# Show the plot\n",
    "plt.show()"
   ]
  },
  {
   "cell_type": "markdown",
   "metadata": {},
   "source": [
    "### Average Number of hashtags in posts per theme park type"
   ]
  },
  {
   "cell_type": "code",
   "execution_count": 32,
   "metadata": {},
   "outputs": [
    {
     "data": {
      "image/png": "[encoded data removed]",
      "text/plain": [
       "<Figure size 1200x600 with 1 Axes>"
      ]
     },
     "metadata": {},
     "output_type": "display_data"
    }
   ],
   "source": [
    "# Plot: Average Number of Hashtags in Posts for each type of theme park\n",
    "avg_hashtags_df = df_main.groupby('Type')['Hashtags'].mean().reset_index().sort_values(by=\"Hashtags\", ascending=False)\n",
    "\n",
    "plt.figure(figsize=(12, 6))\n",
    "sns.barplot(x='Type', y='Hashtags', data=avg_hashtags_df)\n",
    "for i, v in enumerate(avg_hashtags_df['Hashtags']):\n",
    "    plt.annotate(\"{:.2f}\".format(v), xy=(i, v), ha='center', va='bottom', fontsize=12)\n",
    "\n",
    "# Set plot properties\n",
    "plt.title('Average Number of Hashtags per Theme Park Type')\n",
    "plt.xlabel('Type of Theme Park')\n",
    "plt.ylabel('Average Number of Hashtags')\n",
    "plt.xticks(rotation=0)\n",
    "plt.show()"
   ]
  },
  {
   "cell_type": "code",
   "execution_count": 33,
   "metadata": {},
   "outputs": [
    {
     "name": "stdout",
     "output_type": "stream",
     "text": [
      "<class 'pandas.core.frame.DataFrame'>\n",
      "RangeIndex: 10496 entries, 0 to 10495\n",
      "Data columns (total 33 columns):\n",
      " #   Column                        Non-Null Count  Dtype         \n",
      "---  ------                        --------------  -----         \n",
      " 0   Date                          10496 non-null  datetime64[ns]\n",
      " 1   Profile                       10496 non-null  object        \n",
      " 2   Message                       10496 non-null  object        \n",
      " 3   Reactions                     10496 non-null  float64       \n",
      " 4   Number of Comments (primary)  10496 non-null  float64       \n",
      " 5   Shares                        10496 non-null  float64       \n",
      " 6   Comments                      10496 non-null  float64       \n",
      " 7   Comments_by_fans              10496 non-null  float64       \n",
      " 8   Post interaction              8998 non-null   float64       \n",
      " 9   Engagement                    8998 non-null   float64       \n",
      " 10  Profile-ID                    10496 non-null  float64       \n",
      " 11  Post-ID                       10496 non-null  object        \n",
      " 12  Location                      10496 non-null  object        \n",
      " 13  Followers                     10496 non-null  object        \n",
      " 14  Type                          10496 non-null  object        \n",
      " 15  Likes                         9739 non-null   object        \n",
      " 16  Income                        10496 non-null  int64         \n",
      " 17  Day                           10496 non-null  object        \n",
      " 18  Time                          10496 non-null  object        \n",
      " 19  TimeCategory                  10496 non-null  int64         \n",
      " 20  TimeCategoryText              10496 non-null  object        \n",
      " 21  Holiday                       10496 non-null  int64         \n",
      " 22  MonthName                     10496 non-null  object        \n",
      " 23  Season                        10496 non-null  object        \n",
      " 24  Hashtags                      10496 non-null  int64         \n",
      " 25  Length                        10496 non-null  int64         \n",
      " 26  Cleaned_Message               10496 non-null  object        \n",
      " 27  Sentences                     10496 non-null  object        \n",
      " 28  Cleaned_Sentences             10496 non-null  object        \n",
      " 29  Gunning_Fog_Score             10496 non-null  float64       \n",
      " 30  Dominant_Topic                10496 non-null  int64         \n",
      " 31  Topic_Label                   10496 non-null  object        \n",
      " 32  Median_income                 10496 non-null  object        \n",
      "dtypes: datetime64[ns](1), float64(9), int64(6), object(17)\n",
      "memory usage: 2.6+ MB\n"
     ]
    }
   ],
   "source": [
    "df_main.info()"
   ]
  },
  {
   "cell_type": "markdown",
   "metadata": {},
   "source": [
    "### Posted on Weekends/Weekdays:"
   ]
  },
  {
   "cell_type": "code",
   "execution_count": 34,
   "metadata": {},
   "outputs": [
    {
     "data": {
      "image/png": "[encoded data removed]",
      "text/plain": [
       "<Figure size 1200x600 with 1 Axes>"
      ]
     },
     "metadata": {},
     "output_type": "display_data"
    }
   ],
   "source": [
    "# Converting the \"Day\" column to a categorical type with the correct order\n",
    "weekday_order = ['Monday', 'Tuesday', 'Wednesday', 'Thursday', 'Friday', 'Saturday', 'Sunday']\n",
    "df_main['Day'] = pd.Categorical(df_main['Day'], categories=weekday_order, ordered=True)\n",
    "\n",
    "# Create a new column for weekdays or weekends\n",
    "df_main['Posted_Weekday'] = df_main['Day'].isin(['Monday', 'Tuesday', 'Wednesday', 'Thursday', 'Friday'])\n",
    "\n",
    "# Calculate the percentage of posts for weekdays and weekends per type # Chat GPT\n",
    "percentage_df = df_main.groupby(['Type', 'Posted_Weekday']).size().unstack(fill_value=0)\n",
    "percentage_df['Total'] = percentage_df.sum(axis=1)\n",
    "percentage_df['Percentage_Weekday'] = (percentage_df[True] / percentage_df['Total']) * 100\n",
    "percentage_df['Percentage_Weekend'] = (percentage_df[False] / percentage_df['Total']) * 100\n",
    "\n",
    "# Plot the percentages for each type\n",
    "plt.figure(figsize=(12, 6))\n",
    "ax = sns.barplot(x='Type', y='Percentage_Weekday', data=percentage_df.reset_index(), color='skyblue', label='Weekday')\n",
    "sns.barplot(x='Type', y='Percentage_Weekend', data=percentage_df.reset_index(), color='orange', label='Weekend')\n",
    "\n",
    "# Add labels above the bars # Chat GPT\n",
    "for p in ax.patches:\n",
    "    height = p.get_height()\n",
    "    ax.annotate(f'{height:.1f}%', (p.get_x() + p.get_width() / 2., height),\n",
    "                ha='center', va='center', xytext=(0, 5), textcoords='offset points', fontsize=10)\n",
    "\n",
    "# Add labels\n",
    "plt.title('Percentage of Posts on Weekdays and Weekends by Type')\n",
    "plt.xlabel('Type of Theme Park')\n",
    "plt.ylabel('Percentage')\n",
    "plt.legend(title='Day')\n",
    "\n",
    "# Show the plot\n",
    "plt.show()"
   ]
  },
  {
   "cell_type": "markdown",
   "metadata": {},
   "source": [
    "### Posted through Holidays:"
   ]
  },
  {
   "cell_type": "code",
   "execution_count": 35,
   "metadata": {},
   "outputs": [
    {
     "data": {
      "image/png": "[encoded data removed]",
      "text/plain": [
       "<Figure size 1200x950 with 1 Axes>"
      ]
     },
     "metadata": {},
     "output_type": "display_data"
    }
   ],
   "source": [
    "# Calculate the percentage of posts for holidays and non-holidays per type\n",
    "percentage_holiday_df = df_main.groupby(['Type', 'Holiday']).size().unstack(fill_value=0)\n",
    "percentage_holiday_df['Total'] = percentage_holiday_df.sum(axis=1)\n",
    "percentage_holiday_df['Percentage_Not_Holiday'] = (percentage_holiday_df[0] / percentage_holiday_df['Total']) * 100\n",
    "percentage_holiday_df['Percentage_Holiday'] = (percentage_holiday_df[1] / percentage_holiday_df['Total']) * 100\n",
    "\n",
    "# Plot the percentages for each type\n",
    "plt.figure(figsize=(12, 9.5))\n",
    "ax = sns.barplot(x='Type', y='Percentage_Not_Holiday', data=percentage_holiday_df.reset_index(), color='skyblue', label='Not Holiday')\n",
    "sns.barplot(x='Type', y='Percentage_Holiday', data=percentage_holiday_df.reset_index(), color='orange', label='Holiday')\n",
    "\n",
    "# Add labels above the bars\n",
    "for p in ax.patches:\n",
    "    height = p.get_height()\n",
    "    ax.annotate(f'{height:.1f}%', (p.get_x() + p.get_width() / 2., height),\n",
    "                ha='center', va='center', xytext=(0, 5), textcoords='offset points', fontsize=10)\n",
    "\n",
    "# Addiing labels\n",
    "plt.title('Percentage of Posts on Holidays and Non-Holidays by Park Type')\n",
    "plt.xlabel('Type of Theme Park')\n",
    "plt.ylabel('Percentage')\n",
    "plt.legend(title='Holiday', labels=['Not Holiday', 'Holiday'])\n",
    "\n",
    "# Create a custom legend outside the plot # Chat GPT\n",
    "colors = {'Not Holiday': 'skyblue', 'Holiday': 'orange'}\n",
    "legend_labels = [plt.Line2D([0], [0], marker='o', color='w', label=label, markerfacecolor=colors[label], markersize=10) for label in colors]\n",
    "plt.legend(handles=legend_labels, title='Posted when?', labels=['Not Holiday', 'Holiday'], loc='upper left')\n",
    "\n",
    "# Show the plot\n",
    "plt.show()"
   ]
  },
  {
   "cell_type": "markdown",
   "metadata": {},
   "source": [
    "### Descriptive statistics"
   ]
  },
  {
   "cell_type": "code",
   "execution_count": 36,
   "metadata": {},
   "outputs": [
    {
     "data": {
      "text/plain": [
       "Index(['Date', 'Profile', 'Message', 'Reactions',\n",
       "       'Number of Comments (primary)', 'Shares', 'Comments',\n",
       "       'Comments_by_fans', 'Post interaction', 'Engagement', 'Profile-ID',\n",
       "       'Post-ID', 'Location', 'Followers', 'Type', 'Likes', 'Income', 'Day',\n",
       "       'Time', 'TimeCategory', 'TimeCategoryText', 'Holiday', 'MonthName',\n",
       "       'Season', 'Hashtags', 'Length', 'Cleaned_Message', 'Sentences',\n",
       "       'Cleaned_Sentences', 'Gunning_Fog_Score', 'Dominant_Topic',\n",
       "       'Topic_Label', 'Median_income', 'Posted_Weekday'],\n",
       "      dtype='object')"
      ]
     },
     "execution_count": 36,
     "metadata": {},
     "output_type": "execute_result"
    }
   ],
   "source": [
    "df_main.columns"
   ]
  },
  {
   "cell_type": "code",
   "execution_count": 37,
   "metadata": {},
   "outputs": [
    {
     "data": {
      "text/html": [
       "<div>\n",
       "<style scoped>\n",
       "    .dataframe tbody tr th:only-of-type {\n",
       "        vertical-align: middle;\n",
       "    }\n",
       "\n",
       "    .dataframe tbody tr th {\n",
       "        vertical-align: top;\n",
       "    }\n",
       "\n",
       "    .dataframe thead th {\n",
       "        text-align: right;\n",
       "    }\n",
       "</style>\n",
       "<table border=\"1\" class=\"dataframe\">\n",
       "  <thead>\n",
       "    <tr style=\"text-align: right;\">\n",
       "      <th></th>\n",
       "      <th>Message</th>\n",
       "      <th>Cleaned_Sentences</th>\n",
       "      <th>Sentences</th>\n",
       "      <th>Cleaned_Message</th>\n",
       "    </tr>\n",
       "  </thead>\n",
       "  <tbody>\n",
       "    <tr>\n",
       "      <th>0</th>\n",
       "      <td>When you book a stay at Hotel Breakers, the fun begins! Did you know you get access to discounted tickets to both Cedar Point and Cedar Point Shores Waterpark, free parking, and unlimited beach access! ?</td>\n",
       "      <td>[When you book a stay at Hotel Breakers, the fun begins!, Did you know you get access to discounted tickets to both Cedar Point and Cedar Point Shores Waterpark, free parking, and unlimited beach access!, ]</td>\n",
       "      <td>[When you book a stay at Hotel Breakers, the fun begins!, Did you know you get access to discounted tickets to both Cedar Point and Cedar Point Shores Waterpark, free parking, and unlimited beach access!, ?]</td>\n",
       "      <td>When you book a stay at Hotel Breakers, the fun begins! Did you know you get access to discounted tickets to both Cedar Point and Cedar Point Shores Waterpark, free parking, and unlimited beach access! ?</td>\n",
       "    </tr>\n",
       "    <tr>\n",
       "      <th>1</th>\n",
       "      <td>It’s Truce Day at Cedar Point, and you’re invited! Journey to Forbidden Frontier on Adventure Island, the possibilities are endless!? Open daily, except Wednesday's from 12pm-7pm now through August 14th!? https://bit.ly/3IMfdzD</td>\n",
       "      <td>[It’s Truce Day at Cedar Point, and you’re invited!, Journey to Forbidden Frontier on Adventure Island, the possibilities are endless!, Open daily, except Wednesday's from 12pm-7pm now through August 14th!, ]</td>\n",
       "      <td>[It’s Truce Day at Cedar Point, and you’re invited!, Journey to Forbidden Frontier on Adventure Island, the possibilities are endless!?, Open daily, except Wednesday's from 12pm-7pm now through August 14th!, ?]</td>\n",
       "      <td>It’s Truce Day at Cedar Point, and you’re invited! Journey to Forbidden Frontier on Adventure Island, the possibilities are endless!? Open daily, except Wednesday's from 12pm-7pm now through August 14th!?</td>\n",
       "    </tr>\n",
       "    <tr>\n",
       "      <th>2</th>\n",
       "      <td>Curtis the cow is awful hungry at The Barnyard! Pay him a visit the time you're at Cedar Point! ??Open 12pm daily!</td>\n",
       "      <td>[Curtis the cow is awful hungry at The Barnyard!, Pay him a visit the time you're at Cedar Point!, , Open 12pm daily!]</td>\n",
       "      <td>[Curtis the cow is awful hungry at The Barnyard!, Pay him a visit the time you're at Cedar Point!, ?, ?Open 12pm daily!]</td>\n",
       "      <td>Curtis the cow is awful hungry at The Barnyard! Pay him a visit the time you're at Cedar Point! ??Open 12pm daily!</td>\n",
       "    </tr>\n",
       "  </tbody>\n",
       "</table>\n",
       "</div>"
      ],
      "text/plain": [
       "                                                                                                                                                                                                                               Message  \\\n",
       "0                          When you book a stay at Hotel Breakers, the fun begins! Did you know you get access to discounted tickets to both Cedar Point and Cedar Point Shores Waterpark, free parking, and unlimited beach access! ?   \n",
       "1  It’s Truce Day at Cedar Point, and you’re invited! Journey to Forbidden Frontier on Adventure Island, the possibilities are endless!? Open daily, except Wednesday's from 12pm-7pm now through August 14th!? https://bit.ly/3IMfdzD   \n",
       "2                                                                                                                   Curtis the cow is awful hungry at The Barnyard! Pay him a visit the time you're at Cedar Point! ??Open 12pm daily!   \n",
       "\n",
       "                                                                                                                                                                                                  Cleaned_Sentences  \\\n",
       "0    [When you book a stay at Hotel Breakers, the fun begins!, Did you know you get access to discounted tickets to both Cedar Point and Cedar Point Shores Waterpark, free parking, and unlimited beach access!, ]   \n",
       "1  [It’s Truce Day at Cedar Point, and you’re invited!, Journey to Forbidden Frontier on Adventure Island, the possibilities are endless!, Open daily, except Wednesday's from 12pm-7pm now through August 14th!, ]   \n",
       "2                                                                                            [Curtis the cow is awful hungry at The Barnyard!, Pay him a visit the time you're at Cedar Point!, , Open 12pm daily!]   \n",
       "\n",
       "                                                                                                                                                                                                            Sentences  \\\n",
       "0     [When you book a stay at Hotel Breakers, the fun begins!, Did you know you get access to discounted tickets to both Cedar Point and Cedar Point Shores Waterpark, free parking, and unlimited beach access!, ?]   \n",
       "1  [It’s Truce Day at Cedar Point, and you’re invited!, Journey to Forbidden Frontier on Adventure Island, the possibilities are endless!?, Open daily, except Wednesday's from 12pm-7pm now through August 14th!, ?]   \n",
       "2                                                                                            [Curtis the cow is awful hungry at The Barnyard!, Pay him a visit the time you're at Cedar Point!, ?, ?Open 12pm daily!]   \n",
       "\n",
       "                                                                                                                                                                                                 Cleaned_Message  \n",
       "0    When you book a stay at Hotel Breakers, the fun begins! Did you know you get access to discounted tickets to both Cedar Point and Cedar Point Shores Waterpark, free parking, and unlimited beach access! ?  \n",
       "1  It’s Truce Day at Cedar Point, and you’re invited! Journey to Forbidden Frontier on Adventure Island, the possibilities are endless!? Open daily, except Wednesday's from 12pm-7pm now through August 14th!?   \n",
       "2                                                                                             Curtis the cow is awful hungry at The Barnyard! Pay him a visit the time you're at Cedar Point! ??Open 12pm daily!  "
      ]
     },
     "execution_count": 37,
     "metadata": {},
     "output_type": "execute_result"
    }
   ],
   "source": [
    "pd.set_option('display.max_colwidth', None)\n",
    "df_main[['Message','Cleaned_Sentences','Sentences','Cleaned_Message']].head(3)\n"
   ]
  },
  {
   "cell_type": "code",
   "execution_count": 38,
   "metadata": {},
   "outputs": [
    {
     "name": "stdout",
     "output_type": "stream",
     "text": [
      "Average and Median Length of Message by Park Type:\n",
      "                            mean  median\n",
      "Type                                    \n",
      "Amusement park        240.662789   214.0\n",
      "Animal park           213.804233   201.0\n",
      "Theme Amusement Park  211.840737   191.0\n",
      "Theme City            228.332466   205.0\n",
      "Theme park            155.573043   143.0\n",
      "Water park             96.262911    92.0\n"
     ]
    }
   ],
   "source": [
    "# Calculate the length of each message\n",
    "df_main['Message_Length'] = df_main['Message'].apply(lambda x: len(x))\n",
    "\n",
    "# Group the DataFrame by 'Type' and calculate the mean and median length of messages for each type\n",
    "length_stats = df_main.groupby('Type')['Message_Length'].agg(['mean', 'median'])\n",
    "\n",
    "# Print the results\n",
    "print(\"Average and Median Length of Message by Park Type:\")\n",
    "print(length_stats)"
   ]
  },
  {
   "cell_type": "code",
   "execution_count": 39,
   "metadata": {},
   "outputs": [
    {
     "name": "stdout",
     "output_type": "stream",
     "text": [
      "Average and Median Length of Message by Park Type:\n",
      "                            mean  median\n",
      "Type                                    \n",
      "Amusement park        211.462523   184.0\n",
      "Animal park           191.285714   178.0\n",
      "Theme Amusement Park  199.228602   174.0\n",
      "Theme City            198.246584   176.0\n",
      "Theme park            142.498789   129.0\n",
      "Water park             88.788732    82.0\n"
     ]
    }
   ],
   "source": [
    "# Calculate the length of each message\n",
    "df_main['Cln_Message_Length'] = df_main['Cleaned_Message'].apply(lambda x: len(x))\n",
    "\n",
    "# Group the DataFrame by 'Type' and calculate the mean and median length of messages for each type\n",
    "length_stats = df_main.groupby('Type')['Cln_Message_Length'].agg(['mean', 'median'])\n",
    "\n",
    "# Print the results\n",
    "print(\"Average and Median Length of Message by Park Type:\")\n",
    "print(length_stats)"
   ]
  },
  {
   "cell_type": "code",
   "execution_count": 40,
   "metadata": {},
   "outputs": [
    {
     "name": "stdout",
     "output_type": "stream",
     "text": [
      "Average and Median Length of Message by Park Type:\n",
      "                            mean  median\n",
      "Type                                    \n",
      "Amusement park        240.662789   214.0\n",
      "Animal park           213.804233   201.0\n",
      "Theme Amusement Park  211.840737   191.0\n",
      "Theme City            228.332466   205.0\n",
      "Theme park            155.573043   143.0\n",
      "Water park             96.262911    92.0\n"
     ]
    }
   ],
   "source": [
    "# Calculate the length of each cleaned message (No links and #s)\n",
    "df_main['Cln_Message_Length'] = df_main['Message'].apply(lambda x: len(x))\n",
    "\n",
    "# Group the DataFrame by 'Type' and calculate the mean and median length of messages for each type\n",
    "length_stats = df_main.groupby('Type')['Cln_Message_Length'].agg(['mean', 'median'])\n",
    "\n",
    "# Print the results\n",
    "print(\"Average and Median Length of Message by Park Type:\")\n",
    "print(length_stats)"
   ]
  },
  {
   "cell_type": "markdown",
   "metadata": {},
   "source": [
    "### Correlation Matrix Analysis"
   ]
  },
  {
   "cell_type": "code",
   "execution_count": 41,
   "metadata": {},
   "outputs": [
    {
     "data": {
      "text/plain": [
       "Index(['Date', 'Profile', 'Message', 'Reactions',\n",
       "       'Number of Comments (primary)', 'Shares', 'Comments',\n",
       "       'Comments_by_fans', 'Post interaction', 'Engagement', 'Profile-ID',\n",
       "       'Post-ID', 'Location', 'Followers', 'Type', 'Likes', 'Income', 'Day',\n",
       "       'Time', 'TimeCategory', 'TimeCategoryText', 'Holiday', 'MonthName',\n",
       "       'Season', 'Hashtags', 'Length', 'Cleaned_Message', 'Sentences',\n",
       "       'Cleaned_Sentences', 'Gunning_Fog_Score', 'Dominant_Topic',\n",
       "       'Topic_Label', 'Median_income', 'Posted_Weekday', 'Message_Length',\n",
       "       'Cln_Message_Length'],\n",
       "      dtype='object')"
      ]
     },
     "execution_count": 41,
     "metadata": {},
     "output_type": "execute_result"
    }
   ],
   "source": [
    "df_main.columns"
   ]
  },
  {
   "cell_type": "code",
   "execution_count": 42,
   "metadata": {},
   "outputs": [],
   "source": [
    "# Creating a new DataFrame for Correlation Matrix with selected columns\n",
    "selected_columns = ['Type', 'Engagement', 'Followers', 'Length', 'Hashtags', 'Season', 'Gunning_Fog_Score','TimeCategory', 'Posted_Weekday', 'Holiday', 'Median_income', 'Dominant_Topic']\n",
    "corr_df = df_main[selected_columns].copy()"
   ]
  },
  {
   "cell_type": "code",
   "execution_count": 43,
   "metadata": {},
   "outputs": [],
   "source": [
    "# Defining a mapping from text to integer for seasons\n",
    "season_mapping = {'Winter': 1, 'Spring': 2, 'Summer': 3, 'Fall': 4}\n",
    "\n",
    "corr_df['Season'] = corr_df['Season'].map(season_mapping)"
   ]
  },
  {
   "cell_type": "code",
   "execution_count": 44,
   "metadata": {},
   "outputs": [],
   "source": [
    "# Defining a mapping from text to integer for type of park\n",
    "type_mapping = {\"Amusement park\": 0, \"Theme City\": 1, \"Theme park\":2, \"Theme Amusement Park\":3, \"Animal park\":4, \"Water park\":5}\n",
    "\n",
    "corr_df['Type'] = corr_df['Type'].map(type_mapping)"
   ]
  },
  {
   "cell_type": "code",
   "execution_count": 45,
   "metadata": {},
   "outputs": [
    {
     "data": {
      "text/html": [
       "<div>\n",
       "<style scoped>\n",
       "    .dataframe tbody tr th:only-of-type {\n",
       "        vertical-align: middle;\n",
       "    }\n",
       "\n",
       "    .dataframe tbody tr th {\n",
       "        vertical-align: top;\n",
       "    }\n",
       "\n",
       "    .dataframe thead th {\n",
       "        text-align: right;\n",
       "    }\n",
       "</style>\n",
       "<table border=\"1\" class=\"dataframe\">\n",
       "  <thead>\n",
       "    <tr style=\"text-align: right;\">\n",
       "      <th></th>\n",
       "      <th>Type</th>\n",
       "      <th>Engagement</th>\n",
       "      <th>Followers</th>\n",
       "      <th>Length</th>\n",
       "      <th>Hashtags</th>\n",
       "      <th>Season</th>\n",
       "      <th>Gunning_Fog_Score</th>\n",
       "      <th>TimeCategory</th>\n",
       "      <th>Posted_Weekday</th>\n",
       "      <th>Holiday</th>\n",
       "      <th>Median_income</th>\n",
       "      <th>Dominant_Topic</th>\n",
       "    </tr>\n",
       "  </thead>\n",
       "  <tbody>\n",
       "    <tr>\n",
       "      <th>0</th>\n",
       "      <td>0</td>\n",
       "      <td>0.000222</td>\n",
       "      <td>1500412</td>\n",
       "      <td>37</td>\n",
       "      <td>0</td>\n",
       "      <td>3</td>\n",
       "      <td>8.333333</td>\n",
       "      <td>3</td>\n",
       "      <td>True</td>\n",
       "      <td>0</td>\n",
       "      <td>1</td>\n",
       "      <td>1</td>\n",
       "    </tr>\n",
       "    <tr>\n",
       "      <th>1</th>\n",
       "      <td>0</td>\n",
       "      <td>0.000227</td>\n",
       "      <td>1500412</td>\n",
       "      <td>32</td>\n",
       "      <td>0</td>\n",
       "      <td>3</td>\n",
       "      <td>8.978049</td>\n",
       "      <td>3</td>\n",
       "      <td>True</td>\n",
       "      <td>0</td>\n",
       "      <td>1</td>\n",
       "      <td>7</td>\n",
       "    </tr>\n",
       "    <tr>\n",
       "      <th>2</th>\n",
       "      <td>0</td>\n",
       "      <td>0.000289</td>\n",
       "      <td>1500412</td>\n",
       "      <td>23</td>\n",
       "      <td>0</td>\n",
       "      <td>3</td>\n",
       "      <td>2.600000</td>\n",
       "      <td>2</td>\n",
       "      <td>False</td>\n",
       "      <td>1</td>\n",
       "      <td>1</td>\n",
       "      <td>7</td>\n",
       "    </tr>\n",
       "    <tr>\n",
       "      <th>3</th>\n",
       "      <td>0</td>\n",
       "      <td>0.000267</td>\n",
       "      <td>1500412</td>\n",
       "      <td>24</td>\n",
       "      <td>0</td>\n",
       "      <td>3</td>\n",
       "      <td>4.228571</td>\n",
       "      <td>1</td>\n",
       "      <td>False</td>\n",
       "      <td>0</td>\n",
       "      <td>1</td>\n",
       "      <td>3</td>\n",
       "    </tr>\n",
       "    <tr>\n",
       "      <th>4</th>\n",
       "      <td>0</td>\n",
       "      <td>0.000313</td>\n",
       "      <td>1500412</td>\n",
       "      <td>43</td>\n",
       "      <td>0</td>\n",
       "      <td>3</td>\n",
       "      <td>16.266667</td>\n",
       "      <td>3</td>\n",
       "      <td>True</td>\n",
       "      <td>0</td>\n",
       "      <td>1</td>\n",
       "      <td>6</td>\n",
       "    </tr>\n",
       "    <tr>\n",
       "      <th>...</th>\n",
       "      <td>...</td>\n",
       "      <td>...</td>\n",
       "      <td>...</td>\n",
       "      <td>...</td>\n",
       "      <td>...</td>\n",
       "      <td>...</td>\n",
       "      <td>...</td>\n",
       "      <td>...</td>\n",
       "      <td>...</td>\n",
       "      <td>...</td>\n",
       "      <td>...</td>\n",
       "      <td>...</td>\n",
       "    </tr>\n",
       "    <tr>\n",
       "      <th>10491</th>\n",
       "      <td>1</td>\n",
       "      <td>NaN</td>\n",
       "      <td>45000</td>\n",
       "      <td>27</td>\n",
       "      <td>2</td>\n",
       "      <td>3</td>\n",
       "      <td>6.600000</td>\n",
       "      <td>1</td>\n",
       "      <td>True</td>\n",
       "      <td>0</td>\n",
       "      <td>2</td>\n",
       "      <td>7</td>\n",
       "    </tr>\n",
       "    <tr>\n",
       "      <th>10492</th>\n",
       "      <td>1</td>\n",
       "      <td>NaN</td>\n",
       "      <td>45000</td>\n",
       "      <td>32</td>\n",
       "      <td>0</td>\n",
       "      <td>3</td>\n",
       "      <td>10.643243</td>\n",
       "      <td>2</td>\n",
       "      <td>True</td>\n",
       "      <td>0</td>\n",
       "      <td>2</td>\n",
       "      <td>5</td>\n",
       "    </tr>\n",
       "    <tr>\n",
       "      <th>10493</th>\n",
       "      <td>1</td>\n",
       "      <td>NaN</td>\n",
       "      <td>45000</td>\n",
       "      <td>24</td>\n",
       "      <td>0</td>\n",
       "      <td>3</td>\n",
       "      <td>11.314286</td>\n",
       "      <td>2</td>\n",
       "      <td>False</td>\n",
       "      <td>0</td>\n",
       "      <td>2</td>\n",
       "      <td>7</td>\n",
       "    </tr>\n",
       "    <tr>\n",
       "      <th>10494</th>\n",
       "      <td>1</td>\n",
       "      <td>NaN</td>\n",
       "      <td>45000</td>\n",
       "      <td>31</td>\n",
       "      <td>2</td>\n",
       "      <td>3</td>\n",
       "      <td>6.713978</td>\n",
       "      <td>1</td>\n",
       "      <td>False</td>\n",
       "      <td>0</td>\n",
       "      <td>2</td>\n",
       "      <td>7</td>\n",
       "    </tr>\n",
       "    <tr>\n",
       "      <th>10495</th>\n",
       "      <td>1</td>\n",
       "      <td>NaN</td>\n",
       "      <td>45000</td>\n",
       "      <td>30</td>\n",
       "      <td>2</td>\n",
       "      <td>3</td>\n",
       "      <td>13.690323</td>\n",
       "      <td>1</td>\n",
       "      <td>True</td>\n",
       "      <td>0</td>\n",
       "      <td>2</td>\n",
       "      <td>4</td>\n",
       "    </tr>\n",
       "  </tbody>\n",
       "</table>\n",
       "<p>10496 rows × 12 columns</p>\n",
       "</div>"
      ],
      "text/plain": [
       "       Type  Engagement Followers  Length  Hashtags  Season  \\\n",
       "0         0    0.000222   1500412      37         0       3   \n",
       "1         0    0.000227   1500412      32         0       3   \n",
       "2         0    0.000289   1500412      23         0       3   \n",
       "3         0    0.000267   1500412      24         0       3   \n",
       "4         0    0.000313   1500412      43         0       3   \n",
       "...     ...         ...       ...     ...       ...     ...   \n",
       "10491     1         NaN     45000      27         2       3   \n",
       "10492     1         NaN     45000      32         0       3   \n",
       "10493     1         NaN     45000      24         0       3   \n",
       "10494     1         NaN     45000      31         2       3   \n",
       "10495     1         NaN     45000      30         2       3   \n",
       "\n",
       "       Gunning_Fog_Score  TimeCategory  Posted_Weekday  Holiday Median_income  \\\n",
       "0               8.333333             3            True        0             1   \n",
       "1               8.978049             3            True        0             1   \n",
       "2               2.600000             2           False        1             1   \n",
       "3               4.228571             1           False        0             1   \n",
       "4              16.266667             3            True        0             1   \n",
       "...                  ...           ...             ...      ...           ...   \n",
       "10491           6.600000             1            True        0             2   \n",
       "10492          10.643243             2            True        0             2   \n",
       "10493          11.314286             2           False        0             2   \n",
       "10494           6.713978             1           False        0             2   \n",
       "10495          13.690323             1            True        0             2   \n",
       "\n",
       "       Dominant_Topic  \n",
       "0                   1  \n",
       "1                   7  \n",
       "2                   7  \n",
       "3                   3  \n",
       "4                   6  \n",
       "...               ...  \n",
       "10491               7  \n",
       "10492               5  \n",
       "10493               7  \n",
       "10494               7  \n",
       "10495               4  \n",
       "\n",
       "[10496 rows x 12 columns]"
      ]
     },
     "execution_count": 45,
     "metadata": {},
     "output_type": "execute_result"
    }
   ],
   "source": [
    "corr_df"
   ]
  },
  {
   "cell_type": "code",
   "execution_count": 46,
   "metadata": {},
   "outputs": [
    {
     "data": {
      "image/png": "[encoded data removed]",
      "text/plain": [
       "<Figure size 1500x1000 with 2 Axes>"
      ]
     },
     "metadata": {},
     "output_type": "display_data"
    }
   ],
   "source": [
    "# Calculate the correlation matrix\n",
    "corr_matrix = corr_df.corr()\n",
    "\n",
    "# Plot a heatmap of the correlation matrix\n",
    "fig, ax = plt.subplots(figsize=(15, 10))\n",
    "sns.heatmap(corr_matrix, annot=True, ax=ax)\n",
    "plt.title(\"Correlation Matrix of Selected Columns\")\n",
    "plt.show()"
   ]
  },
  {
   "cell_type": "markdown",
   "metadata": {},
   "source": [
    "**Takeaways:** Nothing out of the ordinary, the only high multicolinarity recorded is between variables that are related i.e. Gunning_Fog_Score and Lenght of post, as well as Weeked posts and Holidays."
   ]
  },
  {
   "cell_type": "markdown",
   "metadata": {},
   "source": [
    "## **<span style='color:#4267B2'>|</span> 4. Analysis**"
   ]
  },
  {
   "cell_type": "markdown",
   "metadata": {},
   "source": [
    "### In this section the analysis of the features is conducted to answer the numerous hypotheses put up in the paper.\n",
    "\n",
    "#### First we will check for Correlation between the main variable **\"Engagement\"** and the numerous variables we created in the **Feature engineering section**.\n",
    " \n",
    "#### In order to accomplish this, we will employ common correlation tests such as the **Kruskal-Wallis H** test or the **Spearman rank correlation** test.\n",
    " \n",
    "##### The **Kruskal-Wallis H** test a statistical method designed to examine the null hypothesis suggesting that the means of k independent samples are equal, as opposed to the alternative hypothesis indicating variability in at least one population. We will we testing for a **confidence level of 90%**.\n",
    "\n",
    "##### The **Spearman rank correlation** test, a non-parametric method, is employed to investigate potential monotonic relationships between the \"Engagement\" variable and other features devised in the feature engineering phase. Unlike the Kruskal-Wallis H test, which focuses on comparing means, Spearman's method assesses the strength and direction of monotonic associations, making it well-suited for scenarios where linearity assumptions may not hold. This test provides a valuable perspective on potential relationships between variables, adding depth to our analysis. Again, we will conduct the Spearman correlation test with a **confidence level of 90%**.\n",
    "\n",
    "\n",
    "#### The **Pearson correlation coefficient** test is a statistical method utilized to assess the linear relationship between two continuous variables. It is particularly effective when investigating the correlation between the overall length of post descriptions. In this case we use it to investiagte the \"Length\" of text description variable, and user engagement. The null hypothesis posits no linear correlation, while the alternative hypothesis suggests a significant linear relationship. As with previous tests, we will perform the Pearson correlation test with a **confidence level of 90%**."
   ]
  },
  {
   "cell_type": "markdown",
   "metadata": {},
   "source": [
    "### 4.1 **<span style='color:#4267B2'>|</span>** Gunning Fog Score "
   ]
  },
  {
   "cell_type": "markdown",
   "metadata": {},
   "source": [
    "The initial proposed hypothesis (H1a) is as follows:\n",
    "\n",
    "$H_0$ : There is NO correlation between the Gunning Fog Index (GFI) score of the post description and user engagement.<br>\n",
    "$H_A$ : There is a correlation between the Gunning Fog Index (GFI) score of the post description and user engagement."
   ]
  },
  {
   "cell_type": "code",
   "execution_count": 47,
   "metadata": {},
   "outputs": [
    {
     "data": {
      "text/plain": [
       "Type                    0\n",
       "Engagement           1498\n",
       "Followers               0\n",
       "Length                  0\n",
       "Hashtags                0\n",
       "Season                  0\n",
       "Gunning_Fog_Score       0\n",
       "TimeCategory            0\n",
       "Posted_Weekday          0\n",
       "Holiday                 0\n",
       "Median_income           0\n",
       "Dominant_Topic          0\n",
       "dtype: int64"
      ]
     },
     "execution_count": 47,
     "metadata": {},
     "output_type": "execute_result"
    }
   ],
   "source": [
    "NaN_count = corr_df.isna().sum()\n",
    "NaN_count"
   ]
  },
  {
   "cell_type": "code",
   "execution_count": 48,
   "metadata": {},
   "outputs": [],
   "source": [
    "# Dropping NaN values in the specified columns\n",
    "corr_df_cleaned = corr_df.dropna(subset=['Engagement', 'Gunning_Fog_Score'])\n",
    "\n",
    "# Calculate Spearman correlation coefficient and p-value\n",
    "correlation, p_value = spearmanr(corr_df_cleaned['Gunning_Fog_Score'], corr_df_cleaned['Engagement'])\n"
   ]
  },
  {
   "cell_type": "code",
   "execution_count": 49,
   "metadata": {},
   "outputs": [],
   "source": [
    "# Setting the significance level for 90% confidence\n",
    "alpha = 0.10"
   ]
  },
  {
   "cell_type": "code",
   "execution_count": 50,
   "metadata": {},
   "outputs": [
    {
     "name": "stdout",
     "output_type": "stream",
     "text": [
      "Spearman Correlation Coefficient: 0.10737601873339182\n",
      "P-value: 1.7239148898407366e-24\n",
      "Reject the null hypothesis at 90% confidence level. There is a significant correlation.\n"
     ]
    }
   ],
   "source": [
    "# Displaying the results\n",
    "print(f\"Spearman Correlation Coefficient: {correlation}\")\n",
    "print(f\"P-value: {p_value}\")\n",
    "\n",
    "# Check the significance at the 90% confidence level\n",
    "if p_value < alpha:\n",
    "    print(\"Reject the null hypothesis at 90% confidence level. There is a significant correlation.\")\n",
    "else:\n",
    "    print(\"Fail to reject the null hypothesis at 90% confidence level. There is no significant correlation.\")"
   ]
  },
  {
   "cell_type": "markdown",
   "metadata": {},
   "source": [
    "The results indicate that there is a strong statistically significant correlation between Engagement and the Gunning Fog Score. Proven by the significantly smaller **p-value of 1.72e-24** than the alpha ($a$) of 0.10. Hence we successfully reject the Null hypothesis ($H_0$)."
   ]
  },
  {
   "cell_type": "markdown",
   "metadata": {},
   "source": [
    "### Readability categories:\n",
    "\n",
    "In order to further investigate the influence of readability of the post descriptions on engagement, the posts have been categorized into three difficulties. Based on the notion that a Gunning Fog score of 6 is easily readable for sixth-graders. Text aimed at the public should aim for a grade level of around 8. Text above a 17 has a graduate level. In order to have significantly represented samples in each of these categories the following division is proposed. \n",
    "\n",
    "$GFS$ less than 7 - **Easy to read**<br>\n",
    "$GFS$ more or equal to 7 and less or equal to 12 - **Average text**<br>\n",
    "$GFS$ more than 12 - **Difficult Text**\n",
    "\n",
    " *(Source: https://readable.com/readability/gunning-fog-index/)*"
   ]
  },
  {
   "cell_type": "code",
   "execution_count": 51,
   "metadata": {},
   "outputs": [
    {
     "name": "stdout",
     "output_type": "stream",
     "text": [
      "Readability_Category\n",
      "2    4024\n",
      "1    2826\n",
      "3    2148\n",
      "Name: count, dtype: int64\n"
     ]
    },
    {
     "name": "stderr",
     "output_type": "stream",
     "text": [
      "C:\\Users\\Trabala\\AppData\\Local\\Temp\\ipykernel_5064\\820803878.py:11: SettingWithCopyWarning: \n",
      "A value is trying to be set on a copy of a slice from a DataFrame.\n",
      "Try using .loc[row_indexer,col_indexer] = value instead\n",
      "\n",
      "See the caveats in the documentation: https://pandas.pydata.org/pandas-docs/stable/user_guide/indexing.html#returning-a-view-versus-a-copy\n",
      "  corr_df_cleaned['Readability_Category'] = corr_df_cleaned['Gunning_Fog_Score'].apply(categorize_readability)\n"
     ]
    }
   ],
   "source": [
    "# Defining the readability categories based on GFS\n",
    "def categorize_readability(gfs):\n",
    "    if gfs < 7:\n",
    "        return 1  # Easy to Read\n",
    "    elif 7 <= gfs <= 12:\n",
    "        return 2  # Average Text\n",
    "    else:\n",
    "        return 3  # Difficult Text\n",
    "\n",
    "# Apply the categorization to create a new column 'Readability_Category'\n",
    "corr_df_cleaned['Readability_Category'] = corr_df_cleaned['Gunning_Fog_Score'].apply(categorize_readability)\n",
    "\n",
    "# Display the counts for each category\n",
    "readability_counts = corr_df_cleaned['Readability_Category'].value_counts()\n",
    "print(readability_counts)"
   ]
  },
  {
   "cell_type": "code",
   "execution_count": 52,
   "metadata": {},
   "outputs": [
    {
     "name": "stdout",
     "output_type": "stream",
     "text": [
      "Kruskal-Wallis Result:\n",
      "KruskalResult(statistic=78.04568735301855, pvalue=1.1287410588008132e-17)\n",
      "There is a significant difference in engagement between readability categories.\n"
     ]
    }
   ],
   "source": [
    "# Perform Kruskal-Wallis test\n",
    "kruskal_result = kruskal(corr_df_cleaned['Engagement'][corr_df_cleaned['Readability_Category'] == 1],\n",
    "                          corr_df_cleaned['Engagement'][corr_df_cleaned['Readability_Category'] == 2],\n",
    "                          corr_df_cleaned['Engagement'][corr_df_cleaned['Readability_Category'] == 3])\n",
    "\n",
    "# Display the Kruskal-Wallis result\n",
    "print(\"Kruskal-Wallis Result:\")\n",
    "print(kruskal_result)\n",
    "\n",
    "# Check for statistical significance\n",
    "if kruskal_result.pvalue < 0.10:\n",
    "    print(\"There is a significant difference in engagement between readability categories.\")\n",
    "else:\n",
    "    print(\"No significant difference in engagement between readability categories.\")"
   ]
  },
  {
   "cell_type": "markdown",
   "metadata": {},
   "source": [
    "Having established that there is a statistical difference between the categories (as indicated by p < $a$). We can conduct a post-hoc analysis. This post-hoc analysis aims uncover the strength and direction of the influence of readability on engagement. \n",
    "\n",
    "We will not cover the following hypothesis H1b from the paper:\n",
    "\n",
    "$H1b$: As the Gunning Fog Index (GFI) category of the post description increases from \"Easy to read\" to \"Average text\" and further to \"Difficult Text,\" there is a negative impact on user engagement.\n",
    "\n",
    "We employ **Dunn's test** for multiple comparisons. Dunn's test is particularly suited for situations where a Kruskal-Wallis test reveals significant differences among more than two groups, as is the case here. The Kruskal-Wallis test assesses whether there are any differences in engagement across the readability categories, and upon establishing significance, Dunn's test allows us to pinpoint the specific pairs of categories contributing to this difference."
   ]
  },
  {
   "cell_type": "code",
   "execution_count": 53,
   "metadata": {},
   "outputs": [
    {
     "name": "stdout",
     "output_type": "stream",
     "text": [
      "There is a significant difference in engagement between readability categories.\n",
      "\n",
      "Pairwise Comparison (Dunn's Test) Results:\n",
      "              1             2             3\n",
      "1  1.000000e+00  6.754096e-07  4.420127e-18\n",
      "2  6.754096e-07  1.000000e+00  9.360308e-06\n",
      "3  4.420127e-18  9.360308e-06  1.000000e+00\n"
     ]
    }
   ],
   "source": [
    "# Checking for statistical significance between categories\n",
    "if kruskal_result.pvalue < 0.05:\n",
    "    print(\"There is a significant difference in engagement between readability categories.\")\n",
    "    \n",
    "    # Perform Dunn's test for multiple comparisons\n",
    "    dunn_result = sp.posthoc_dunn(corr_df_cleaned, val_col='Engagement', group_col='Readability_Category', p_adjust='bonferroni')\n",
    "    \n",
    "    # Display the pairwise comparison results\n",
    "    print(\"\\nPairwise Comparison (Dunn's Test) Results:\")\n",
    "    print(dunn_result)\n",
    "else:\n",
    "    print(\"No significant difference in engagement between readability categories.\")"
   ]
  },
  {
   "cell_type": "markdown",
   "metadata": {},
   "source": [
    "**Results:**\n",
    "\n",
    "Results revealed that there is a significant difference in user engagement between posts categorized as \"Easy to read\" (category 1) and \"Average text\" (category 2). The p-value is approximately 6.75e-07, which is less than the set significance level of **0.05**<br>\n",
    "\n",
    "Also, there is a significant difference in user engagement between posts categorized as \"Easy to read\" (category 1) and \"Difficult Text\" (category 3). The p-value is approximately 4.42e-18, which is also significantly lower than the significance level.\n",
    "\n",
    "Lastly a significant difference in user engagement between posts categorized as \"Average text\" (category 2) and \"Difficult Text\" (category 3). The p-value is approximately 9.36e-06, which is less than the significance level.\n",
    "\n",
    "**In summary, the results suggest that there are significant differences in user engagement between all pairs of readability categories. "
   ]
  },
  {
   "cell_type": "markdown",
   "metadata": {},
   "source": [
    "### ***Pairwise tests***\n",
    "\n",
    "Lastly pairwise tests were performed to reveal the strenght and direction of the relationships between the stated readability categories. Specifically, we aim to unveil the strength and direction of these relationships. The pairwise comparisons will involve contrasts between \"Easy to read\" (Category 1), \"Average text\" (Category 2), and \"Difficult text\" (Category 3) in terms of user engagement."
   ]
  },
  {
   "cell_type": "code",
   "execution_count": 54,
   "metadata": {},
   "outputs": [
    {
     "name": "stdout",
     "output_type": "stream",
     "text": [
      "               Contrast  A  B  Paired  Parametric         T          dof  \\\n",
      "0  Readability_Category  1  2   False        True  0.977350  2920.128382   \n",
      "1  Readability_Category  1  3   False        True -0.350571  3152.488892   \n",
      "2  Readability_Category  2  3   False        True -4.897249  3401.421957   \n",
      "\n",
      "  alternative     p-unc      BF10     cohen  \n",
      "0   two-sided  0.328477     0.045  0.028384  \n",
      "1   two-sided  0.725933     0.034 -0.008853  \n",
      "2   two-sided  0.000001  4600.826 -0.143508  \n"
     ]
    },
    {
     "name": "stderr",
     "output_type": "stream",
     "text": [
      "c:\\Users\\Trabala\\anaconda3\\lib\\site-packages\\pingouin\\pairwise.py:28: UserWarning: pairwise_ttests is deprecated, use pairwise_tests instead.\n",
      "  warnings.warn(\"pairwise_ttests is deprecated, use pairwise_tests instead.\", UserWarning)\n"
     ]
    }
   ],
   "source": [
    "# Extract user engagement data for each readability category\n",
    "category_1 = corr_df_cleaned[corr_df_cleaned['Readability_Category'] == 1]['Engagement']\n",
    "category_2 = corr_df_cleaned[corr_df_cleaned['Readability_Category'] == 2]['Engagement']\n",
    "category_3 = corr_df_cleaned[corr_df_cleaned['Readability_Category'] == 3]['Engagement']\n",
    "\n",
    "# Perform pairwise comparisons with effect size (Cohen's d)\n",
    "pairwise_comparison = pg.pairwise_ttests(dv='Engagement', between='Readability_Category', data=corr_df_cleaned, effsize='cohen')\n",
    "\n",
    "# Display the results\n",
    "print(pairwise_comparison)"
   ]
  },
  {
   "cell_type": "markdown",
   "metadata": {},
   "source": [
    "**Results:**  (Interpretation by ChatGPT)\n",
    "\n",
    "**Contrast 1 (Category 1 vs. Category 2)**:<br>\n",
    "**Direction:** Positive\n",
    "\n",
    "**Strength:** Weak<br>\n",
    "**Interpretation:** There is a weak positive relationship between posts categorized as \"Easy to read\" (Category 1) and \"Average text\" (Category 2). The effect size (Cohen's d) is 0.028, indicating a small effect.<br>\n",
    "\n",
    "\n",
    "**Contrast 2 (Category 1 vs. Category 3):**<br>\n",
    "**Direction:** Negative\n",
    "\n",
    "**Strength:** Very Weak<br>\n",
    "**Interpretation:** There is a very weak negative relationship between posts categorized as \"Easy to read\" (Category 1) and \"Difficult text\" (Category 3). The effect size (Cohen's d) is -0.009, indicating a very small effect.<br>\n",
    "\n",
    "\n",
    "**Contrast 3 (Category 2 vs. Category 3):**<br>\n",
    "**Direction:** Negative\n",
    "\n",
    "**Strength:** Moderate<br>\n",
    "**Interpretation:** There is a moderate negative relationship between posts categorized as \"Average text\" (Category 2) and \"Difficult text\" (Category 3). The effect size (Cohen's d) is -0.144, indicating a moderate effect.<br>\n",
    "\n",
    "\n",
    "To answer the hypothesis *($H1b$: As the Gunning Fog Index (GFI) category of the post description increases from \"Easy to read\" to \"Average text\" and further to \"Difficult Text,\" there is a negative impact on user engagement)*. Overall, The observed relationships between readability categories reveal a consistent trend of decreasing user engagement as the text becomes more complex. This underscores the importance of considering the readability of post descriptions for optimizing user engagement on social media."
   ]
  },
  {
   "cell_type": "markdown",
   "metadata": {},
   "source": [
    "### 4.2 **<span style='color:#4267B2'>|</span>** Use of hashtags on engagement:"
   ]
  },
  {
   "cell_type": "markdown",
   "metadata": {},
   "source": [
    "In this section we analyse if the nowadays common usage of Hashtags in post descriptions, actually influences the engagement on Facebook. The following hypothesis (H2) is tested:\n",
    "\n",
    "$H2:$ Use of hashtags in post descriptions has an effect on user engagement"
   ]
  },
  {
   "cell_type": "code",
   "execution_count": 55,
   "metadata": {},
   "outputs": [
    {
     "name": "stderr",
     "output_type": "stream",
     "text": [
      "C:\\Users\\Trabala\\AppData\\Local\\Temp\\ipykernel_5064\\2409199522.py:2: SettingWithCopyWarning: \n",
      "A value is trying to be set on a copy of a slice from a DataFrame.\n",
      "Try using .loc[row_indexer,col_indexer] = value instead\n",
      "\n",
      "See the caveats in the documentation: https://pandas.pydata.org/pandas-docs/stable/user_guide/indexing.html#returning-a-view-versus-a-copy\n",
      "  corr_df_cleaned['Has_Hashtag'] = corr_df_cleaned['Hashtags'].apply(lambda x: 1 if x > 0 else 0)\n"
     ]
    }
   ],
   "source": [
    "# Creating a new column \"Has_Hashtag\" based on the conditions\n",
    "corr_df_cleaned['Has_Hashtag'] = corr_df_cleaned['Hashtags'].apply(lambda x: 1 if x > 0 else 0)"
   ]
  },
  {
   "cell_type": "code",
   "execution_count": 56,
   "metadata": {},
   "outputs": [
    {
     "data": {
      "text/plain": [
       "Has_Hashtag\n",
       "0    6399\n",
       "1    2599\n",
       "Name: count, dtype: int64"
      ]
     },
     "execution_count": 56,
     "metadata": {},
     "output_type": "execute_result"
    }
   ],
   "source": [
    "corr_df_cleaned['Has_Hashtag'].value_counts()"
   ]
  },
  {
   "cell_type": "code",
   "execution_count": 57,
   "metadata": {},
   "outputs": [
    {
     "name": "stdout",
     "output_type": "stream",
     "text": [
      "Kruskal-Wallis H test statistic: 38.517471086344536\n",
      "P-value: 5.426572251814271e-10\n",
      "There is a significant difference in engagement between posts with and without hashtags.\n"
     ]
    }
   ],
   "source": [
    "# Create a DataFrame with the relevant columns\n",
    "data_to_test = corr_df_cleaned[['Has_Hashtag', 'Engagement']]\n",
    "\n",
    "# Group the data by the 'Has_Hashtag' column\n",
    "groups = [group['Engagement'].values for name, group in data_to_test.groupby('Has_Hashtag')]\n",
    "\n",
    "# Perform the Kruskal-Wallis test\n",
    "statistic, p_value = kruskal(*groups)\n",
    "\n",
    "# Display the results\n",
    "print(f'Kruskal-Wallis H test statistic: {statistic}')\n",
    "print(f'P-value: {p_value}')\n",
    "\n",
    "# Interpret the results\n",
    "alpha = 0.10\n",
    "if p_value < alpha:\n",
    "    print(\"There is a significant difference in engagement between posts with and without hashtags.\")\n",
    "else:\n",
    "    print(\"There is no significant difference in engagement between posts with and without hashtags.\")"
   ]
  },
  {
   "cell_type": "markdown",
   "metadata": {},
   "source": [
    "**Result:**\n",
    "\n",
    "The p-value is extremely low (5.42e-10) which is below the p.value of 0.10, which indicates strong evidence against the null hypothesis. We can hence confidently reject the null hypothesis. "
   ]
  },
  {
   "cell_type": "markdown",
   "metadata": {},
   "source": [
    "### 4.3 **<span style='color:#4267B2'>|</span>** Length of post description on engagement"
   ]
  },
  {
   "cell_type": "markdown",
   "metadata": {},
   "source": [
    "Moving on to the next hypothesis. It was argued in the paper that the overall length of the text in the post descrpition will have an influence on user engagement. Following hypothesis was proposed:\n",
    "\n",
    "$H3$ : The overall length of the post descriptions has an effect on user engagement"
   ]
  },
  {
   "cell_type": "code",
   "execution_count": 58,
   "metadata": {},
   "outputs": [
    {
     "name": "stdout",
     "output_type": "stream",
     "text": [
      "Pearson correlation coefficient: 0.029075857081252543\n",
      "P-value: 0.005810792567988874\n",
      "There is a significant linear relationship between the overall length of post descriptions and user engagement.\n"
     ]
    }
   ],
   "source": [
    "# Perform the Pearson correlation test\n",
    "correlation_coefficient, p_value = pearsonr(corr_df_cleaned['Length'], corr_df_cleaned['Engagement'])\n",
    "\n",
    "# Display the results\n",
    "print(f'Pearson correlation coefficient: {correlation_coefficient}')\n",
    "print(f'P-value: {p_value}')\n",
    "\n",
    "# Interpret the results\n",
    "alpha = 0.05\n",
    "if p_value < alpha:\n",
    "    print(\"There is a significant linear relationship between the overall length of post descriptions and user engagement.\")\n",
    "else:\n",
    "    print(\"There is no significant linear relationship between the overall length of post descriptions and user engagement.\")"
   ]
  },
  {
   "cell_type": "markdown",
   "metadata": {},
   "source": [
    "### 4.4 **<span style='color:#4267B2'>|</span>** Time of day of posting on engagement"
   ]
  },
  {
   "cell_type": "markdown",
   "metadata": {},
   "source": [
    "Prior research showed that posts tend to gather more engagement when posted during specific time frames of the day. With posts around the lunch time (10am, 2pm) and late afternoon (5pm) attract the most user engagement (Fournier & Avery, 2011). The posed hypothesis sounds as follows:\n",
    "\n",
    "$H4$ : The time (of day) of publishing the post has an effect on user engagement"
   ]
  },
  {
   "cell_type": "code",
   "execution_count": 59,
   "metadata": {},
   "outputs": [
    {
     "data": {
      "text/plain": [
       "TimeCategory\n",
       "3    3702\n",
       "2    3369\n",
       "1    1791\n",
       "0     136\n",
       "Name: count, dtype: int64"
      ]
     },
     "execution_count": 59,
     "metadata": {},
     "output_type": "execute_result"
    }
   ],
   "source": [
    "# Counting the number of posts for each TimeCategory\n",
    "time_category_counts = corr_df_cleaned['TimeCategory'].value_counts()\n",
    "\n",
    "time_category_counts"
   ]
  },
  {
   "cell_type": "markdown",
   "metadata": {},
   "source": [
    "**0**: Morning 5 am to 12 pm \n",
    "\n",
    "**1**: Afternoon 12 pm to 5 pm.\n",
    "\n",
    "**2**: Evening 5 pm to 9 pm.\n",
    "\n",
    "**3**: Night 9 pm to 4 am."
   ]
  },
  {
   "cell_type": "code",
   "execution_count": 60,
   "metadata": {},
   "outputs": [
    {
     "name": "stdout",
     "output_type": "stream",
     "text": [
      "KruskalResult(statistic=27.58609003805546, pvalue=4.436153090330748e-06)\n"
     ]
    }
   ],
   "source": [
    "# Separating the 'Engagement' values for each time category\n",
    "time_category_0 = corr_df_cleaned[corr_df_cleaned['TimeCategory'] == 0]['Engagement']\n",
    "time_category_1 = corr_df_cleaned[corr_df_cleaned['TimeCategory'] == 1]['Engagement']\n",
    "time_category_2 = corr_df_cleaned[corr_df_cleaned['TimeCategory'] == 2]['Engagement']\n",
    "time_category_3 = corr_df_cleaned[corr_df_cleaned['TimeCategory'] == 3]['Engagement']\n",
    "\n",
    "# Performing Kruskal-Wallis test\n",
    "kruskal_result = stats.kruskal(time_category_0, time_category_1, time_category_2, time_category_3)\n",
    "\n",
    "# Display the result\n",
    "print(kruskal_result)"
   ]
  },
  {
   "cell_type": "markdown",
   "metadata": {},
   "source": [
    "**Results:**\n",
    "\n",
    "The low p-value significantly smaller than < 0.05 indicates that there is significant differences between posts of different times of day and engagement. Conducting a post-hoc test will enable us to compare the different categories in greater detail. Again we will perfrom the Dunn's test to compare the different categories with each other."
   ]
  },
  {
   "cell_type": "code",
   "execution_count": 61,
   "metadata": {},
   "outputs": [
    {
     "name": "stdout",
     "output_type": "stream",
     "text": [
      "     1         2         3         4\n",
      "1  1.0  1.000000  1.000000  1.000000\n",
      "2  1.0  1.000000  1.000000  0.000039\n",
      "3  1.0  1.000000  1.000000  0.000129\n",
      "4  1.0  0.000039  0.000129  1.000000\n"
     ]
    }
   ],
   "source": [
    "# Performing Dunn's test\n",
    "posthoc_result = sp.posthoc_dunn([time_category_0, time_category_1, time_category_2, time_category_3],\n",
    "                                  p_adjust='bonferroni', val_col='Engagement', group_col='TimeCategory')\n",
    "\n",
    "# Display the result\n",
    "print(posthoc_result)"
   ]
  },
  {
   "cell_type": "markdown",
   "metadata": {},
   "source": [
    "**Results:**\n",
    "\n",
    "The results show significant results in the difference of engagement between Night (TimeCategory:3) and Noon (TC:1) (p = 0.000039). Moreover there also was a significant difference was observed in user engagement between posts published in the Night and in the Evening (p = 0.000129). There were no significant differences between posts posted during other times of day. "
   ]
  },
  {
   "cell_type": "markdown",
   "metadata": {},
   "source": [
    "### 4.5 **<span style='color:#4267B2'>|</span>** Posting during Holidays on engagement"
   ]
  },
  {
   "cell_type": "markdown",
   "metadata": {},
   "source": [
    "In the paper it was established that contextual factors have an influence engagement that social media posts gather. Hypothesis was posed as follows:\n",
    "\n",
    "$H5$ : Publishing a post on Holidays (either weekday or weekend) has an effect on user engagement"
   ]
  },
  {
   "cell_type": "code",
   "execution_count": 62,
   "metadata": {},
   "outputs": [
    {
     "data": {
      "text/html": [
       "<div>\n",
       "<style scoped>\n",
       "    .dataframe tbody tr th:only-of-type {\n",
       "        vertical-align: middle;\n",
       "    }\n",
       "\n",
       "    .dataframe tbody tr th {\n",
       "        vertical-align: top;\n",
       "    }\n",
       "\n",
       "    .dataframe thead th {\n",
       "        text-align: right;\n",
       "    }\n",
       "</style>\n",
       "<table border=\"1\" class=\"dataframe\">\n",
       "  <thead>\n",
       "    <tr style=\"text-align: right;\">\n",
       "      <th></th>\n",
       "      <th>Type</th>\n",
       "      <th>Engagement</th>\n",
       "      <th>Followers</th>\n",
       "      <th>Length</th>\n",
       "      <th>Hashtags</th>\n",
       "      <th>Season</th>\n",
       "      <th>Gunning_Fog_Score</th>\n",
       "      <th>TimeCategory</th>\n",
       "      <th>Posted_Weekday</th>\n",
       "      <th>Holiday</th>\n",
       "      <th>Median_income</th>\n",
       "      <th>Dominant_Topic</th>\n",
       "      <th>Readability_Category</th>\n",
       "      <th>Has_Hashtag</th>\n",
       "    </tr>\n",
       "  </thead>\n",
       "  <tbody>\n",
       "    <tr>\n",
       "      <th>0</th>\n",
       "      <td>0</td>\n",
       "      <td>0.000222</td>\n",
       "      <td>1500412</td>\n",
       "      <td>37</td>\n",
       "      <td>0</td>\n",
       "      <td>3</td>\n",
       "      <td>8.333333</td>\n",
       "      <td>3</td>\n",
       "      <td>True</td>\n",
       "      <td>0</td>\n",
       "      <td>1</td>\n",
       "      <td>1</td>\n",
       "      <td>2</td>\n",
       "      <td>0</td>\n",
       "    </tr>\n",
       "    <tr>\n",
       "      <th>1</th>\n",
       "      <td>0</td>\n",
       "      <td>0.000227</td>\n",
       "      <td>1500412</td>\n",
       "      <td>32</td>\n",
       "      <td>0</td>\n",
       "      <td>3</td>\n",
       "      <td>8.978049</td>\n",
       "      <td>3</td>\n",
       "      <td>True</td>\n",
       "      <td>0</td>\n",
       "      <td>1</td>\n",
       "      <td>7</td>\n",
       "      <td>2</td>\n",
       "      <td>0</td>\n",
       "    </tr>\n",
       "    <tr>\n",
       "      <th>2</th>\n",
       "      <td>0</td>\n",
       "      <td>0.000289</td>\n",
       "      <td>1500412</td>\n",
       "      <td>23</td>\n",
       "      <td>0</td>\n",
       "      <td>3</td>\n",
       "      <td>2.600000</td>\n",
       "      <td>2</td>\n",
       "      <td>False</td>\n",
       "      <td>1</td>\n",
       "      <td>1</td>\n",
       "      <td>7</td>\n",
       "      <td>1</td>\n",
       "      <td>0</td>\n",
       "    </tr>\n",
       "    <tr>\n",
       "      <th>3</th>\n",
       "      <td>0</td>\n",
       "      <td>0.000267</td>\n",
       "      <td>1500412</td>\n",
       "      <td>24</td>\n",
       "      <td>0</td>\n",
       "      <td>3</td>\n",
       "      <td>4.228571</td>\n",
       "      <td>1</td>\n",
       "      <td>False</td>\n",
       "      <td>0</td>\n",
       "      <td>1</td>\n",
       "      <td>3</td>\n",
       "      <td>1</td>\n",
       "      <td>0</td>\n",
       "    </tr>\n",
       "    <tr>\n",
       "      <th>4</th>\n",
       "      <td>0</td>\n",
       "      <td>0.000313</td>\n",
       "      <td>1500412</td>\n",
       "      <td>43</td>\n",
       "      <td>0</td>\n",
       "      <td>3</td>\n",
       "      <td>16.266667</td>\n",
       "      <td>3</td>\n",
       "      <td>True</td>\n",
       "      <td>0</td>\n",
       "      <td>1</td>\n",
       "      <td>6</td>\n",
       "      <td>3</td>\n",
       "      <td>0</td>\n",
       "    </tr>\n",
       "    <tr>\n",
       "      <th>...</th>\n",
       "      <td>...</td>\n",
       "      <td>...</td>\n",
       "      <td>...</td>\n",
       "      <td>...</td>\n",
       "      <td>...</td>\n",
       "      <td>...</td>\n",
       "      <td>...</td>\n",
       "      <td>...</td>\n",
       "      <td>...</td>\n",
       "      <td>...</td>\n",
       "      <td>...</td>\n",
       "      <td>...</td>\n",
       "      <td>...</td>\n",
       "      <td>...</td>\n",
       "    </tr>\n",
       "    <tr>\n",
       "      <th>10434</th>\n",
       "      <td>1</td>\n",
       "      <td>0.003245</td>\n",
       "      <td>45000</td>\n",
       "      <td>16</td>\n",
       "      <td>0</td>\n",
       "      <td>4</td>\n",
       "      <td>4.022222</td>\n",
       "      <td>1</td>\n",
       "      <td>True</td>\n",
       "      <td>0</td>\n",
       "      <td>2</td>\n",
       "      <td>0</td>\n",
       "      <td>1</td>\n",
       "      <td>0</td>\n",
       "    </tr>\n",
       "    <tr>\n",
       "      <th>10435</th>\n",
       "      <td>1</td>\n",
       "      <td>0.000205</td>\n",
       "      <td>45000</td>\n",
       "      <td>6</td>\n",
       "      <td>0</td>\n",
       "      <td>4</td>\n",
       "      <td>0.600000</td>\n",
       "      <td>2</td>\n",
       "      <td>False</td>\n",
       "      <td>0</td>\n",
       "      <td>2</td>\n",
       "      <td>7</td>\n",
       "      <td>1</td>\n",
       "      <td>0</td>\n",
       "    </tr>\n",
       "    <tr>\n",
       "      <th>10436</th>\n",
       "      <td>1</td>\n",
       "      <td>0.000501</td>\n",
       "      <td>45000</td>\n",
       "      <td>15</td>\n",
       "      <td>0</td>\n",
       "      <td>4</td>\n",
       "      <td>11.644444</td>\n",
       "      <td>2</td>\n",
       "      <td>True</td>\n",
       "      <td>0</td>\n",
       "      <td>2</td>\n",
       "      <td>7</td>\n",
       "      <td>2</td>\n",
       "      <td>0</td>\n",
       "    </tr>\n",
       "    <tr>\n",
       "      <th>10437</th>\n",
       "      <td>1</td>\n",
       "      <td>0.000799</td>\n",
       "      <td>45000</td>\n",
       "      <td>23</td>\n",
       "      <td>0</td>\n",
       "      <td>4</td>\n",
       "      <td>8.200000</td>\n",
       "      <td>2</td>\n",
       "      <td>True</td>\n",
       "      <td>0</td>\n",
       "      <td>2</td>\n",
       "      <td>1</td>\n",
       "      <td>2</td>\n",
       "      <td>0</td>\n",
       "    </tr>\n",
       "    <tr>\n",
       "      <th>10438</th>\n",
       "      <td>1</td>\n",
       "      <td>0.000824</td>\n",
       "      <td>45000</td>\n",
       "      <td>23</td>\n",
       "      <td>0</td>\n",
       "      <td>4</td>\n",
       "      <td>8.796522</td>\n",
       "      <td>2</td>\n",
       "      <td>True</td>\n",
       "      <td>0</td>\n",
       "      <td>2</td>\n",
       "      <td>7</td>\n",
       "      <td>2</td>\n",
       "      <td>0</td>\n",
       "    </tr>\n",
       "  </tbody>\n",
       "</table>\n",
       "<p>8998 rows × 14 columns</p>\n",
       "</div>"
      ],
      "text/plain": [
       "       Type  Engagement Followers  Length  Hashtags  Season  \\\n",
       "0         0    0.000222   1500412      37         0       3   \n",
       "1         0    0.000227   1500412      32         0       3   \n",
       "2         0    0.000289   1500412      23         0       3   \n",
       "3         0    0.000267   1500412      24         0       3   \n",
       "4         0    0.000313   1500412      43         0       3   \n",
       "...     ...         ...       ...     ...       ...     ...   \n",
       "10434     1    0.003245     45000      16         0       4   \n",
       "10435     1    0.000205     45000       6         0       4   \n",
       "10436     1    0.000501     45000      15         0       4   \n",
       "10437     1    0.000799     45000      23         0       4   \n",
       "10438     1    0.000824     45000      23         0       4   \n",
       "\n",
       "       Gunning_Fog_Score  TimeCategory  Posted_Weekday  Holiday Median_income  \\\n",
       "0               8.333333             3            True        0             1   \n",
       "1               8.978049             3            True        0             1   \n",
       "2               2.600000             2           False        1             1   \n",
       "3               4.228571             1           False        0             1   \n",
       "4              16.266667             3            True        0             1   \n",
       "...                  ...           ...             ...      ...           ...   \n",
       "10434           4.022222             1            True        0             2   \n",
       "10435           0.600000             2           False        0             2   \n",
       "10436          11.644444             2            True        0             2   \n",
       "10437           8.200000             2            True        0             2   \n",
       "10438           8.796522             2            True        0             2   \n",
       "\n",
       "       Dominant_Topic  Readability_Category  Has_Hashtag  \n",
       "0                   1                     2            0  \n",
       "1                   7                     2            0  \n",
       "2                   7                     1            0  \n",
       "3                   3                     1            0  \n",
       "4                   6                     3            0  \n",
       "...               ...                   ...          ...  \n",
       "10434               0                     1            0  \n",
       "10435               7                     1            0  \n",
       "10436               7                     2            0  \n",
       "10437               1                     2            0  \n",
       "10438               7                     2            0  \n",
       "\n",
       "[8998 rows x 14 columns]"
      ]
     },
     "execution_count": 62,
     "metadata": {},
     "output_type": "execute_result"
    }
   ],
   "source": [
    "corr_df_cleaned"
   ]
  },
  {
   "cell_type": "code",
   "execution_count": 63,
   "metadata": {},
   "outputs": [
    {
     "data": {
      "text/html": [
       "<div>\n",
       "<style scoped>\n",
       "    .dataframe tbody tr th:only-of-type {\n",
       "        vertical-align: middle;\n",
       "    }\n",
       "\n",
       "    .dataframe tbody tr th {\n",
       "        vertical-align: top;\n",
       "    }\n",
       "\n",
       "    .dataframe thead th {\n",
       "        text-align: right;\n",
       "    }\n",
       "</style>\n",
       "<table border=\"1\" class=\"dataframe\">\n",
       "  <thead>\n",
       "    <tr style=\"text-align: right;\">\n",
       "      <th></th>\n",
       "      <th>count</th>\n",
       "      <th>mean</th>\n",
       "      <th>std</th>\n",
       "      <th>min</th>\n",
       "      <th>25%</th>\n",
       "      <th>50%</th>\n",
       "      <th>75%</th>\n",
       "      <th>max</th>\n",
       "    </tr>\n",
       "    <tr>\n",
       "      <th>Holiday</th>\n",
       "      <th></th>\n",
       "      <th></th>\n",
       "      <th></th>\n",
       "      <th></th>\n",
       "      <th></th>\n",
       "      <th></th>\n",
       "      <th></th>\n",
       "      <th></th>\n",
       "    </tr>\n",
       "  </thead>\n",
       "  <tbody>\n",
       "    <tr>\n",
       "      <th>0</th>\n",
       "      <td>7642.0</td>\n",
       "      <td>0.001172</td>\n",
       "      <td>0.006968</td>\n",
       "      <td>0.0</td>\n",
       "      <td>0.000161</td>\n",
       "      <td>0.000383</td>\n",
       "      <td>0.000936</td>\n",
       "      <td>0.542790</td>\n",
       "    </tr>\n",
       "    <tr>\n",
       "      <th>1</th>\n",
       "      <td>1356.0</td>\n",
       "      <td>0.001461</td>\n",
       "      <td>0.015610</td>\n",
       "      <td>0.0</td>\n",
       "      <td>0.000180</td>\n",
       "      <td>0.000394</td>\n",
       "      <td>0.000984</td>\n",
       "      <td>0.568516</td>\n",
       "    </tr>\n",
       "  </tbody>\n",
       "</table>\n",
       "</div>"
      ],
      "text/plain": [
       "          count      mean       std  min       25%       50%       75%  \\\n",
       "Holiday                                                                  \n",
       "0        7642.0  0.001172  0.006968  0.0  0.000161  0.000383  0.000936   \n",
       "1        1356.0  0.001461  0.015610  0.0  0.000180  0.000394  0.000984   \n",
       "\n",
       "              max  \n",
       "Holiday            \n",
       "0        0.542790  \n",
       "1        0.568516  "
      ]
     },
     "execution_count": 63,
     "metadata": {},
     "output_type": "execute_result"
    }
   ],
   "source": [
    "holiday_engagement = corr_df_cleaned[['Engagement', 'Holiday']].copy()\n",
    "holiday_engagement.groupby('Holiday')['Engagement'].describe()"
   ]
  },
  {
   "cell_type": "code",
   "execution_count": 64,
   "metadata": {},
   "outputs": [
    {
     "name": "stdout",
     "output_type": "stream",
     "text": [
      "There is no significant difference in mean user engagement between holiday and non-holiday posts.\n",
      "p value:  0.5041253510266392\n"
     ]
    }
   ],
   "source": [
    "# Extracting the engagement data for holiday and non-holiday posts\n",
    "engagement_holiday = holiday_engagement[holiday_engagement['Holiday'] == 1]['Engagement']\n",
    "engagement_non_holiday = holiday_engagement[holiday_engagement['Holiday'] == 0]['Engagement']\n",
    "\n",
    "# Performing two-sample t-test\n",
    "t_statistic, p_value = stats.ttest_ind(engagement_holiday, engagement_non_holiday, equal_var=False)\n",
    "\n",
    "# Interpreting the results\n",
    "if p_value < 0.05:\n",
    "    print(\"There is a significant difference in mean user engagement between holiday and non-holiday posts.\")\n",
    "else:\n",
    "    print(\"There is no significant difference in mean user engagement between holiday and non-holiday posts.\")\n",
    "print(\"p value: \", p_value)"
   ]
  },
  {
   "cell_type": "markdown",
   "metadata": {},
   "source": [
    "**Results:**\n",
    "\n",
    "The p-value of 0.5041 obtained from the t-test suggests that there is no significant difference in the mean user engagement between holiday and non-holiday posts. Hence we fail to reject the null hypothesis. "
   ]
  },
  {
   "cell_type": "markdown",
   "metadata": {},
   "source": [
    "### 4.6 **<span style='color:#4267B2'>|</span>** Season on Engagement"
   ]
  },
  {
   "cell_type": "markdown",
   "metadata": {},
   "source": [
    "Moreover, previous research convincingly proposed that seasons of the year have an influence on user engagement with online posts. *\"In the context of amusement parks, ruring holidays or festive seasons, users may exhibit a heightened interest in interacting with material (i.e. a Christmas themed ride) that is pertinent to the particular occasion or time of year.\"* Hypothesis was proposed as:\n",
    "\n",
    "$H6$ : Publishing a post on specific seasons has an effect on user engagement"
   ]
  },
  {
   "cell_type": "markdown",
   "metadata": {},
   "source": [
    "The seasons were mapped to categories as follows:\n",
    "\n",
    "**Winter :** 1\n",
    "\n",
    "**Spring :** 2\n",
    "\n",
    "**Summer :** 3\n",
    "\n",
    "**Fall :** 4\n"
   ]
  },
  {
   "cell_type": "code",
   "execution_count": 65,
   "metadata": {},
   "outputs": [
    {
     "data": {
      "text/plain": [
       "Season\n",
       "4    4207\n",
       "2    1743\n",
       "1    1580\n",
       "3    1468\n",
       "Name: count, dtype: int64"
      ]
     },
     "execution_count": 65,
     "metadata": {},
     "output_type": "execute_result"
    }
   ],
   "source": [
    "# Counting the number of posts for each Season\n",
    "season_category_counts = corr_df_cleaned['Season'].value_counts()\n",
    "\n",
    "season_category_counts"
   ]
  },
  {
   "cell_type": "code",
   "execution_count": 66,
   "metadata": {},
   "outputs": [
    {
     "name": "stdout",
     "output_type": "stream",
     "text": [
      "Welch's ANOVA results:\n",
      "   Source  ddof1        ddof2         F    p-unc       np2\n",
      "0  Season      3  4254.337928  2.443718  0.06221  0.000103\n",
      "There is no significant difference in mean user engagement among different seasons.\n"
     ]
    }
   ],
   "source": [
    "# Extracting user engagement data for each season\n",
    "season_1 = corr_df_cleaned[corr_df_cleaned['Season'] == 1]['Engagement']\n",
    "season_2 = corr_df_cleaned[corr_df_cleaned['Season'] == 2]['Engagement']\n",
    "season_3 = corr_df_cleaned[corr_df_cleaned['Season'] == 3]['Engagement']\n",
    "season_4 = corr_df_cleaned[corr_df_cleaned['Season'] == 4]['Engagement']\n",
    "# Perform Welch's ANOVA\n",
    "welch_result = pg.welch_anova(data=corr_df_cleaned, dv='Engagement', between='Season')\n",
    "\n",
    "# Display the results\n",
    "print(\"Welch's ANOVA results:\")\n",
    "print(welch_result)\n",
    "\n",
    "# Interpretation\n",
    "if welch_result['p-unc'].values[0] < 0.05:\n",
    "    print(\"There is a significant difference in mean user engagement among different seasons.\")\n",
    "else:\n",
    "    print(\"There is no significant difference in mean user engagement among different seasons.\")"
   ]
  },
  {
   "cell_type": "markdown",
   "metadata": {},
   "source": [
    "**Results:**\n",
    "\n",
    "In this analysis of the seasons variable, the p-value is 0.06221, which is greater than the set significance level of 0.05. Therefore, we fail to reject the null hypothesis. The conclusion is that there is no significant difference in mean user engagement among different seasons. However, since this is a border case and there is robust evidence of seasons having an effect in other studies, we will keep this variable for the multilevel analysis conducted further below."
   ]
  },
  {
   "cell_type": "markdown",
   "metadata": {},
   "source": [
    "### 4.6 **<span style='color:#4267B2'>|</span>** Content type and user engagement"
   ]
  },
  {
   "cell_type": "markdown",
   "metadata": {},
   "source": [
    "Distinct types of posts based on their content were indentified in the literature review. A topic analysis was undergone in the previous section of this notebook to classify and devide the posts into these distinct content types based on presence of keywords. The final hypothesis was stated as follows: \n",
    "\n",
    "$H7$ : The content type of the post has an effect on user engagement"
   ]
  },
  {
   "cell_type": "code",
   "execution_count": 67,
   "metadata": {},
   "outputs": [
    {
     "name": "stderr",
     "output_type": "stream",
     "text": [
      "C:\\Users\\Trabala\\AppData\\Local\\Temp\\ipykernel_5064\\2843337241.py:14: SettingWithCopyWarning: \n",
      "A value is trying to be set on a copy of a slice from a DataFrame.\n",
      "Try using .loc[row_indexer,col_indexer] = value instead\n",
      "\n",
      "See the caveats in the documentation: https://pandas.pydata.org/pandas-docs/stable/user_guide/indexing.html#returning-a-view-versus-a-copy\n",
      "  corr_df_cleaned['Topic_Label'] = corr_df_cleaned['Dominant_Topic'].map(topic_mapping)\n"
     ]
    }
   ],
   "source": [
    "# Defining a mapping dictionary based on the provided legend\n",
    "topic_mapping = {\n",
    "    0: 'Information post',\n",
    "    1: 'Renumeration post',\n",
    "    2: 'Entertainment post',\n",
    "    3: 'Entertainment post',\n",
    "    4: 'Renumeration post',\n",
    "    5: 'Entertainment post',\n",
    "    6: 'Entertainment post',\n",
    "    7: 'Information post'\n",
    "}\n",
    "\n",
    "# Create a new column 'Topic_Label' by mapping the 'Dominant_Topic' column using the mapping dictionary\n",
    "corr_df_cleaned['Topic_Label'] = corr_df_cleaned['Dominant_Topic'].map(topic_mapping)"
   ]
  },
  {
   "cell_type": "code",
   "execution_count": 68,
   "metadata": {},
   "outputs": [
    {
     "data": {
      "text/html": [
       "<div>\n",
       "<style scoped>\n",
       "    .dataframe tbody tr th:only-of-type {\n",
       "        vertical-align: middle;\n",
       "    }\n",
       "\n",
       "    .dataframe tbody tr th {\n",
       "        vertical-align: top;\n",
       "    }\n",
       "\n",
       "    .dataframe thead th {\n",
       "        text-align: right;\n",
       "    }\n",
       "</style>\n",
       "<table border=\"1\" class=\"dataframe\">\n",
       "  <thead>\n",
       "    <tr style=\"text-align: right;\">\n",
       "      <th></th>\n",
       "      <th>Type</th>\n",
       "      <th>Engagement</th>\n",
       "      <th>Followers</th>\n",
       "      <th>Length</th>\n",
       "      <th>Hashtags</th>\n",
       "      <th>Season</th>\n",
       "      <th>Gunning_Fog_Score</th>\n",
       "      <th>TimeCategory</th>\n",
       "      <th>Posted_Weekday</th>\n",
       "      <th>Holiday</th>\n",
       "      <th>Median_income</th>\n",
       "      <th>Dominant_Topic</th>\n",
       "      <th>Readability_Category</th>\n",
       "      <th>Has_Hashtag</th>\n",
       "      <th>Topic_Label</th>\n",
       "    </tr>\n",
       "  </thead>\n",
       "  <tbody>\n",
       "    <tr>\n",
       "      <th>0</th>\n",
       "      <td>0</td>\n",
       "      <td>0.000222</td>\n",
       "      <td>1500412</td>\n",
       "      <td>37</td>\n",
       "      <td>0</td>\n",
       "      <td>3</td>\n",
       "      <td>8.333333</td>\n",
       "      <td>3</td>\n",
       "      <td>True</td>\n",
       "      <td>0</td>\n",
       "      <td>1</td>\n",
       "      <td>1</td>\n",
       "      <td>2</td>\n",
       "      <td>0</td>\n",
       "      <td>Renumeration post</td>\n",
       "    </tr>\n",
       "    <tr>\n",
       "      <th>1</th>\n",
       "      <td>0</td>\n",
       "      <td>0.000227</td>\n",
       "      <td>1500412</td>\n",
       "      <td>32</td>\n",
       "      <td>0</td>\n",
       "      <td>3</td>\n",
       "      <td>8.978049</td>\n",
       "      <td>3</td>\n",
       "      <td>True</td>\n",
       "      <td>0</td>\n",
       "      <td>1</td>\n",
       "      <td>7</td>\n",
       "      <td>2</td>\n",
       "      <td>0</td>\n",
       "      <td>Information post</td>\n",
       "    </tr>\n",
       "    <tr>\n",
       "      <th>2</th>\n",
       "      <td>0</td>\n",
       "      <td>0.000289</td>\n",
       "      <td>1500412</td>\n",
       "      <td>23</td>\n",
       "      <td>0</td>\n",
       "      <td>3</td>\n",
       "      <td>2.600000</td>\n",
       "      <td>2</td>\n",
       "      <td>False</td>\n",
       "      <td>1</td>\n",
       "      <td>1</td>\n",
       "      <td>7</td>\n",
       "      <td>1</td>\n",
       "      <td>0</td>\n",
       "      <td>Information post</td>\n",
       "    </tr>\n",
       "    <tr>\n",
       "      <th>3</th>\n",
       "      <td>0</td>\n",
       "      <td>0.000267</td>\n",
       "      <td>1500412</td>\n",
       "      <td>24</td>\n",
       "      <td>0</td>\n",
       "      <td>3</td>\n",
       "      <td>4.228571</td>\n",
       "      <td>1</td>\n",
       "      <td>False</td>\n",
       "      <td>0</td>\n",
       "      <td>1</td>\n",
       "      <td>3</td>\n",
       "      <td>1</td>\n",
       "      <td>0</td>\n",
       "      <td>Entertainment post</td>\n",
       "    </tr>\n",
       "    <tr>\n",
       "      <th>4</th>\n",
       "      <td>0</td>\n",
       "      <td>0.000313</td>\n",
       "      <td>1500412</td>\n",
       "      <td>43</td>\n",
       "      <td>0</td>\n",
       "      <td>3</td>\n",
       "      <td>16.266667</td>\n",
       "      <td>3</td>\n",
       "      <td>True</td>\n",
       "      <td>0</td>\n",
       "      <td>1</td>\n",
       "      <td>6</td>\n",
       "      <td>3</td>\n",
       "      <td>0</td>\n",
       "      <td>Entertainment post</td>\n",
       "    </tr>\n",
       "    <tr>\n",
       "      <th>...</th>\n",
       "      <td>...</td>\n",
       "      <td>...</td>\n",
       "      <td>...</td>\n",
       "      <td>...</td>\n",
       "      <td>...</td>\n",
       "      <td>...</td>\n",
       "      <td>...</td>\n",
       "      <td>...</td>\n",
       "      <td>...</td>\n",
       "      <td>...</td>\n",
       "      <td>...</td>\n",
       "      <td>...</td>\n",
       "      <td>...</td>\n",
       "      <td>...</td>\n",
       "      <td>...</td>\n",
       "    </tr>\n",
       "    <tr>\n",
       "      <th>10434</th>\n",
       "      <td>1</td>\n",
       "      <td>0.003245</td>\n",
       "      <td>45000</td>\n",
       "      <td>16</td>\n",
       "      <td>0</td>\n",
       "      <td>4</td>\n",
       "      <td>4.022222</td>\n",
       "      <td>1</td>\n",
       "      <td>True</td>\n",
       "      <td>0</td>\n",
       "      <td>2</td>\n",
       "      <td>0</td>\n",
       "      <td>1</td>\n",
       "      <td>0</td>\n",
       "      <td>Information post</td>\n",
       "    </tr>\n",
       "    <tr>\n",
       "      <th>10435</th>\n",
       "      <td>1</td>\n",
       "      <td>0.000205</td>\n",
       "      <td>45000</td>\n",
       "      <td>6</td>\n",
       "      <td>0</td>\n",
       "      <td>4</td>\n",
       "      <td>0.600000</td>\n",
       "      <td>2</td>\n",
       "      <td>False</td>\n",
       "      <td>0</td>\n",
       "      <td>2</td>\n",
       "      <td>7</td>\n",
       "      <td>1</td>\n",
       "      <td>0</td>\n",
       "      <td>Information post</td>\n",
       "    </tr>\n",
       "    <tr>\n",
       "      <th>10436</th>\n",
       "      <td>1</td>\n",
       "      <td>0.000501</td>\n",
       "      <td>45000</td>\n",
       "      <td>15</td>\n",
       "      <td>0</td>\n",
       "      <td>4</td>\n",
       "      <td>11.644444</td>\n",
       "      <td>2</td>\n",
       "      <td>True</td>\n",
       "      <td>0</td>\n",
       "      <td>2</td>\n",
       "      <td>7</td>\n",
       "      <td>2</td>\n",
       "      <td>0</td>\n",
       "      <td>Information post</td>\n",
       "    </tr>\n",
       "    <tr>\n",
       "      <th>10437</th>\n",
       "      <td>1</td>\n",
       "      <td>0.000799</td>\n",
       "      <td>45000</td>\n",
       "      <td>23</td>\n",
       "      <td>0</td>\n",
       "      <td>4</td>\n",
       "      <td>8.200000</td>\n",
       "      <td>2</td>\n",
       "      <td>True</td>\n",
       "      <td>0</td>\n",
       "      <td>2</td>\n",
       "      <td>1</td>\n",
       "      <td>2</td>\n",
       "      <td>0</td>\n",
       "      <td>Renumeration post</td>\n",
       "    </tr>\n",
       "    <tr>\n",
       "      <th>10438</th>\n",
       "      <td>1</td>\n",
       "      <td>0.000824</td>\n",
       "      <td>45000</td>\n",
       "      <td>23</td>\n",
       "      <td>0</td>\n",
       "      <td>4</td>\n",
       "      <td>8.796522</td>\n",
       "      <td>2</td>\n",
       "      <td>True</td>\n",
       "      <td>0</td>\n",
       "      <td>2</td>\n",
       "      <td>7</td>\n",
       "      <td>2</td>\n",
       "      <td>0</td>\n",
       "      <td>Information post</td>\n",
       "    </tr>\n",
       "  </tbody>\n",
       "</table>\n",
       "<p>8998 rows × 15 columns</p>\n",
       "</div>"
      ],
      "text/plain": [
       "       Type  Engagement Followers  Length  Hashtags  Season  \\\n",
       "0         0    0.000222   1500412      37         0       3   \n",
       "1         0    0.000227   1500412      32         0       3   \n",
       "2         0    0.000289   1500412      23         0       3   \n",
       "3         0    0.000267   1500412      24         0       3   \n",
       "4         0    0.000313   1500412      43         0       3   \n",
       "...     ...         ...       ...     ...       ...     ...   \n",
       "10434     1    0.003245     45000      16         0       4   \n",
       "10435     1    0.000205     45000       6         0       4   \n",
       "10436     1    0.000501     45000      15         0       4   \n",
       "10437     1    0.000799     45000      23         0       4   \n",
       "10438     1    0.000824     45000      23         0       4   \n",
       "\n",
       "       Gunning_Fog_Score  TimeCategory  Posted_Weekday  Holiday Median_income  \\\n",
       "0               8.333333             3            True        0             1   \n",
       "1               8.978049             3            True        0             1   \n",
       "2               2.600000             2           False        1             1   \n",
       "3               4.228571             1           False        0             1   \n",
       "4              16.266667             3            True        0             1   \n",
       "...                  ...           ...             ...      ...           ...   \n",
       "10434           4.022222             1            True        0             2   \n",
       "10435           0.600000             2           False        0             2   \n",
       "10436          11.644444             2            True        0             2   \n",
       "10437           8.200000             2            True        0             2   \n",
       "10438           8.796522             2            True        0             2   \n",
       "\n",
       "       Dominant_Topic  Readability_Category  Has_Hashtag         Topic_Label  \n",
       "0                   1                     2            0   Renumeration post  \n",
       "1                   7                     2            0    Information post  \n",
       "2                   7                     1            0    Information post  \n",
       "3                   3                     1            0  Entertainment post  \n",
       "4                   6                     3            0  Entertainment post  \n",
       "...               ...                   ...          ...                 ...  \n",
       "10434               0                     1            0    Information post  \n",
       "10435               7                     1            0    Information post  \n",
       "10436               7                     2            0    Information post  \n",
       "10437               1                     2            0   Renumeration post  \n",
       "10438               7                     2            0    Information post  \n",
       "\n",
       "[8998 rows x 15 columns]"
      ]
     },
     "execution_count": 68,
     "metadata": {},
     "output_type": "execute_result"
    }
   ],
   "source": [
    "corr_df_cleaned"
   ]
  },
  {
   "cell_type": "code",
   "execution_count": 69,
   "metadata": {},
   "outputs": [
    {
     "data": {
      "text/plain": [
       "Topic_Label\n",
       "Entertainment post    3740\n",
       "Information post      3529\n",
       "Renumeration post     1729\n",
       "Name: count, dtype: int64"
      ]
     },
     "execution_count": 69,
     "metadata": {},
     "output_type": "execute_result"
    }
   ],
   "source": [
    "# Printing counts of each topic label\n",
    "topic_counts = corr_df_cleaned['Topic_Label'].value_counts()\n",
    "\n",
    "topic_counts"
   ]
  },
  {
   "cell_type": "code",
   "execution_count": 70,
   "metadata": {},
   "outputs": [
    {
     "name": "stdout",
     "output_type": "stream",
     "text": [
      "Welch's ANOVA results:\n",
      "        Source  ddof1        ddof2         F     p-unc       np2\n",
      "0  Topic_Label      2  4647.176572  1.907038  0.148636  0.000506\n",
      "There is no significant difference in mean user engagement among different content types.\n",
      "p value:  0.14863591573245102\n"
     ]
    }
   ],
   "source": [
    "# Extract user engagement data for each topic label\n",
    "entertainment_posts = corr_df_cleaned[corr_df_cleaned['Topic_Label'] == 'Entertainment post']['Engagement']\n",
    "information_posts = corr_df_cleaned[corr_df_cleaned['Topic_Label'] == 'Information post']['Engagement']\n",
    "renumeration_posts = corr_df_cleaned[corr_df_cleaned['Topic_Label'] == 'Renumeration post']['Engagement']\n",
    "\n",
    "# Perform Welch's ANOVA\n",
    "anova_result = pg.welch_anova(data=corr_df_cleaned, dv='Engagement', between='Topic_Label')\n",
    "\n",
    "# Displaying the results\n",
    "print(\"Welch's ANOVA results:\")\n",
    "print(anova_result)\n",
    "\n",
    "# Interpretation\n",
    "if anova_result['p-unc'].iloc[0] < 0.05:\n",
    "    print(\"There is a significant difference in mean user engagement among different content types.\")\n",
    "else:\n",
    "    print(\"There is no significant difference in mean user engagement among different content types.\")\n",
    "print('p value: ', anova_result['p-unc'].iloc[0])"
   ]
  },
  {
   "cell_type": "markdown",
   "metadata": {},
   "source": [
    "**Results:**\n",
    "\n",
    "The ANOVA results indicate that there is no significant difference in mean user engagement among different content types (topics). The p-value associated with the test is **0.1486**, which is greater than the set  significance level of 0.05. Hence we fail to reject the null hypothesis."
   ]
  },
  {
   "cell_type": "markdown",
   "metadata": {},
   "source": [
    "## **<span style='color:#4267B2'>|</span> 5. Principal Component Analysis (PCA)**"
   ]
  },
  {
   "cell_type": "code",
   "execution_count": 71,
   "metadata": {},
   "outputs": [
    {
     "data": {
      "text/plain": [
       "Index(['Type', 'Engagement', 'Followers', 'Length', 'Hashtags', 'Season',\n",
       "       'Gunning_Fog_Score', 'TimeCategory', 'Posted_Weekday', 'Holiday',\n",
       "       'Median_income', 'Dominant_Topic', 'Readability_Category',\n",
       "       'Has_Hashtag', 'Topic_Label'],\n",
       "      dtype='object')"
      ]
     },
     "execution_count": 71,
     "metadata": {},
     "output_type": "execute_result"
    }
   ],
   "source": [
    "corr_df_cleaned.columns"
   ]
  },
  {
   "cell_type": "code",
   "execution_count": 72,
   "metadata": {},
   "outputs": [],
   "source": [
    "# Reducing the number of features\n",
    "columns_to_copy = corr_df_cleaned[['Type', 'Followers', 'Length', 'Hashtags', 'Season', 'TimeCategory', 'Posted_Weekday', 'Holiday',\n",
    "       'Median_income', 'Readability_Category', 'Topic_Label']]\n",
    "df_pca = columns_to_copy.copy()"
   ]
  },
  {
   "cell_type": "code",
   "execution_count": 73,
   "metadata": {},
   "outputs": [
    {
     "data": {
      "text/plain": [
       "Index(['Type', 'Followers', 'Length', 'Hashtags', 'Season', 'TimeCategory',\n",
       "       'Posted_Weekday', 'Holiday', 'Median_income', 'Readability_Category',\n",
       "       'Topic_Label'],\n",
       "      dtype='object')"
      ]
     },
     "execution_count": 73,
     "metadata": {},
     "output_type": "execute_result"
    }
   ],
   "source": [
    "df_pca.columns"
   ]
  },
  {
   "cell_type": "code",
   "execution_count": 74,
   "metadata": {},
   "outputs": [
    {
     "data": {
      "text/plain": [
       "0         Renumeration post\n",
       "1          Information post\n",
       "2          Information post\n",
       "3        Entertainment post\n",
       "4        Entertainment post\n",
       "                ...        \n",
       "10434      Information post\n",
       "10435      Information post\n",
       "10436      Information post\n",
       "10437     Renumeration post\n",
       "10438      Information post\n",
       "Name: Topic_Label, Length: 8998, dtype: object"
      ]
     },
     "execution_count": 74,
     "metadata": {},
     "output_type": "execute_result"
    }
   ],
   "source": [
    "df_pca['Topic_Label']"
   ]
  },
  {
   "cell_type": "code",
   "execution_count": 75,
   "metadata": {},
   "outputs": [],
   "source": [
    "# Encoding Topic_Label column\n",
    "# Defining LabelEncoder\n",
    "encoder = LabelEncoder()\n",
    "\n",
    "# Encoding column\n",
    "encoded_column = encoder.fit_transform(df_pca['Topic_Label'])\n",
    "df_pca['Topic_Label'] = encoded_column\n",
    "\n",
    "# Renaming column\n",
    "df_pca.rename(columns={'Topic_Label': 'Topic'}, inplace=True)"
   ]
  },
  {
   "cell_type": "markdown",
   "metadata": {},
   "source": [
    "**Legend: ['Topic']**<br>\n",
    "0 = Renumeration post\n",
    "1 = Information post\n",
    "2 = Entertainment post"
   ]
  },
  {
   "cell_type": "code",
   "execution_count": 76,
   "metadata": {},
   "outputs": [
    {
     "data": {
      "text/html": [
       "<div>\n",
       "<style scoped>\n",
       "    .dataframe tbody tr th:only-of-type {\n",
       "        vertical-align: middle;\n",
       "    }\n",
       "\n",
       "    .dataframe tbody tr th {\n",
       "        vertical-align: top;\n",
       "    }\n",
       "\n",
       "    .dataframe thead th {\n",
       "        text-align: right;\n",
       "    }\n",
       "</style>\n",
       "<table border=\"1\" class=\"dataframe\">\n",
       "  <thead>\n",
       "    <tr style=\"text-align: right;\">\n",
       "      <th></th>\n",
       "      <th>Topic</th>\n",
       "    </tr>\n",
       "  </thead>\n",
       "  <tbody>\n",
       "    <tr>\n",
       "      <th>0</th>\n",
       "      <td>2</td>\n",
       "    </tr>\n",
       "    <tr>\n",
       "      <th>1</th>\n",
       "      <td>1</td>\n",
       "    </tr>\n",
       "    <tr>\n",
       "      <th>2</th>\n",
       "      <td>1</td>\n",
       "    </tr>\n",
       "    <tr>\n",
       "      <th>3</th>\n",
       "      <td>0</td>\n",
       "    </tr>\n",
       "    <tr>\n",
       "      <th>4</th>\n",
       "      <td>0</td>\n",
       "    </tr>\n",
       "    <tr>\n",
       "      <th>...</th>\n",
       "      <td>...</td>\n",
       "    </tr>\n",
       "    <tr>\n",
       "      <th>10434</th>\n",
       "      <td>1</td>\n",
       "    </tr>\n",
       "    <tr>\n",
       "      <th>10435</th>\n",
       "      <td>1</td>\n",
       "    </tr>\n",
       "    <tr>\n",
       "      <th>10436</th>\n",
       "      <td>1</td>\n",
       "    </tr>\n",
       "    <tr>\n",
       "      <th>10437</th>\n",
       "      <td>2</td>\n",
       "    </tr>\n",
       "    <tr>\n",
       "      <th>10438</th>\n",
       "      <td>1</td>\n",
       "    </tr>\n",
       "  </tbody>\n",
       "</table>\n",
       "<p>8998 rows × 1 columns</p>\n",
       "</div>"
      ],
      "text/plain": [
       "       Topic\n",
       "0          2\n",
       "1          1\n",
       "2          1\n",
       "3          0\n",
       "4          0\n",
       "...      ...\n",
       "10434      1\n",
       "10435      1\n",
       "10436      1\n",
       "10437      2\n",
       "10438      1\n",
       "\n",
       "[8998 rows x 1 columns]"
      ]
     },
     "execution_count": 76,
     "metadata": {},
     "output_type": "execute_result"
    }
   ],
   "source": [
    "df_pca[['Topic']]"
   ]
  },
  {
   "cell_type": "code",
   "execution_count": 77,
   "metadata": {},
   "outputs": [
    {
     "data": {
      "text/html": [
       "<style>#sk-container-id-1 {color: black;}#sk-container-id-1 pre{padding: 0;}#sk-container-id-1 div.sk-toggleable {background-color: white;}#sk-container-id-1 label.sk-toggleable__label {cursor: pointer;display: block;width: 100%;margin-bottom: 0;padding: 0.3em;box-sizing: border-box;text-align: center;}#sk-container-id-1 label.sk-toggleable__label-arrow:before {content: \"▸\";float: left;margin-right: 0.25em;color: #696969;}#sk-container-id-1 label.sk-toggleable__label-arrow:hover:before {color: black;}#sk-container-id-1 div.sk-estimator:hover label.sk-toggleable__label-arrow:before {color: black;}#sk-container-id-1 div.sk-toggleable__content {max-height: 0;max-width: 0;overflow: hidden;text-align: left;background-color: #f0f8ff;}#sk-container-id-1 div.sk-toggleable__content pre {margin: 0.2em;color: black;border-radius: 0.25em;background-color: #f0f8ff;}#sk-container-id-1 input.sk-toggleable__control:checked~div.sk-toggleable__content {max-height: 200px;max-width: 100%;overflow: auto;}#sk-container-id-1 input.sk-toggleable__control:checked~label.sk-toggleable__label-arrow:before {content: \"▾\";}#sk-container-id-1 div.sk-estimator input.sk-toggleable__control:checked~label.sk-toggleable__label {background-color: #d4ebff;}#sk-container-id-1 div.sk-label input.sk-toggleable__control:checked~label.sk-toggleable__label {background-color: #d4ebff;}#sk-container-id-1 input.sk-hidden--visually {border: 0;clip: rect(1px 1px 1px 1px);clip: rect(1px, 1px, 1px, 1px);height: 1px;margin: -1px;overflow: hidden;padding: 0;position: absolute;width: 1px;}#sk-container-id-1 div.sk-estimator {font-family: monospace;background-color: #f0f8ff;border: 1px dotted black;border-radius: 0.25em;box-sizing: border-box;margin-bottom: 0.5em;}#sk-container-id-1 div.sk-estimator:hover {background-color: #d4ebff;}#sk-container-id-1 div.sk-parallel-item::after {content: \"\";width: 100%;border-bottom: 1px solid gray;flex-grow: 1;}#sk-container-id-1 div.sk-label:hover label.sk-toggleable__label {background-color: #d4ebff;}#sk-container-id-1 div.sk-serial::before {content: \"\";position: absolute;border-left: 1px solid gray;box-sizing: border-box;top: 0;bottom: 0;left: 50%;z-index: 0;}#sk-container-id-1 div.sk-serial {display: flex;flex-direction: column;align-items: center;background-color: white;padding-right: 0.2em;padding-left: 0.2em;position: relative;}#sk-container-id-1 div.sk-item {position: relative;z-index: 1;}#sk-container-id-1 div.sk-parallel {display: flex;align-items: stretch;justify-content: center;background-color: white;position: relative;}#sk-container-id-1 div.sk-item::before, #sk-container-id-1 div.sk-parallel-item::before {content: \"\";position: absolute;border-left: 1px solid gray;box-sizing: border-box;top: 0;bottom: 0;left: 50%;z-index: -1;}#sk-container-id-1 div.sk-parallel-item {display: flex;flex-direction: column;z-index: 1;position: relative;background-color: white;}#sk-container-id-1 div.sk-parallel-item:first-child::after {align-self: flex-end;width: 50%;}#sk-container-id-1 div.sk-parallel-item:last-child::after {align-self: flex-start;width: 50%;}#sk-container-id-1 div.sk-parallel-item:only-child::after {width: 0;}#sk-container-id-1 div.sk-dashed-wrapped {border: 1px dashed gray;margin: 0 0.4em 0.5em 0.4em;box-sizing: border-box;padding-bottom: 0.4em;background-color: white;}#sk-container-id-1 div.sk-label label {font-family: monospace;font-weight: bold;display: inline-block;line-height: 1.2em;}#sk-container-id-1 div.sk-label-container {text-align: center;}#sk-container-id-1 div.sk-container {/* jupyter's `normalize.less` sets `[hidden] { display: none; }` but bootstrap.min.css set `[hidden] { display: none !important; }` so we also need the `!important` here to be able to override the default hidden behavior on the sphinx rendered scikit-learn.org. See: https://github.com/scikit-learn/scikit-learn/issues/21755 */display: inline-block !important;position: relative;}#sk-container-id-1 div.sk-text-repr-fallback {display: none;}</style><div id=\"sk-container-id-1\" class=\"sk-top-container\"><div class=\"sk-text-repr-fallback\"><pre>StandardScaler()</pre><b>In a Jupyter environment, please rerun this cell to show the HTML representation or trust the notebook. <br />On GitHub, the HTML representation is unable to render, please try loading this page with nbviewer.org.</b></div><div class=\"sk-container\" hidden><div class=\"sk-item\"><div class=\"sk-estimator sk-toggleable\"><input class=\"sk-toggleable__control sk-hidden--visually\" id=\"sk-estimator-id-1\" type=\"checkbox\" checked><label for=\"sk-estimator-id-1\" class=\"sk-toggleable__label sk-toggleable__label-arrow\">StandardScaler</label><div class=\"sk-toggleable__content\"><pre>StandardScaler()</pre></div></div></div></div></div>"
      ],
      "text/plain": [
       "StandardScaler()"
      ]
     },
     "execution_count": 77,
     "metadata": {},
     "output_type": "execute_result"
    }
   ],
   "source": [
    "# Scaling the dataset with a standard scaler to standardize it\n",
    "scaler = StandardScaler()\n",
    "# Fitting...\n",
    "scaler.fit(df_pca)"
   ]
  },
  {
   "cell_type": "code",
   "execution_count": 78,
   "metadata": {},
   "outputs": [],
   "source": [
    "# Creating a separate scaled df \n",
    "df_pca_scaled = pd.DataFrame(scaler.transform(df_pca), columns=df_pca.columns)"
   ]
  },
  {
   "cell_type": "code",
   "execution_count": 79,
   "metadata": {},
   "outputs": [
    {
     "data": {
      "text/html": [
       "<div>\n",
       "<style scoped>\n",
       "    .dataframe tbody tr th:only-of-type {\n",
       "        vertical-align: middle;\n",
       "    }\n",
       "\n",
       "    .dataframe tbody tr th {\n",
       "        vertical-align: top;\n",
       "    }\n",
       "\n",
       "    .dataframe thead th {\n",
       "        text-align: right;\n",
       "    }\n",
       "</style>\n",
       "<table border=\"1\" class=\"dataframe\">\n",
       "  <thead>\n",
       "    <tr style=\"text-align: right;\">\n",
       "      <th></th>\n",
       "      <th>Type</th>\n",
       "      <th>Followers</th>\n",
       "      <th>Length</th>\n",
       "      <th>Hashtags</th>\n",
       "      <th>Season</th>\n",
       "      <th>TimeCategory</th>\n",
       "      <th>Posted_Weekday</th>\n",
       "      <th>Holiday</th>\n",
       "      <th>Median_income</th>\n",
       "      <th>Readability_Category</th>\n",
       "      <th>Topic</th>\n",
       "    </tr>\n",
       "  </thead>\n",
       "  <tbody>\n",
       "    <tr>\n",
       "      <th>0</th>\n",
       "      <td>0</td>\n",
       "      <td>1500412</td>\n",
       "      <td>37</td>\n",
       "      <td>0</td>\n",
       "      <td>3</td>\n",
       "      <td>3</td>\n",
       "      <td>True</td>\n",
       "      <td>0</td>\n",
       "      <td>1</td>\n",
       "      <td>2</td>\n",
       "      <td>2</td>\n",
       "    </tr>\n",
       "    <tr>\n",
       "      <th>1</th>\n",
       "      <td>0</td>\n",
       "      <td>1500412</td>\n",
       "      <td>32</td>\n",
       "      <td>0</td>\n",
       "      <td>3</td>\n",
       "      <td>3</td>\n",
       "      <td>True</td>\n",
       "      <td>0</td>\n",
       "      <td>1</td>\n",
       "      <td>2</td>\n",
       "      <td>1</td>\n",
       "    </tr>\n",
       "    <tr>\n",
       "      <th>2</th>\n",
       "      <td>0</td>\n",
       "      <td>1500412</td>\n",
       "      <td>23</td>\n",
       "      <td>0</td>\n",
       "      <td>3</td>\n",
       "      <td>2</td>\n",
       "      <td>False</td>\n",
       "      <td>1</td>\n",
       "      <td>1</td>\n",
       "      <td>1</td>\n",
       "      <td>1</td>\n",
       "    </tr>\n",
       "    <tr>\n",
       "      <th>3</th>\n",
       "      <td>0</td>\n",
       "      <td>1500412</td>\n",
       "      <td>24</td>\n",
       "      <td>0</td>\n",
       "      <td>3</td>\n",
       "      <td>1</td>\n",
       "      <td>False</td>\n",
       "      <td>0</td>\n",
       "      <td>1</td>\n",
       "      <td>1</td>\n",
       "      <td>0</td>\n",
       "    </tr>\n",
       "    <tr>\n",
       "      <th>4</th>\n",
       "      <td>0</td>\n",
       "      <td>1500412</td>\n",
       "      <td>43</td>\n",
       "      <td>0</td>\n",
       "      <td>3</td>\n",
       "      <td>3</td>\n",
       "      <td>True</td>\n",
       "      <td>0</td>\n",
       "      <td>1</td>\n",
       "      <td>3</td>\n",
       "      <td>0</td>\n",
       "    </tr>\n",
       "    <tr>\n",
       "      <th>...</th>\n",
       "      <td>...</td>\n",
       "      <td>...</td>\n",
       "      <td>...</td>\n",
       "      <td>...</td>\n",
       "      <td>...</td>\n",
       "      <td>...</td>\n",
       "      <td>...</td>\n",
       "      <td>...</td>\n",
       "      <td>...</td>\n",
       "      <td>...</td>\n",
       "      <td>...</td>\n",
       "    </tr>\n",
       "    <tr>\n",
       "      <th>10434</th>\n",
       "      <td>1</td>\n",
       "      <td>45000</td>\n",
       "      <td>16</td>\n",
       "      <td>0</td>\n",
       "      <td>4</td>\n",
       "      <td>1</td>\n",
       "      <td>True</td>\n",
       "      <td>0</td>\n",
       "      <td>2</td>\n",
       "      <td>1</td>\n",
       "      <td>1</td>\n",
       "    </tr>\n",
       "    <tr>\n",
       "      <th>10435</th>\n",
       "      <td>1</td>\n",
       "      <td>45000</td>\n",
       "      <td>6</td>\n",
       "      <td>0</td>\n",
       "      <td>4</td>\n",
       "      <td>2</td>\n",
       "      <td>False</td>\n",
       "      <td>0</td>\n",
       "      <td>2</td>\n",
       "      <td>1</td>\n",
       "      <td>1</td>\n",
       "    </tr>\n",
       "    <tr>\n",
       "      <th>10436</th>\n",
       "      <td>1</td>\n",
       "      <td>45000</td>\n",
       "      <td>15</td>\n",
       "      <td>0</td>\n",
       "      <td>4</td>\n",
       "      <td>2</td>\n",
       "      <td>True</td>\n",
       "      <td>0</td>\n",
       "      <td>2</td>\n",
       "      <td>2</td>\n",
       "      <td>1</td>\n",
       "    </tr>\n",
       "    <tr>\n",
       "      <th>10437</th>\n",
       "      <td>1</td>\n",
       "      <td>45000</td>\n",
       "      <td>23</td>\n",
       "      <td>0</td>\n",
       "      <td>4</td>\n",
       "      <td>2</td>\n",
       "      <td>True</td>\n",
       "      <td>0</td>\n",
       "      <td>2</td>\n",
       "      <td>2</td>\n",
       "      <td>2</td>\n",
       "    </tr>\n",
       "    <tr>\n",
       "      <th>10438</th>\n",
       "      <td>1</td>\n",
       "      <td>45000</td>\n",
       "      <td>23</td>\n",
       "      <td>0</td>\n",
       "      <td>4</td>\n",
       "      <td>2</td>\n",
       "      <td>True</td>\n",
       "      <td>0</td>\n",
       "      <td>2</td>\n",
       "      <td>2</td>\n",
       "      <td>1</td>\n",
       "    </tr>\n",
       "  </tbody>\n",
       "</table>\n",
       "<p>8998 rows × 11 columns</p>\n",
       "</div>"
      ],
      "text/plain": [
       "       Type Followers  Length  Hashtags  Season  TimeCategory  Posted_Weekday  \\\n",
       "0         0   1500412      37         0       3             3            True   \n",
       "1         0   1500412      32         0       3             3            True   \n",
       "2         0   1500412      23         0       3             2           False   \n",
       "3         0   1500412      24         0       3             1           False   \n",
       "4         0   1500412      43         0       3             3            True   \n",
       "...     ...       ...     ...       ...     ...           ...             ...   \n",
       "10434     1     45000      16         0       4             1            True   \n",
       "10435     1     45000       6         0       4             2           False   \n",
       "10436     1     45000      15         0       4             2            True   \n",
       "10437     1     45000      23         0       4             2            True   \n",
       "10438     1     45000      23         0       4             2            True   \n",
       "\n",
       "       Holiday Median_income  Readability_Category  Topic  \n",
       "0            0             1                     2      2  \n",
       "1            0             1                     2      1  \n",
       "2            1             1                     1      1  \n",
       "3            0             1                     1      0  \n",
       "4            0             1                     3      0  \n",
       "...        ...           ...                   ...    ...  \n",
       "10434        0             2                     1      1  \n",
       "10435        0             2                     1      1  \n",
       "10436        0             2                     2      1  \n",
       "10437        0             2                     2      2  \n",
       "10438        0             2                     2      1  \n",
       "\n",
       "[8998 rows x 11 columns]"
      ]
     },
     "execution_count": 79,
     "metadata": {},
     "output_type": "execute_result"
    }
   ],
   "source": [
    "df_pca"
   ]
  },
  {
   "cell_type": "code",
   "execution_count": 80,
   "metadata": {},
   "outputs": [
    {
     "data": {
      "text/plain": [
       "Index(['Type', 'Followers', 'Length', 'Hashtags', 'Season', 'TimeCategory',\n",
       "       'Posted_Weekday', 'Holiday', 'Median_income', 'Readability_Category',\n",
       "       'Topic'],\n",
       "      dtype='object')"
      ]
     },
     "execution_count": 80,
     "metadata": {},
     "output_type": "execute_result"
    }
   ],
   "source": [
    "df_pca_scaled.columns"
   ]
  },
  {
   "cell_type": "code",
   "execution_count": 81,
   "metadata": {},
   "outputs": [
    {
     "data": {
      "image/png": "[encoded data removed]",
      "text/plain": [
       "<Figure size 1000x500 with 1 Axes>"
      ]
     },
     "metadata": {},
     "output_type": "display_data"
    }
   ],
   "source": [
    "# Conductung Principal Component Analysis\n",
    "# Defining PCA function\n",
    "pca = PCA()\n",
    "pca_comps = pca.fit_transform(df_pca_scaled)\n",
    "var_exp = pca.explained_variance_ratio_\n",
    "cum_var_exp = np.cumsum(var_exp)\n",
    "\n",
    "# plot of explained variances\n",
    "fig = plt.figure(figsize=(10, 5), dpi=100)\n",
    "plt.bar(range(1,len(var_exp)+1), var_exp, alpha=0.5, align='center', label='individual explained variance')\n",
    "plt.step(range(1,len(var_exp)+1), cum_var_exp, where='mid', label='cumulative explained variance')\n",
    "plt.ylabel('Explained variance ratio')\n",
    "plt.xlabel('Principal component index')\n",
    "plt.legend(loc='best')\n",
    "plt.show()"
   ]
  },
  {
   "cell_type": "markdown",
   "metadata": {},
   "source": [
    "### **Setting to explain 80% or variance in the data..**"
   ]
  },
  {
   "cell_type": "code",
   "execution_count": 82,
   "metadata": {},
   "outputs": [
    {
     "name": "stdout",
     "output_type": "stream",
     "text": [
      "Number of components to explain 80% variance is 8\n"
     ]
    }
   ],
   "source": [
    "# Setting the explanation threshold\n",
    "var_exp_thres = 0.80\n",
    "\n",
    "# Finding the number of components to explain the given threshold\n",
    "n_components_to_reach_thres = np.argmax(cum_var_exp >= var_exp_thres) + 1\n",
    "\n",
    "print('Number of components to explain {:0.0f}% variance is {}'.format(var_exp_thres*100, n_components_to_reach_thres))"
   ]
  },
  {
   "cell_type": "code",
   "execution_count": 83,
   "metadata": {},
   "outputs": [
    {
     "name": "stdout",
     "output_type": "stream",
     "text": [
      "The most important features to explain 80.0% variance are:\n",
      "['Length' 'Posted_Weekday' 'Readability_Category' 'Topic' 'Hashtags'\n",
      " 'Season' 'Followers' 'Topic']\n"
     ]
    }
   ],
   "source": [
    "# Get the indices of the most important features based on the number of components\n",
    "most_important_features_idx = [np.abs(pca.components_[i]).argmax() for i in range(n_components_to_reach_thres)]\n",
    "\n",
    "# Get the names of the most important features\n",
    "most_important_features = df_pca.columns[most_important_features_idx]\n",
    "\n",
    "print('The most important features to explain {}% variance are:'.format(var_exp_thres*100))\n",
    "print(most_important_features.values)\n"
   ]
  },
  {
   "cell_type": "code",
   "execution_count": 84,
   "metadata": {},
   "outputs": [
    {
     "name": "stdout",
     "output_type": "stream",
     "text": [
      "Indices of the most important features: [2, 6, 9, 10, 3, 4, 1, 10]\n"
     ]
    }
   ],
   "source": [
    "print('Indices of the most important features:', most_important_features_idx)\n"
   ]
  },
  {
   "cell_type": "markdown",
   "metadata": {},
   "source": [
    "**Result:**<br>\n",
    "'Topic' seems to be an important feature for two principal components. I.e. 'Topic' is influential in explaining different aspects or patterns of variability within the dataset. This suggests that 'Topic' has a multifaceted relationship with the other features, impacting the dataset's structure in multiple ways.\n",
    "\n",
    "'Time_Category','Holiday' and 'Median_Income' will be dropped since they explain little to no variance in the dataset. \n"
   ]
  },
  {
   "cell_type": "markdown",
   "metadata": {},
   "source": [
    "## **<span style='color:#4267B2'>|</span> 6. Multilevel Analysis**"
   ]
  },
  {
   "cell_type": "code",
   "execution_count": 85,
   "metadata": {},
   "outputs": [
    {
     "data": {
      "text/html": [
       "<div>\n",
       "<style scoped>\n",
       "    .dataframe tbody tr th:only-of-type {\n",
       "        vertical-align: middle;\n",
       "    }\n",
       "\n",
       "    .dataframe tbody tr th {\n",
       "        vertical-align: top;\n",
       "    }\n",
       "\n",
       "    .dataframe thead th {\n",
       "        text-align: right;\n",
       "    }\n",
       "</style>\n",
       "<table border=\"1\" class=\"dataframe\">\n",
       "  <thead>\n",
       "    <tr style=\"text-align: right;\">\n",
       "      <th></th>\n",
       "      <th>Type</th>\n",
       "      <th>Engagement</th>\n",
       "      <th>Followers</th>\n",
       "      <th>Length</th>\n",
       "      <th>Hashtags</th>\n",
       "      <th>Season</th>\n",
       "      <th>Gunning_Fog_Score</th>\n",
       "      <th>TimeCategory</th>\n",
       "      <th>Posted_Weekday</th>\n",
       "      <th>Holiday</th>\n",
       "      <th>Median_income</th>\n",
       "      <th>Dominant_Topic</th>\n",
       "      <th>Readability_Category</th>\n",
       "      <th>Has_Hashtag</th>\n",
       "      <th>Topic_Label</th>\n",
       "    </tr>\n",
       "  </thead>\n",
       "  <tbody>\n",
       "    <tr>\n",
       "      <th>0</th>\n",
       "      <td>0</td>\n",
       "      <td>0.000222</td>\n",
       "      <td>1500412</td>\n",
       "      <td>37</td>\n",
       "      <td>0</td>\n",
       "      <td>3</td>\n",
       "      <td>8.333333</td>\n",
       "      <td>3</td>\n",
       "      <td>True</td>\n",
       "      <td>0</td>\n",
       "      <td>1</td>\n",
       "      <td>1</td>\n",
       "      <td>2</td>\n",
       "      <td>0</td>\n",
       "      <td>Renumeration post</td>\n",
       "    </tr>\n",
       "    <tr>\n",
       "      <th>1</th>\n",
       "      <td>0</td>\n",
       "      <td>0.000227</td>\n",
       "      <td>1500412</td>\n",
       "      <td>32</td>\n",
       "      <td>0</td>\n",
       "      <td>3</td>\n",
       "      <td>8.978049</td>\n",
       "      <td>3</td>\n",
       "      <td>True</td>\n",
       "      <td>0</td>\n",
       "      <td>1</td>\n",
       "      <td>7</td>\n",
       "      <td>2</td>\n",
       "      <td>0</td>\n",
       "      <td>Information post</td>\n",
       "    </tr>\n",
       "  </tbody>\n",
       "</table>\n",
       "</div>"
      ],
      "text/plain": [
       "   Type  Engagement Followers  Length  Hashtags  Season  Gunning_Fog_Score  \\\n",
       "0     0    0.000222   1500412      37         0       3           8.333333   \n",
       "1     0    0.000227   1500412      32         0       3           8.978049   \n",
       "\n",
       "   TimeCategory  Posted_Weekday  Holiday Median_income  Dominant_Topic  \\\n",
       "0             3            True        0             1               1   \n",
       "1             3            True        0             1               7   \n",
       "\n",
       "   Readability_Category  Has_Hashtag        Topic_Label  \n",
       "0                     2            0  Renumeration post  \n",
       "1                     2            0   Information post  "
      ]
     },
     "execution_count": 85,
     "metadata": {},
     "output_type": "execute_result"
    }
   ],
   "source": [
    "corr_df_cleaned.head(2)"
   ]
  },
  {
   "cell_type": "code",
   "execution_count": 86,
   "metadata": {},
   "outputs": [],
   "source": [
    "# Creating separate df for multilevel analysis\n",
    "df_multilvl = corr_df_cleaned[['Type','Engagement','Length','Posted_Weekday','Readability_Category','Hashtags',\n",
    " 'Season','Followers','Topic_Label']]"
   ]
  },
  {
   "cell_type": "code",
   "execution_count": 87,
   "metadata": {},
   "outputs": [
    {
     "name": "stderr",
     "output_type": "stream",
     "text": [
      "C:\\Users\\Trabala\\AppData\\Local\\Temp\\ipykernel_5064\\2954925745.py:2: SettingWithCopyWarning: \n",
      "A value is trying to be set on a copy of a slice from a DataFrame.\n",
      "Try using .loc[row_indexer,col_indexer] = value instead\n",
      "\n",
      "See the caveats in the documentation: https://pandas.pydata.org/pandas-docs/stable/user_guide/indexing.html#returning-a-view-versus-a-copy\n",
      "  df_multilvl['Type'] = df_multilvl['Type'].astype('str')\n",
      "C:\\Users\\Trabala\\AppData\\Local\\Temp\\ipykernel_5064\\2954925745.py:3: SettingWithCopyWarning: \n",
      "A value is trying to be set on a copy of a slice from a DataFrame.\n",
      "Try using .loc[row_indexer,col_indexer] = value instead\n",
      "\n",
      "See the caveats in the documentation: https://pandas.pydata.org/pandas-docs/stable/user_guide/indexing.html#returning-a-view-versus-a-copy\n",
      "  df_multilvl['Posted_Weekday'] = df_multilvl['Posted_Weekday'].astype('str')\n",
      "C:\\Users\\Trabala\\AppData\\Local\\Temp\\ipykernel_5064\\2954925745.py:4: SettingWithCopyWarning: \n",
      "A value is trying to be set on a copy of a slice from a DataFrame.\n",
      "Try using .loc[row_indexer,col_indexer] = value instead\n",
      "\n",
      "See the caveats in the documentation: https://pandas.pydata.org/pandas-docs/stable/user_guide/indexing.html#returning-a-view-versus-a-copy\n",
      "  df_multilvl['Season'] = df_multilvl['Season'].astype('str')\n",
      "C:\\Users\\Trabala\\AppData\\Local\\Temp\\ipykernel_5064\\2954925745.py:5: SettingWithCopyWarning: \n",
      "A value is trying to be set on a copy of a slice from a DataFrame.\n",
      "Try using .loc[row_indexer,col_indexer] = value instead\n",
      "\n",
      "See the caveats in the documentation: https://pandas.pydata.org/pandas-docs/stable/user_guide/indexing.html#returning-a-view-versus-a-copy\n",
      "  df_multilvl['Readability_Category'] = df_multilvl['Readability_Category'].astype('str')\n",
      "C:\\Users\\Trabala\\AppData\\Local\\Temp\\ipykernel_5064\\2954925745.py:6: SettingWithCopyWarning: \n",
      "A value is trying to be set on a copy of a slice from a DataFrame.\n",
      "Try using .loc[row_indexer,col_indexer] = value instead\n",
      "\n",
      "See the caveats in the documentation: https://pandas.pydata.org/pandas-docs/stable/user_guide/indexing.html#returning-a-view-versus-a-copy\n",
      "  df_multilvl['Topic_Label'] = df_multilvl['Topic_Label'].astype('str')\n",
      "C:\\Users\\Trabala\\AppData\\Local\\Temp\\ipykernel_5064\\2954925745.py:8: SettingWithCopyWarning: \n",
      "A value is trying to be set on a copy of a slice from a DataFrame.\n",
      "Try using .loc[row_indexer,col_indexer] = value instead\n",
      "\n",
      "See the caveats in the documentation: https://pandas.pydata.org/pandas-docs/stable/user_guide/indexing.html#returning-a-view-versus-a-copy\n",
      "  df_multilvl['Type'] = pd.Categorical(df_multilvl['Type'],ordered=False)\n",
      "C:\\Users\\Trabala\\AppData\\Local\\Temp\\ipykernel_5064\\2954925745.py:9: SettingWithCopyWarning: \n",
      "A value is trying to be set on a copy of a slice from a DataFrame.\n",
      "Try using .loc[row_indexer,col_indexer] = value instead\n",
      "\n",
      "See the caveats in the documentation: https://pandas.pydata.org/pandas-docs/stable/user_guide/indexing.html#returning-a-view-versus-a-copy\n",
      "  df_multilvl['Posted_Weekday'] = pd.Categorical(df_multilvl['Posted_Weekday'],ordered=False)\n",
      "C:\\Users\\Trabala\\AppData\\Local\\Temp\\ipykernel_5064\\2954925745.py:10: SettingWithCopyWarning: \n",
      "A value is trying to be set on a copy of a slice from a DataFrame.\n",
      "Try using .loc[row_indexer,col_indexer] = value instead\n",
      "\n",
      "See the caveats in the documentation: https://pandas.pydata.org/pandas-docs/stable/user_guide/indexing.html#returning-a-view-versus-a-copy\n",
      "  df_multilvl['Season'] = pd.Categorical(df_multilvl['Season'],ordered=False)\n",
      "C:\\Users\\Trabala\\AppData\\Local\\Temp\\ipykernel_5064\\2954925745.py:11: SettingWithCopyWarning: \n",
      "A value is trying to be set on a copy of a slice from a DataFrame.\n",
      "Try using .loc[row_indexer,col_indexer] = value instead\n",
      "\n",
      "See the caveats in the documentation: https://pandas.pydata.org/pandas-docs/stable/user_guide/indexing.html#returning-a-view-versus-a-copy\n",
      "  df_multilvl['Readability_Category'] = pd.Categorical(df_multilvl['Readability_Category'],ordered=False)\n",
      "C:\\Users\\Trabala\\AppData\\Local\\Temp\\ipykernel_5064\\2954925745.py:12: SettingWithCopyWarning: \n",
      "A value is trying to be set on a copy of a slice from a DataFrame.\n",
      "Try using .loc[row_indexer,col_indexer] = value instead\n",
      "\n",
      "See the caveats in the documentation: https://pandas.pydata.org/pandas-docs/stable/user_guide/indexing.html#returning-a-view-versus-a-copy\n",
      "  df_multilvl['Topic_Label'] = pd.Categorical(df_multilvl['Topic_Label'],ordered=False)\n"
     ]
    }
   ],
   "source": [
    "# Convert to str\n",
    "df_multilvl['Type'] = df_multilvl['Type'].astype('str')\n",
    "df_multilvl['Posted_Weekday'] = df_multilvl['Posted_Weekday'].astype('str')\n",
    "df_multilvl['Season'] = df_multilvl['Season'].astype('str')\n",
    "df_multilvl['Readability_Category'] = df_multilvl['Readability_Category'].astype('str')\n",
    "df_multilvl['Topic_Label'] = df_multilvl['Topic_Label'].astype('str')\n",
    "# Convert to categorical\n",
    "df_multilvl['Type'] = pd.Categorical(df_multilvl['Type'],ordered=False)\n",
    "df_multilvl['Posted_Weekday'] = pd.Categorical(df_multilvl['Posted_Weekday'],ordered=False)\n",
    "df_multilvl['Season'] = pd.Categorical(df_multilvl['Season'],ordered=False)\n",
    "df_multilvl['Readability_Category'] = pd.Categorical(df_multilvl['Readability_Category'],ordered=False)\n",
    "df_multilvl['Topic_Label'] = pd.Categorical(df_multilvl['Topic_Label'],ordered=False)"
   ]
  },
  {
   "cell_type": "code",
   "execution_count": 88,
   "metadata": {},
   "outputs": [
    {
     "name": "stderr",
     "output_type": "stream",
     "text": [
      "c:\\Users\\Trabala\\anaconda3\\lib\\site-packages\\rpy2\\robjects\\pandas2ri.py:65: UserWarning: Error while trying to convert the column \"Followers\". Fall back to string conversion. The error is: Series can only be of one type, or None (and here we have <class 'int'> and <class 'str'>). If happening with a pandas DataFrame the method infer_objects() will normalize data types before conversion.\n",
      "  warnings.warn('Error while trying to convert '\n"
     ]
    },
    {
     "name": "stdout",
     "output_type": "stream",
     "text": [
      "boundary (singular) fit: see help('isSingular') \n",
      "\n",
      "Linear mixed model fit by REML [’lmerMod’]\n",
      "Formula: Engagement~Length+Hashtags+Readability_Category+Posted_Weekday+Season+Topic_Label+(1+Posted_Weekday+Season|Type)\n",
      "\n",
      "Family: gaussian\t Inference: parametric\n",
      "\n",
      "Number of observations: 8998\t Groups: {'Type': 6.0}\n",
      "\n",
      "Log-likelihood: 29740.548 \t AIC: -59427.096\n",
      "\n",
      "Random effects:\n",
      "\n",
      "                        Name  Var    Std\n",
      "Type             (Intercept)  0.0  0.000\n",
      "Type      Posted_WeekdayTrue  0.0  0.001\n",
      "Type                 Season2  0.0  0.000\n",
      "Type                 Season3  0.0  0.000\n",
      "Type                 Season4  0.0  0.001\n",
      "Residual                      0.0  0.009\n",
      "\n",
      "                     IV1                 IV2      Corr\n",
      "Type         (Intercept)  Posted_WeekdayTrue          \n",
      "Type         (Intercept)             Season2          \n",
      "Type         (Intercept)             Season3          \n",
      "Type         (Intercept)             Season4          \n",
      "Type  Posted_WeekdayTrue             Season2 -0.776936\n",
      "Type  Posted_WeekdayTrue             Season3  -0.30147\n",
      "Type  Posted_WeekdayTrue             Season4   0.99582\n",
      "Type             Season2             Season3  0.834512\n",
      "Type             Season2             Season4 -0.831191\n",
      "Type             Season3             Season4 -0.387296\n",
      "\n",
      "Fixed effects:\n",
      "\n"
     ]
    },
    {
     "data": {
      "text/html": [
       "<div>\n",
       "<style scoped>\n",
       "    .dataframe tbody tr th:only-of-type {\n",
       "        vertical-align: middle;\n",
       "    }\n",
       "\n",
       "    .dataframe tbody tr th {\n",
       "        vertical-align: top;\n",
       "    }\n",
       "\n",
       "    .dataframe thead th {\n",
       "        text-align: right;\n",
       "    }\n",
       "</style>\n",
       "<table border=\"1\" class=\"dataframe\">\n",
       "  <thead>\n",
       "    <tr style=\"text-align: right;\">\n",
       "      <th></th>\n",
       "      <th>Estimate</th>\n",
       "      <th>2.5_ci</th>\n",
       "      <th>97.5_ci</th>\n",
       "      <th>SE</th>\n",
       "      <th>DF</th>\n",
       "      <th>T-stat</th>\n",
       "      <th>P-val</th>\n",
       "      <th>Sig</th>\n",
       "    </tr>\n",
       "  </thead>\n",
       "  <tbody>\n",
       "    <tr>\n",
       "      <th>(Intercept)</th>\n",
       "      <td>0.001</td>\n",
       "      <td>0.000</td>\n",
       "      <td>0.002</td>\n",
       "      <td>0.000</td>\n",
       "      <td>8453.869</td>\n",
       "      <td>3.266</td>\n",
       "      <td>0.001</td>\n",
       "      <td>**</td>\n",
       "    </tr>\n",
       "    <tr>\n",
       "      <th>Length</th>\n",
       "      <td>0.000</td>\n",
       "      <td>0.000</td>\n",
       "      <td>0.000</td>\n",
       "      <td>0.000</td>\n",
       "      <td>7871.405</td>\n",
       "      <td>2.821</td>\n",
       "      <td>0.005</td>\n",
       "      <td>**</td>\n",
       "    </tr>\n",
       "    <tr>\n",
       "      <th>Hashtags</th>\n",
       "      <td>-0.000</td>\n",
       "      <td>-0.000</td>\n",
       "      <td>0.000</td>\n",
       "      <td>0.000</td>\n",
       "      <td>8750.027</td>\n",
       "      <td>-0.208</td>\n",
       "      <td>0.835</td>\n",
       "      <td></td>\n",
       "    </tr>\n",
       "    <tr>\n",
       "      <th>Readability_Category2</th>\n",
       "      <td>-0.001</td>\n",
       "      <td>-0.001</td>\n",
       "      <td>-0.000</td>\n",
       "      <td>0.000</td>\n",
       "      <td>8922.964</td>\n",
       "      <td>-2.587</td>\n",
       "      <td>0.010</td>\n",
       "      <td>**</td>\n",
       "    </tr>\n",
       "    <tr>\n",
       "      <th>Readability_Category3</th>\n",
       "      <td>-0.000</td>\n",
       "      <td>-0.001</td>\n",
       "      <td>0.000</td>\n",
       "      <td>0.000</td>\n",
       "      <td>8625.581</td>\n",
       "      <td>-1.238</td>\n",
       "      <td>0.216</td>\n",
       "      <td></td>\n",
       "    </tr>\n",
       "    <tr>\n",
       "      <th>Posted_WeekdayTrue</th>\n",
       "      <td>0.000</td>\n",
       "      <td>-0.001</td>\n",
       "      <td>0.001</td>\n",
       "      <td>0.000</td>\n",
       "      <td>4.599</td>\n",
       "      <td>0.566</td>\n",
       "      <td>0.598</td>\n",
       "      <td></td>\n",
       "    </tr>\n",
       "    <tr>\n",
       "      <th>Season2</th>\n",
       "      <td>0.000</td>\n",
       "      <td>-0.001</td>\n",
       "      <td>0.001</td>\n",
       "      <td>0.000</td>\n",
       "      <td>9.496</td>\n",
       "      <td>0.410</td>\n",
       "      <td>0.691</td>\n",
       "      <td></td>\n",
       "    </tr>\n",
       "    <tr>\n",
       "      <th>Season3</th>\n",
       "      <td>0.000</td>\n",
       "      <td>-0.000</td>\n",
       "      <td>0.001</td>\n",
       "      <td>0.000</td>\n",
       "      <td>14.563</td>\n",
       "      <td>0.599</td>\n",
       "      <td>0.558</td>\n",
       "      <td></td>\n",
       "    </tr>\n",
       "    <tr>\n",
       "      <th>Season4</th>\n",
       "      <td>0.000</td>\n",
       "      <td>-0.001</td>\n",
       "      <td>0.001</td>\n",
       "      <td>0.001</td>\n",
       "      <td>4.794</td>\n",
       "      <td>0.718</td>\n",
       "      <td>0.506</td>\n",
       "      <td></td>\n",
       "    </tr>\n",
       "    <tr>\n",
       "      <th>Topic_LabelInformation post</th>\n",
       "      <td>-0.000</td>\n",
       "      <td>-0.001</td>\n",
       "      <td>-0.000</td>\n",
       "      <td>0.000</td>\n",
       "      <td>8340.492</td>\n",
       "      <td>-2.012</td>\n",
       "      <td>0.044</td>\n",
       "      <td>*</td>\n",
       "    </tr>\n",
       "    <tr>\n",
       "      <th>Topic_LabelRenumeration post</th>\n",
       "      <td>-0.001</td>\n",
       "      <td>-0.001</td>\n",
       "      <td>-0.000</td>\n",
       "      <td>0.000</td>\n",
       "      <td>7625.727</td>\n",
       "      <td>-2.220</td>\n",
       "      <td>0.026</td>\n",
       "      <td>*</td>\n",
       "    </tr>\n",
       "  </tbody>\n",
       "</table>\n",
       "</div>"
      ],
      "text/plain": [
       "                              Estimate  2.5_ci  97.5_ci     SE        DF  \\\n",
       "(Intercept)                      0.001   0.000    0.002  0.000  8453.869   \n",
       "Length                           0.000   0.000    0.000  0.000  7871.405   \n",
       "Hashtags                        -0.000  -0.000    0.000  0.000  8750.027   \n",
       "Readability_Category2           -0.001  -0.001   -0.000  0.000  8922.964   \n",
       "Readability_Category3           -0.000  -0.001    0.000  0.000  8625.581   \n",
       "Posted_WeekdayTrue               0.000  -0.001    0.001  0.000     4.599   \n",
       "Season2                          0.000  -0.001    0.001  0.000     9.496   \n",
       "Season3                          0.000  -0.000    0.001  0.000    14.563   \n",
       "Season4                          0.000  -0.001    0.001  0.001     4.794   \n",
       "Topic_LabelInformation post     -0.000  -0.001   -0.000  0.000  8340.492   \n",
       "Topic_LabelRenumeration post    -0.001  -0.001   -0.000  0.000  7625.727   \n",
       "\n",
       "                              T-stat  P-val Sig  \n",
       "(Intercept)                    3.266  0.001  **  \n",
       "Length                         2.821  0.005  **  \n",
       "Hashtags                      -0.208  0.835      \n",
       "Readability_Category2         -2.587  0.010  **  \n",
       "Readability_Category3         -1.238  0.216      \n",
       "Posted_WeekdayTrue             0.566  0.598      \n",
       "Season2                        0.410  0.691      \n",
       "Season3                        0.599  0.558      \n",
       "Season4                        0.718  0.506      \n",
       "Topic_LabelInformation post   -2.012  0.044   *  \n",
       "Topic_LabelRenumeration post  -2.220  0.026   *  "
      ]
     },
     "execution_count": 88,
     "metadata": {},
     "output_type": "execute_result"
    }
   ],
   "source": [
    "model = Lmer('Engagement ~ Length + Hashtags + Readability_Category + Posted_Weekday + Season + Topic_Label + (1 + Posted_Weekday + Season | Type)', data=df_multilvl)\n",
    "\n",
    "model.fit()"
   ]
  },
  {
   "cell_type": "code",
   "execution_count": 89,
   "metadata": {},
   "outputs": [
    {
     "data": {
      "text/html": [
       "<div>\n",
       "<style scoped>\n",
       "    .dataframe tbody tr th:only-of-type {\n",
       "        vertical-align: middle;\n",
       "    }\n",
       "\n",
       "    .dataframe tbody tr th {\n",
       "        vertical-align: top;\n",
       "    }\n",
       "\n",
       "    .dataframe thead th {\n",
       "        text-align: right;\n",
       "    }\n",
       "</style>\n",
       "<table border=\"1\" class=\"dataframe\">\n",
       "  <thead>\n",
       "    <tr style=\"text-align: right;\">\n",
       "      <th></th>\n",
       "      <th>(Intercept)</th>\n",
       "      <th>Length</th>\n",
       "      <th>Hashtags</th>\n",
       "      <th>Readability_Category2</th>\n",
       "      <th>Readability_Category3</th>\n",
       "      <th>Posted_WeekdayTrue</th>\n",
       "      <th>Season2</th>\n",
       "      <th>Season3</th>\n",
       "      <th>Season4</th>\n",
       "      <th>Topic_LabelInformation post</th>\n",
       "      <th>Topic_LabelRenumeration post</th>\n",
       "    </tr>\n",
       "  </thead>\n",
       "  <tbody>\n",
       "    <tr>\n",
       "      <th>0</th>\n",
       "      <td>0.001115</td>\n",
       "      <td>0.000012</td>\n",
       "      <td>-0.000008</td>\n",
       "      <td>-0.000595</td>\n",
       "      <td>-0.000348</td>\n",
       "      <td>0.000048</td>\n",
       "      <td>0.000442</td>\n",
       "      <td>0.000472</td>\n",
       "      <td>0.000045</td>\n",
       "      <td>-0.000437</td>\n",
       "      <td>-0.000581</td>\n",
       "    </tr>\n",
       "    <tr>\n",
       "      <th>1</th>\n",
       "      <td>0.001115</td>\n",
       "      <td>0.000012</td>\n",
       "      <td>-0.000008</td>\n",
       "      <td>-0.000595</td>\n",
       "      <td>-0.000348</td>\n",
       "      <td>-0.000121</td>\n",
       "      <td>0.000234</td>\n",
       "      <td>0.000196</td>\n",
       "      <td>-0.000085</td>\n",
       "      <td>-0.000437</td>\n",
       "      <td>-0.000581</td>\n",
       "    </tr>\n",
       "    <tr>\n",
       "      <th>2</th>\n",
       "      <td>0.001115</td>\n",
       "      <td>0.000012</td>\n",
       "      <td>-0.000008</td>\n",
       "      <td>-0.000595</td>\n",
       "      <td>-0.000348</td>\n",
       "      <td>-0.000179</td>\n",
       "      <td>0.000196</td>\n",
       "      <td>0.000137</td>\n",
       "      <td>-0.000143</td>\n",
       "      <td>-0.000437</td>\n",
       "      <td>-0.000581</td>\n",
       "    </tr>\n",
       "    <tr>\n",
       "      <th>3</th>\n",
       "      <td>0.001115</td>\n",
       "      <td>0.000012</td>\n",
       "      <td>-0.000008</td>\n",
       "      <td>-0.000595</td>\n",
       "      <td>-0.000348</td>\n",
       "      <td>0.001600</td>\n",
       "      <td>-0.000450</td>\n",
       "      <td>0.000023</td>\n",
       "      <td>0.002342</td>\n",
       "      <td>-0.000437</td>\n",
       "      <td>-0.000581</td>\n",
       "    </tr>\n",
       "    <tr>\n",
       "      <th>4</th>\n",
       "      <td>0.001115</td>\n",
       "      <td>0.000012</td>\n",
       "      <td>-0.000008</td>\n",
       "      <td>-0.000595</td>\n",
       "      <td>-0.000348</td>\n",
       "      <td>0.000039</td>\n",
       "      <td>0.000198</td>\n",
       "      <td>0.000210</td>\n",
       "      <td>0.000129</td>\n",
       "      <td>-0.000437</td>\n",
       "      <td>-0.000581</td>\n",
       "    </tr>\n",
       "    <tr>\n",
       "      <th>5</th>\n",
       "      <td>0.001115</td>\n",
       "      <td>0.000012</td>\n",
       "      <td>-0.000008</td>\n",
       "      <td>-0.000595</td>\n",
       "      <td>-0.000348</td>\n",
       "      <td>-0.000126</td>\n",
       "      <td>0.000255</td>\n",
       "      <td>0.000217</td>\n",
       "      <td>-0.000099</td>\n",
       "      <td>-0.000437</td>\n",
       "      <td>-0.000581</td>\n",
       "    </tr>\n",
       "  </tbody>\n",
       "</table>\n",
       "</div>"
      ],
      "text/plain": [
       "   (Intercept)    Length  Hashtags  Readability_Category2  \\\n",
       "0     0.001115  0.000012 -0.000008              -0.000595   \n",
       "1     0.001115  0.000012 -0.000008              -0.000595   \n",
       "2     0.001115  0.000012 -0.000008              -0.000595   \n",
       "3     0.001115  0.000012 -0.000008              -0.000595   \n",
       "4     0.001115  0.000012 -0.000008              -0.000595   \n",
       "5     0.001115  0.000012 -0.000008              -0.000595   \n",
       "\n",
       "   Readability_Category3  Posted_WeekdayTrue   Season2   Season3   Season4  \\\n",
       "0              -0.000348            0.000048  0.000442  0.000472  0.000045   \n",
       "1              -0.000348           -0.000121  0.000234  0.000196 -0.000085   \n",
       "2              -0.000348           -0.000179  0.000196  0.000137 -0.000143   \n",
       "3              -0.000348            0.001600 -0.000450  0.000023  0.002342   \n",
       "4              -0.000348            0.000039  0.000198  0.000210  0.000129   \n",
       "5              -0.000348           -0.000126  0.000255  0.000217 -0.000099   \n",
       "\n",
       "   Topic_LabelInformation post  Topic_LabelRenumeration post  \n",
       "0                    -0.000437                     -0.000581  \n",
       "1                    -0.000437                     -0.000581  \n",
       "2                    -0.000437                     -0.000581  \n",
       "3                    -0.000437                     -0.000581  \n",
       "4                    -0.000437                     -0.000581  \n",
       "5                    -0.000437                     -0.000581  "
      ]
     },
     "execution_count": 89,
     "metadata": {},
     "output_type": "execute_result"
    }
   ],
   "source": [
    "model.fixef"
   ]
  },
  {
   "cell_type": "markdown",
   "metadata": {},
   "source": [
    "Mapping Legend of 'Type' of park:\n",
    "\n",
    "\"Amusement park\": 0<br>\n",
    "\"Theme City\": 1<br>\n",
    "\"Theme park\":2<br>\n",
    "\"Theme Amusement Park\":3<br>\n",
    "\"Animal park\":4<br>\n",
    "\"Water park\":5"
   ]
  },
  {
   "cell_type": "markdown",
   "metadata": {},
   "source": [
    "### Performing checks for model assumptions"
   ]
  },
  {
   "cell_type": "markdown",
   "metadata": {},
   "source": [
    "**With the assumptions being the following:**\n",
    "\n",
    "* **Linearity:** The relationship between the dependent variable and each of the independent variables should be linear.\n",
    "* **Normality:** The residuals should be normally distributed."
   ]
  },
  {
   "cell_type": "code",
   "execution_count": 102,
   "metadata": {},
   "outputs": [
    {
     "data": {
      "image/png": "[encoded data removed]",
      "text/plain": [
       "<Figure size 1400x800 with 2 Axes>"
      ]
     },
     "metadata": {},
     "output_type": "display_data"
    }
   ],
   "source": [
    "# Extract residuals from your model - via ChatGPT\n",
    "residuals = model.residuals\n",
    "\n",
    "# Create subplots for Q-Q plot and KDE plot\n",
    "fig, axes = plt.subplots(1, 2, figsize=(14, 8))\n",
    "\n",
    "# Q-Q plot of the residuals\n",
    "sm.qqplot(residuals, stats.norm, line='s', ax=axes[0])\n",
    "axes[0].set_title('Q-Q Plot of Model Residuals')\n",
    "axes[0].set_xlabel('Theoretical Quantiles')\n",
    "axes[0].set_ylabel('Sample Quantiles')\n",
    "axes[0].set_ylim(-0.04, 0.05)  # Setting y-axis limits\n",
    "\n",
    "# KDE plot of the residuals\n",
    "sns.histplot(residuals, kde=True, ax=axes[1], stat='density', color='blue')\n",
    "sns.kdeplot(residuals, color='black', ax=axes[1])\n",
    "axes[1].set_title('KDE Plot of Model Residuals and Normal Distribution (Black)')\n",
    "axes[1].set_xlabel('Residuals')\n",
    "axes[1].set_ylim(0, 400)  # Setting y-axis limits\n",
    "axes[1].set_xlim (-0.05,0.05) # Setting x-axis limits\n",
    "\n",
    "plt.show()"
   ]
  },
  {
   "cell_type": "code",
   "execution_count": 103,
   "metadata": {},
   "outputs": [
    {
     "name": "stderr",
     "output_type": "stream",
     "text": [
      "c:\\Users\\Trabala\\anaconda3\\lib\\site-packages\\scipy\\stats\\_morestats.py:1816: UserWarning: p-value may not be accurate for N > 5000.\n",
      "  warnings.warn(\"p-value may not be accurate for N > 5000.\")\n"
     ]
    },
    {
     "data": {
      "text/plain": [
       "ShapiroResult(statistic=0.07062458992004395, pvalue=0.0)"
      ]
     },
     "execution_count": 103,
     "metadata": {},
     "output_type": "execute_result"
    }
   ],
   "source": [
    "#Shapiro test for the residuals\n",
    "stats.shapiro(residuals)"
   ]
  },
  {
   "cell_type": "markdown",
   "metadata": {},
   "source": [
    "In summary, both the Shapiro-Wilk test and the graphical examination of residuals suggest that the residuals do not adhere to a normal distribution. Consequently, the reliability of the mixed-effect multilevel model results is compromised, necessitating the consideration of an alternative modeling approach."
   ]
  }
 ],
 "metadata": {
  "kernelspec": {
   "display_name": "base",
   "language": "python",
   "name": "python3"
  },
  "language_info": {
   "codemirror_mode": {
    "name": "ipython",
    "version": 3
   },
   "file_extension": ".py",
   "mimetype": "text/x-python",
   "name": "python",
   "nbconvert_exporter": "python",
   "pygments_lexer": "ipython3",
   "version": "3.8.18"
  }
 },
 "nbformat": 4,
 "nbformat_minor": 2
}
